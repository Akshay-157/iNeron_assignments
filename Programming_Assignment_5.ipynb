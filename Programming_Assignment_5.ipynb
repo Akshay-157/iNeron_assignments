{
 "cells": [
  {
   "cell_type": "markdown",
   "id": "8e25c062",
   "metadata": {},
   "source": [
    "1. Write a Python Program to Find LCM?"
   ]
  },
  {
   "cell_type": "code",
   "execution_count": 1,
   "id": "6fe607be",
   "metadata": {},
   "outputs": [],
   "source": [
    "def lcm(x, y):\n",
    "    \"\"\"Find the lcm of two numbers\"\"\"\n",
    "    if x > y:\n",
    "        great = x\n",
    "    else:\n",
    "        great = y\n",
    "        \n",
    "    while(True):\n",
    "        if ((great%x == 0) and (great%y == 0)):\n",
    "            lcm = great\n",
    "            break\n",
    "        great+=1    \n",
    "    return lcm\n",
    "    "
   ]
  },
  {
   "cell_type": "code",
   "execution_count": 2,
   "id": "ce09955b",
   "metadata": {},
   "outputs": [
    {
     "data": {
      "text/plain": [
       "216"
      ]
     },
     "execution_count": 2,
     "metadata": {},
     "output_type": "execute_result"
    }
   ],
   "source": [
    "lcm(24,54)"
   ]
  },
  {
   "cell_type": "markdown",
   "id": "15d698d0",
   "metadata": {},
   "source": [
    "2. Write a Python Program to Find HCF?"
   ]
  },
  {
   "cell_type": "code",
   "execution_count": 3,
   "id": "d3d57de1",
   "metadata": {},
   "outputs": [],
   "source": [
    "def hcf(x, y):\n",
    "    \"\"\"Find the hcf of two numbers\"\"\"\n",
    "    if x > y:\n",
    "        small = y\n",
    "    else:\n",
    "        small = x\n",
    "        \n",
    "    for i in range(1, small+1):\n",
    "        if ((x%i == 0) and (y%i == 0)):\n",
    "            hcf = i\n",
    "    return hcf\n",
    "    "
   ]
  },
  {
   "cell_type": "code",
   "execution_count": 4,
   "id": "6b03f918",
   "metadata": {},
   "outputs": [
    {
     "data": {
      "text/plain": [
       "6"
      ]
     },
     "execution_count": 4,
     "metadata": {},
     "output_type": "execute_result"
    }
   ],
   "source": [
    "hcf(24,54)"
   ]
  },
  {
   "cell_type": "markdown",
   "id": "5c4e2291",
   "metadata": {},
   "source": [
    "3. Write a Python Program to Convert Decimal to Binary, Octal and Hexadecimal?"
   ]
  },
  {
   "cell_type": "code",
   "execution_count": 5,
   "id": "4db43d98",
   "metadata": {},
   "outputs": [],
   "source": [
    "def convert_Decimal(decimal):\n",
    "    \"\"\"Convert a decimal number into Binary, Octal and Hexadecimal\"\"\"\n",
    "    \n",
    "    print(f\"Binary value of {decimal} is \", bin(decimal))\n",
    "    print(f\"Octal value of {decimal} is \", oct(decimal))\n",
    "    print(f\"Hexadecimal value of {decimal} is \", hex(decimal))"
   ]
  },
  {
   "cell_type": "code",
   "execution_count": 6,
   "id": "d96d99db",
   "metadata": {},
   "outputs": [
    {
     "name": "stdout",
     "output_type": "stream",
     "text": [
      "Binary value of 10 is  0b1010\n",
      "Octal value of 10 is  0o12\n",
      "Hexadecimal value of 10 is  0xa\n"
     ]
    }
   ],
   "source": [
    "convert_Decimal(10)"
   ]
  },
  {
   "cell_type": "markdown",
   "id": "7b79ce04",
   "metadata": {},
   "source": [
    "4. Write a Python Program To Find ASCII value of a character?"
   ]
  },
  {
   "cell_type": "code",
   "execution_count": 7,
   "id": "4c0e4a4c",
   "metadata": {},
   "outputs": [],
   "source": [
    "def ascii_convert(char):\n",
    "    print(f\"The ASCII value of {char} is \", ord(char))"
   ]
  },
  {
   "cell_type": "code",
   "execution_count": 8,
   "id": "d033f963",
   "metadata": {},
   "outputs": [
    {
     "name": "stdout",
     "output_type": "stream",
     "text": [
      "The ASCII value of A is  65\n"
     ]
    }
   ],
   "source": [
    "ascii_convert(\"A\")"
   ]
  },
  {
   "cell_type": "markdown",
   "id": "a7430887",
   "metadata": {},
   "source": [
    "5. Write a Python Program to Make a Simple Calculator with 4 basic mathematical operations?"
   ]
  },
  {
   "cell_type": "code",
   "execution_count": 12,
   "id": "75504c99",
   "metadata": {},
   "outputs": [],
   "source": [
    "def calculater():\n",
    "    def add(x,y):\n",
    "        return x+y\n",
    "\n",
    "    def subtract(x,y):\n",
    "        return x-y\n",
    "\n",
    "    def multiply(x,y):\n",
    "        return x*y\n",
    "\n",
    "    def divide(x,y):\n",
    "        return x/y\n",
    "    \n",
    "    def next_calc():\n",
    "        next_calculation = input(\"Let's do next calculation? (yes/no): \")\n",
    "        if next_calculation == 'no':\n",
    "            return\n",
    "        else:\n",
    "            calculater()\n",
    "            \n",
    "    print(\"Let's calculate...!!!\")\n",
    "    print(\"Enter 1st number:\", end=\" \")\n",
    "    num1 = int(input())\n",
    "\n",
    "    print(\"Enter 2nd number:\", end=\" \")\n",
    "    num2 = int(input())\n",
    "\n",
    "    print(\"Select operation\\n 1.Add\\n 2.Subtract\\n 3.Multiply\\n 4.Divide\")\n",
    "    print(\"Enter operation choice: \", end=\" \")\n",
    "    operation = int(input())\n",
    "\n",
    "    if operation == 1:\n",
    "        print(f\"{num1} + {num2} = \", add(num1, num2))\n",
    "        next_calc()\n",
    "\n",
    "    elif operation == 2:\n",
    "        print(f\"{num1} - {num2} = \", subtract(num1, num2))\n",
    "        next_calc()\n",
    "\n",
    "    elif operation == 3:\n",
    "        print(f\"{num1} * {num2} = \", multiply(num1, num2))\n",
    "        next_calc()\n",
    "\n",
    "    elif operation == 4:\n",
    "        print(f\"{num1} / {num2} = \", divide(num1, num2))\n",
    "        next_calc()\n",
    "\n",
    "    else:\n",
    "        print(\"Invalid Input..!!!, Please try again..!!\")\n",
    "        return\n",
    "            \n",
    "    "
   ]
  },
  {
   "cell_type": "code",
   "execution_count": 13,
   "id": "5cbea6f5",
   "metadata": {},
   "outputs": [
    {
     "name": "stdout",
     "output_type": "stream",
     "text": [
      "Let's calculate...!!!\n",
      "Enter 1st number: 1\n",
      "Enter 2nd number: 2\n",
      "Select operation\n",
      " 1.Add\n",
      " 2.Subtract\n",
      " 3.Multiply\n",
      " 4.Divide\n",
      "Enter operation choice:  3\n",
      "1 * 2 =  2\n",
      "Let's do next calculation? (yes/no): yes\n",
      "Let's calculate...!!!\n",
      "Enter 1st number: 2\n",
      "Enter 2nd number: 4\n",
      "Select operation\n",
      " 1.Add\n",
      " 2.Subtract\n",
      " 3.Multiply\n",
      " 4.Divide\n",
      "Enter operation choice:  2\n",
      "2 - 4 =  -2\n",
      "Let's do next calculation? (yes/no): no\n"
     ]
    }
   ],
   "source": [
    "calculater()"
   ]
  },
  {
   "cell_type": "code",
   "execution_count": null,
   "id": "1fceef75",
   "metadata": {},
   "outputs": [],
   "source": []
  }
 ],
 "metadata": {
  "kernelspec": {
   "display_name": "Python 3 (ipykernel)",
   "language": "python",
   "name": "python3"
  },
  "language_info": {
   "codemirror_mode": {
    "name": "ipython",
    "version": 3
   },
   "file_extension": ".py",
   "mimetype": "text/x-python",
   "name": "python",
   "nbconvert_exporter": "python",
   "pygments_lexer": "ipython3",
   "version": "3.9.7"
  }
 },
 "nbformat": 4,
 "nbformat_minor": 5
}
