{
 "cells": [
  {
   "cell_type": "markdown",
   "id": "95715c4f",
   "metadata": {},
   "source": [
    "1. Write a Python Program to find sum of array?"
   ]
  },
  {
   "cell_type": "code",
   "execution_count": 1,
   "id": "a490881a",
   "metadata": {},
   "outputs": [
    {
     "name": "stdout",
     "output_type": "stream",
     "text": [
      "Enter the count of elements for which you want to calculate sum: 5\n",
      "Enter 5 values\n",
      "1\n",
      "2\n",
      "3\n",
      "4\n",
      "5\n",
      "Array:  [1, 2, 3, 4, 5]\n",
      "The sum of the array of element is:  15\n"
     ]
    }
   ],
   "source": [
    "print(\"Enter the count of elements for which you want to calculate sum: \", end = \"\")\n",
    "count = int(input())\n",
    "array = []\n",
    "print(f\"Enter {count} values\") \n",
    "for i in range(count):\n",
    "    array.append(int(input()))\n",
    "print(\"Array: \", array)    \n",
    "print(\"The sum of the array of element is: \", sum(array))"
   ]
  },
  {
   "cell_type": "markdown",
   "id": "f3e65081",
   "metadata": {},
   "source": [
    "2. Write a Python Program to find largest element in an array?"
   ]
  },
  {
   "cell_type": "code",
   "execution_count": 2,
   "id": "9c2f83fd",
   "metadata": {},
   "outputs": [
    {
     "data": {
      "text/plain": [
       "9808"
      ]
     },
     "execution_count": 2,
     "metadata": {},
     "output_type": "execute_result"
    }
   ],
   "source": [
    "arr = [10, 324, 45, 90, 9808]\n",
    "max(arr) #this returns the largest element in the array"
   ]
  },
  {
   "cell_type": "markdown",
   "id": "1e631d44",
   "metadata": {},
   "source": [
    "3. Write a Python Program for array rotation?"
   ]
  },
  {
   "cell_type": "code",
   "execution_count": 3,
   "id": "bb05703f",
   "metadata": {},
   "outputs": [],
   "source": [
    "def rotateArray(array, arraylength, degree_of_rotation):\n",
    "    temp = []\n",
    "    i = 0\n",
    "    while (i < degree_of_rotation):\n",
    "        temp.append(array[i])\n",
    "        i = i + 1\n",
    "    i = 0\n",
    "    while (degree_of_rotation < arraylength):\n",
    "        arr[i] = arr[degree_of_rotation]\n",
    "        i = i +1\n",
    "        degree_of_rotation = degree_of_rotation + 1\n",
    "    array[:] = array[: i] + temp\n",
    "    print(array)\n",
    "    "
   ]
  },
  {
   "cell_type": "code",
   "execution_count": 4,
   "id": "16ded7e1",
   "metadata": {},
   "outputs": [
    {
     "name": "stdout",
     "output_type": "stream",
     "text": [
      "[45, 90, 9808, 10, 324]\n"
     ]
    }
   ],
   "source": [
    "arr = [10, 324, 45, 90, 9808]\n",
    "rotateArray(arr, len(arr), 2)"
   ]
  },
  {
   "cell_type": "markdown",
   "id": "9b972716",
   "metadata": {},
   "source": [
    "4. Write a Python Program to Split the array and add the first part to the end?"
   ]
  },
  {
   "cell_type": "code",
   "execution_count": 5,
   "id": "f6792bfd",
   "metadata": {},
   "outputs": [],
   "source": [
    "def splitArray(array):\n",
    "    half = len(array)//2\n",
    "    half_1 = array[:half]\n",
    "    half_2 = array[half:]\n",
    "    print(half_2+half_1)"
   ]
  },
  {
   "cell_type": "code",
   "execution_count": 6,
   "id": "9db4af4e",
   "metadata": {},
   "outputs": [
    {
     "name": "stdout",
     "output_type": "stream",
     "text": [
      "[45, 90, 9808, 10, 324]\n"
     ]
    }
   ],
   "source": [
    "arr = [10, 324, 45, 90, 9808]\n",
    "splitArray(arr)"
   ]
  },
  {
   "cell_type": "markdown",
   "id": "103575cb",
   "metadata": {},
   "source": [
    "5. Write a Python Program to check if given array is Monotonic?"
   ]
  },
  {
   "cell_type": "code",
   "execution_count": 7,
   "id": "eda99365",
   "metadata": {},
   "outputs": [],
   "source": [
    "def isMonotonic(array):\n",
    "    return(all(array[i] <= array[i+1] for i in range(len(array)-1)) or all(array[i] >= array[i+1] for i in range(len(array)-1)))"
   ]
  },
  {
   "cell_type": "code",
   "execution_count": 8,
   "id": "b2a1e1fc",
   "metadata": {},
   "outputs": [
    {
     "data": {
      "text/plain": [
       "True"
      ]
     },
     "execution_count": 8,
     "metadata": {},
     "output_type": "execute_result"
    }
   ],
   "source": [
    "isMonotonic([10, 24, 45, 90, 9808])"
   ]
  }
 ],
 "metadata": {
  "kernelspec": {
   "display_name": "Python 3 (ipykernel)",
   "language": "python",
   "name": "python3"
  },
  "language_info": {
   "codemirror_mode": {
    "name": "ipython",
    "version": 3
   },
   "file_extension": ".py",
   "mimetype": "text/x-python",
   "name": "python",
   "nbconvert_exporter": "python",
   "pygments_lexer": "ipython3",
   "version": "3.9.7"
  }
 },
 "nbformat": 4,
 "nbformat_minor": 5
}
