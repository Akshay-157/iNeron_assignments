{
 "cells": [
  {
   "cell_type": "markdown",
   "id": "1a55a561",
   "metadata": {},
   "source": [
    "Question 1:\n",
    "\n",
    "Please write a program using generator to print the numbers which can be divisible by 5 and 7 between 0 and n in comma separated form while n is input by console.\n"
   ]
  },
  {
   "cell_type": "code",
   "execution_count": 1,
   "id": "bafaae65",
   "metadata": {},
   "outputs": [],
   "source": [
    "def generator(number):\n",
    "    for num in range(number+1):\n",
    "        if num%5==0 and num%7==0:\n",
    "            yield num"
   ]
  },
  {
   "cell_type": "code",
   "execution_count": 2,
   "id": "3600659d",
   "metadata": {},
   "outputs": [
    {
     "name": "stdout",
     "output_type": "stream",
     "text": [
      "Enter a number: 100\n",
      "0,35,70,"
     ]
    }
   ],
   "source": [
    "number = int(input(\"Enter a number: \"))\n",
    "for numbs in generator(number):\n",
    "    print(numbs, end=',')"
   ]
  },
  {
   "cell_type": "markdown",
   "id": "67bce4a7",
   "metadata": {},
   "source": [
    "Question 2:\n",
    "\n",
    "Please write a program using generator to print the even numbers between 0 and n in comma separated form while n is input by console.\n"
   ]
  },
  {
   "cell_type": "code",
   "execution_count": 3,
   "id": "9be8dbdf",
   "metadata": {},
   "outputs": [],
   "source": [
    "def even_generator(number):\n",
    "    for num in range(number+1):\n",
    "        if num%2==0:\n",
    "            yield num"
   ]
  },
  {
   "cell_type": "code",
   "execution_count": 4,
   "id": "d7fbdf85",
   "metadata": {},
   "outputs": [
    {
     "name": "stdout",
     "output_type": "stream",
     "text": [
      "Enter a number: 10\n",
      "0,2,4,6,8,10,"
     ]
    }
   ],
   "source": [
    "number = int(input(\"Enter a number: \"))\n",
    "for numbs in even_generator(number):\n",
    "    print(numbs, end=',')"
   ]
  },
  {
   "cell_type": "markdown",
   "id": "bb13f547",
   "metadata": {},
   "source": [
    "Question 3:\n",
    "\n",
    "The Fibonacci Sequence is computed based on the following formula:\n",
    "\n",
    "f(n)=0 if n=0\n",
    "\n",
    "f(n)=1 if n=1\n",
    "\n",
    "f(n)=f(n-1)+f(n-2) if n>1\n",
    "\n",
    "Please write a program using list comprehension to print the Fibonacci Sequence in comma separated form with a given n input by console.\n"
   ]
  },
  {
   "cell_type": "code",
   "execution_count": 5,
   "id": "a68e181b",
   "metadata": {},
   "outputs": [],
   "source": [
    "def fibonacci(number):\n",
    "    a = 0\n",
    "    b = 1\n",
    "    for i in range(number+1):\n",
    "        yield a\n",
    "        a,b = b, a+b"
   ]
  },
  {
   "cell_type": "code",
   "execution_count": 6,
   "id": "42f2c964",
   "metadata": {},
   "outputs": [
    {
     "name": "stdout",
     "output_type": "stream",
     "text": [
      "Enter a number: 7\n",
      "0,1,1,2,3,5,8,13,"
     ]
    }
   ],
   "source": [
    "number = int(input(\"Enter a number: \"))\n",
    "for numbs in fibonacci(number):\n",
    "    print(numbs, end=',')"
   ]
  },
  {
   "cell_type": "markdown",
   "id": "42544833",
   "metadata": {},
   "source": [
    "Question 4:\n",
    "\n",
    "Assuming that we have some email addresses in the \"username@companyname.com\" format, please write program to print the user name of a given email address. Both user names and company names are composed of letters only.\n"
   ]
  },
  {
   "cell_type": "code",
   "execution_count": 7,
   "id": "98519559",
   "metadata": {},
   "outputs": [],
   "source": [
    "def username(emailid):\n",
    "    username = emailid.split(\"@\")[0]\n",
    "    return username"
   ]
  },
  {
   "cell_type": "code",
   "execution_count": 8,
   "id": "635e3c09",
   "metadata": {},
   "outputs": [
    {
     "data": {
      "text/plain": [
       "'john'"
      ]
     },
     "execution_count": 8,
     "metadata": {},
     "output_type": "execute_result"
    }
   ],
   "source": [
    "username(\"john@google.com\")"
   ]
  },
  {
   "cell_type": "markdown",
   "id": "e725c1db",
   "metadata": {},
   "source": [
    "Question 5:\n",
    "\n",
    "Define a class named Shape and its subclass Square. The Square class has an init function which takes a length as argument. Both classes have a area function which can print the area of the shape where Shape's area is 0 by default.\n"
   ]
  },
  {
   "cell_type": "code",
   "execution_count": 9,
   "id": "f5e765db",
   "metadata": {},
   "outputs": [],
   "source": [
    "class Shape:\n",
    "    def __init__(self):\n",
    "        pass\n",
    "    \n",
    "    def area(self):\n",
    "        return 0\n",
    "    \n",
    "\n",
    "class Square(Shape):\n",
    "    def __init__(self, length):\n",
    "        self.length = length\n",
    "    \n",
    "    def area(self):\n",
    "        return self.length**2"
   ]
  },
  {
   "cell_type": "code",
   "execution_count": 10,
   "id": "a38cb4fd",
   "metadata": {},
   "outputs": [],
   "source": [
    "sq = Square(5)"
   ]
  },
  {
   "cell_type": "code",
   "execution_count": 11,
   "id": "a6045e9f",
   "metadata": {},
   "outputs": [
    {
     "data": {
      "text/plain": [
       "25"
      ]
     },
     "execution_count": 11,
     "metadata": {},
     "output_type": "execute_result"
    }
   ],
   "source": [
    "sq.area()"
   ]
  },
  {
   "cell_type": "code",
   "execution_count": null,
   "id": "568dcca5",
   "metadata": {},
   "outputs": [],
   "source": []
  }
 ],
 "metadata": {
  "kernelspec": {
   "display_name": "python_test",
   "language": "python",
   "name": "python_test"
  },
  "language_info": {
   "codemirror_mode": {
    "name": "ipython",
    "version": 3
   },
   "file_extension": ".py",
   "mimetype": "text/x-python",
   "name": "python",
   "nbconvert_exporter": "python",
   "pygments_lexer": "ipython3",
   "version": "3.9.7"
  }
 },
 "nbformat": 4,
 "nbformat_minor": 5
}
