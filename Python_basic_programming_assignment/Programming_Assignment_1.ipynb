{
 "cells": [
  {
   "cell_type": "markdown",
   "id": "ea7030b2",
   "metadata": {},
   "source": [
    "1. Write a Python program to print &quot;Hello Python&quot;?"
   ]
  },
  {
   "cell_type": "code",
   "execution_count": 1,
   "id": "864e261e",
   "metadata": {},
   "outputs": [
    {
     "name": "stdout",
     "output_type": "stream",
     "text": [
      "Hello Python\n"
     ]
    }
   ],
   "source": [
    "print(\"Hello Python\")"
   ]
  },
  {
   "cell_type": "markdown",
   "id": "42b45645",
   "metadata": {},
   "source": [
    "2. Write a Python program to do arithmetical operations addition and division.?"
   ]
  },
  {
   "cell_type": "code",
   "execution_count": 2,
   "id": "34f495ff",
   "metadata": {},
   "outputs": [],
   "source": [
    "def addition(num1, num2):\n",
    "    \"\"\"Return the additon of two numbers\"\"\"\n",
    "    \n",
    "    return num1 + num2\n",
    "\n",
    "def division(num1, num2):\n",
    "    \"\"\"Return the division of two numbers\"\"\"\n",
    "    \n",
    "    return num1 / num2 "
   ]
  },
  {
   "cell_type": "code",
   "execution_count": 3,
   "id": "556076a7",
   "metadata": {},
   "outputs": [
    {
     "data": {
      "text/plain": [
       "5"
      ]
     },
     "execution_count": 3,
     "metadata": {},
     "output_type": "execute_result"
    }
   ],
   "source": [
    "addition(2, 3)"
   ]
  },
  {
   "cell_type": "code",
   "execution_count": 4,
   "id": "5900ddbc",
   "metadata": {},
   "outputs": [
    {
     "data": {
      "text/plain": [
       "0.6666666666666666"
      ]
     },
     "execution_count": 4,
     "metadata": {},
     "output_type": "execute_result"
    }
   ],
   "source": [
    "division(2,3)"
   ]
  },
  {
   "cell_type": "markdown",
   "id": "df8cf4a3",
   "metadata": {},
   "source": [
    "3. Write a Python program to find the area of a triangle?"
   ]
  },
  {
   "cell_type": "code",
   "execution_count": 5,
   "id": "8826c7bc",
   "metadata": {},
   "outputs": [],
   "source": [
    "def areaOfTriangle(base, height):\n",
    "    \"\"\"Return the area of triangle. area of triangle = 1/2 *(base * heeight)\"\"\"\n",
    "    area = (base*height) / 2\n",
    "    \n",
    "    return area"
   ]
  },
  {
   "cell_type": "code",
   "execution_count": 6,
   "id": "09f7d24b",
   "metadata": {},
   "outputs": [
    {
     "data": {
      "text/plain": [
       "100.0"
      ]
     },
     "execution_count": 6,
     "metadata": {},
     "output_type": "execute_result"
    }
   ],
   "source": [
    "areaOfTriangle(20, 10)"
   ]
  },
  {
   "cell_type": "markdown",
   "id": "68edaa1a",
   "metadata": {},
   "source": [
    "4. Write a Python program to swap two variables?"
   ]
  },
  {
   "cell_type": "code",
   "execution_count": 7,
   "id": "f7ed0028",
   "metadata": {},
   "outputs": [],
   "source": [
    "def swap(a, b):\n",
    "    \"\"\"Return the swapped values of the two variables\"\"\"\n",
    "    print(f\"Before swap a={a}, b={b}\")\n",
    "    a,b = b, a\n",
    "    print(f\"After swap a={a}, b={b}\")\n",
    "    \n",
    "    #return a, b"
   ]
  },
  {
   "cell_type": "code",
   "execution_count": 8,
   "id": "3754f93d",
   "metadata": {},
   "outputs": [
    {
     "name": "stdout",
     "output_type": "stream",
     "text": [
      "Before swap a=1, b=2\n",
      "After swap a=2, b=1\n"
     ]
    }
   ],
   "source": [
    "swap(1,2)"
   ]
  },
  {
   "cell_type": "markdown",
   "id": "721d0a0f",
   "metadata": {},
   "source": [
    "5. Write a Python program to generate a random number?"
   ]
  },
  {
   "cell_type": "code",
   "execution_count": 9,
   "id": "18e81e3d",
   "metadata": {},
   "outputs": [],
   "source": [
    "import random\n",
    "\n",
    "def genRandNum():\n",
    "    return(random.randint(0,9))"
   ]
  },
  {
   "cell_type": "code",
   "execution_count": 10,
   "id": "e9307e0d",
   "metadata": {},
   "outputs": [
    {
     "data": {
      "text/plain": [
       "3"
      ]
     },
     "execution_count": 10,
     "metadata": {},
     "output_type": "execute_result"
    }
   ],
   "source": [
    "genRandNum()"
   ]
  },
  {
   "cell_type": "code",
   "execution_count": null,
   "id": "dbe7484d",
   "metadata": {},
   "outputs": [],
   "source": []
  },
  {
   "cell_type": "code",
   "execution_count": null,
   "id": "e0b78edb",
   "metadata": {},
   "outputs": [],
   "source": []
  }
 ],
 "metadata": {
  "kernelspec": {
   "display_name": "Python 3 (ipykernel)",
   "language": "python",
   "name": "python3"
  },
  "language_info": {
   "codemirror_mode": {
    "name": "ipython",
    "version": 3
   },
   "file_extension": ".py",
   "mimetype": "text/x-python",
   "name": "python",
   "nbconvert_exporter": "python",
   "pygments_lexer": "ipython3",
   "version": "3.9.7"
  }
 },
 "nbformat": 4,
 "nbformat_minor": 5
}
