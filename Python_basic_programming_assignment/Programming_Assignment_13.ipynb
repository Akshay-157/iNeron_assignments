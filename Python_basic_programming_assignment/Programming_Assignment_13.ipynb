{
 "cells": [
  {
   "cell_type": "markdown",
   "id": "15aa6ad2",
   "metadata": {},
   "source": [
    "Question 1:\n",
    "\n",
    "Write a program that calculates and prints the value according to the given formula:\n",
    "\n",
    "Q = Square root of [(2 * C * D)/H]\n",
    "\n",
    "Following are the fixed values of C and H:\n",
    "\n",
    "C is 50. H is 30.\n",
    "\n",
    "D is the variable whose values should be input to your program in a comma-separated sequence.\n"
   ]
  },
  {
   "cell_type": "code",
   "execution_count": 1,
   "id": "ebb5a067",
   "metadata": {},
   "outputs": [],
   "source": [
    "import math\n",
    "def Square_root(C, D, H):\n",
    "    x = []\n",
    "    for ele in D:\n",
    "        x.append(round(math.sqrt((2*C*ele)//H)))\n",
    "    return x"
   ]
  },
  {
   "cell_type": "code",
   "execution_count": 2,
   "id": "424f191d",
   "metadata": {},
   "outputs": [
    {
     "data": {
      "text/plain": [
       "[18, 22, 24]"
      ]
     },
     "execution_count": 2,
     "metadata": {},
     "output_type": "execute_result"
    }
   ],
   "source": [
    "C=50\n",
    "H=30\n",
    "D = [100,150,180]\n",
    "Square_root(C, D, H)"
   ]
  },
  {
   "cell_type": "markdown",
   "id": "f7c8b3a8",
   "metadata": {},
   "source": [
    "Question 2:\n",
    "\n",
    "Write a program which takes 2 digits, X,Y as input and generates a 2-dimensional array. The element value in the i-th row and j-th column of the array should be i*j.\n",
    "\n",
    "Note: i=0,1.., X-1; j=0,1,¡¬Y-1.\n"
   ]
  },
  {
   "cell_type": "code",
   "execution_count": 3,
   "id": "98c30f33",
   "metadata": {},
   "outputs": [],
   "source": [
    "def generate_array(X,Y):\n",
    "    return [[i*j for j in range(Y)] for i in range(X)]"
   ]
  },
  {
   "cell_type": "code",
   "execution_count": 4,
   "id": "749c5968",
   "metadata": {},
   "outputs": [
    {
     "data": {
      "text/plain": [
       "[[0, 0, 0, 0, 0], [0, 1, 2, 3, 4], [0, 2, 4, 6, 8]]"
      ]
     },
     "execution_count": 4,
     "metadata": {},
     "output_type": "execute_result"
    }
   ],
   "source": [
    "generate_array(3, 5)"
   ]
  },
  {
   "cell_type": "markdown",
   "id": "4e11ff25",
   "metadata": {},
   "source": [
    "Question 3:\n",
    "\n",
    "Write a program that accepts a comma separated sequence of words as input and prints the words in a comma-separated sequence after sorting them alphabetically.\n"
   ]
  },
  {
   "cell_type": "code",
   "execution_count": 5,
   "id": "62545772",
   "metadata": {},
   "outputs": [],
   "source": [
    "def sort_list(arr):\n",
    "    return sorted(arr)"
   ]
  },
  {
   "cell_type": "code",
   "execution_count": 6,
   "id": "9a38bf44",
   "metadata": {},
   "outputs": [
    {
     "data": {
      "text/plain": [
       "['bag', 'hello', 'without', 'world']"
      ]
     },
     "execution_count": 6,
     "metadata": {},
     "output_type": "execute_result"
    }
   ],
   "source": [
    "sort_list([\"without\",\"hello\",\"bag\",\"world\"])"
   ]
  },
  {
   "cell_type": "markdown",
   "id": "eebc1a93",
   "metadata": {},
   "source": [
    "Question 4:\n",
    "\n",
    "Write a program that accepts a sequence of whitespace separated words as input and prints the words after removing all duplicate words and sorting them alphanumerically.\n"
   ]
  },
  {
   "cell_type": "code",
   "execution_count": 7,
   "id": "91583e06",
   "metadata": {},
   "outputs": [],
   "source": [
    "def sort_list2(arr):\n",
    "    arr = arr.split(\" \")\n",
    "    return \" \".join(sorted(set(arr)))"
   ]
  },
  {
   "cell_type": "code",
   "execution_count": 8,
   "id": "ac1fd8f4",
   "metadata": {},
   "outputs": [
    {
     "data": {
      "text/plain": [
       "'again and hello makes perfect practice world'"
      ]
     },
     "execution_count": 8,
     "metadata": {},
     "output_type": "execute_result"
    }
   ],
   "source": [
    "sort_list2(\"hello world and practice makes perfect and hello world again\")"
   ]
  },
  {
   "cell_type": "markdown",
   "id": "d6f583c2",
   "metadata": {},
   "source": [
    "Question 5:\n",
    "\n",
    "Write a program that accepts a sentence and calculate the number of letters and digits.\n"
   ]
  },
  {
   "cell_type": "code",
   "execution_count": 9,
   "id": "d59fb40f",
   "metadata": {},
   "outputs": [
    {
     "name": "stdout",
     "output_type": "stream",
     "text": [
      "LETTERS  10\n",
      "DIGITS  3\n"
     ]
    }
   ],
   "source": [
    "import re\n",
    "string = \"hello world! 123\"\n",
    "\n",
    "digits = len(re.findall(\"[0-9]\", string))\n",
    "letters = len(re.findall(\"[A-z]\", string))\n",
    "\n",
    "print(\"LETTERS \", letters)\n",
    "print(\"DIGITS \", digits)"
   ]
  },
  {
   "cell_type": "markdown",
   "id": "e33b0c5c",
   "metadata": {},
   "source": [
    "Question 6:\n",
    "\n",
    "A website requires the users to input username and password to register. Write a program to check the validity of password input by users.\n",
    "\n",
    "Following are the criteria for checking the password:\n",
    "\n",
    "1. At least 1 letter between [a-z]\n",
    "\n",
    "2. At least 1 number between [0-9]\n",
    "\n",
    "1. At least 1 letter between [A-Z]\n",
    "\n",
    "3. At least 1 character from [$#@]\n",
    "\n",
    "4. Minimum length of transaction password: 6\n",
    "\n",
    "5. Maximum length of transaction password: 12\n",
    "\n",
    "Your program should accept a sequence of comma separated passwords and will check them according to the above criteria. Passwords that match the criteria are to be printed, each separated by a comma.\n"
   ]
  },
  {
   "cell_type": "code",
   "execution_count": 10,
   "id": "8a57661e",
   "metadata": {},
   "outputs": [
    {
     "name": "stdout",
     "output_type": "stream",
     "text": [
      "Enter a sequence of comma separated passwords: ABd1234@1,a F1#,2w3E*,2We3345\n",
      "ABd1234@1\n"
     ]
    }
   ],
   "source": [
    "import re\n",
    "\n",
    "passwords = input(\"Enter a sequence of comma separated passwords: \").split(\",\")\n",
    "\n",
    "reg = \"^(?=\\S{6,12}$)(?=.*?\\d)(?=.*?[a-z])(?=.*?[A-Z])(?=.*?[^A-Za-z\\s0-9])\"\n",
    "\n",
    "for pwd in passwords:\n",
    "    pat = re.compile(reg)\n",
    "    mat = re.search(pat, pwd)\n",
    "    if mat:\n",
    "        print(pwd)"
   ]
  },
  {
   "cell_type": "code",
   "execution_count": null,
   "id": "b69bfd9b",
   "metadata": {},
   "outputs": [],
   "source": []
  }
 ],
 "metadata": {
  "kernelspec": {
   "display_name": "python_test",
   "language": "python",
   "name": "python_test"
  },
  "language_info": {
   "codemirror_mode": {
    "name": "ipython",
    "version": 3
   },
   "file_extension": ".py",
   "mimetype": "text/x-python",
   "name": "python",
   "nbconvert_exporter": "python",
   "pygments_lexer": "ipython3",
   "version": "3.9.7"
  }
 },
 "nbformat": 4,
 "nbformat_minor": 5
}
