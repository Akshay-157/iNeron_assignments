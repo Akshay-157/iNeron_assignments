{
 "cells": [
  {
   "cell_type": "markdown",
   "id": "85a08fae",
   "metadata": {},
   "source": [
    "1. What is the result of the code, and explain?\n"
   ]
  },
  {
   "cell_type": "raw",
   "id": "eb1489e4",
   "metadata": {},
   "source": [
    ">>> X = 'iNeuron'\n",
    ">>> def func():\n",
    "print(X)\n",
    "\n",
    "\n",
    ">>> func()\n"
   ]
  },
  {
   "cell_type": "raw",
   "id": "987fbac2",
   "metadata": {},
   "source": [
    "The output of this code would be:\n",
    "\n",
    "iNeuron\n",
    "\n",
    "Explanation:\n",
    "\n",
    "In this code, we have a global variable X defined with the value 'iNeuron'. Then we have a function func defined which just prints the value of X. When we call func, it prints the value of X which is 'iNeuron'. This is because the variable X is accessible within the scope of the function func."
   ]
  },
  {
   "cell_type": "markdown",
   "id": "38cb1cc1",
   "metadata": {},
   "source": [
    "2. What is the result of the code, and explain?"
   ]
  },
  {
   "cell_type": "raw",
   "id": "36503b8a",
   "metadata": {},
   "source": [
    ">>> X = 'iNeuron'\n",
    ">>> def func():\n",
    "X = 'NI!'\n",
    "\n",
    "\n",
    ">>> func()\n",
    ">>> print(X)"
   ]
  },
  {
   "cell_type": "raw",
   "id": "f10a77ff",
   "metadata": {},
   "source": [
    "The result of the code will be:\n",
    "\n",
    "iNeuron\n",
    "\n",
    "Explanation:\n",
    "In the code, a global variable X is defined with the value \"iNeuron\". Then, a function called \"func\" is defined, which sets the value of X to \"NI!\". When the function is called, the value of X within the function scope changes to \"NI!\", but it does not affect the value of the global variable X. When the global variable X is printed after calling the function, it still has its original value of \"iNeuron\"."
   ]
  },
  {
   "cell_type": "markdown",
   "id": "635b91e9",
   "metadata": {},
   "source": [
    "3. What does this code print, and why?"
   ]
  },
  {
   "cell_type": "raw",
   "id": "5d2b4896",
   "metadata": {},
   "source": [
    ">>> X = 'iNeuron'\n",
    ">>> def func():\n",
    "X = 'NI'\n",
    "print(X)\n",
    "\n",
    "\n",
    ">>> func()\n",
    ">>> print(X)\n"
   ]
  },
  {
   "cell_type": "raw",
   "id": "72fdd65b",
   "metadata": {},
   "source": [
    "Result:\n",
    "NI\n",
    "iNeuron\n",
    "\n",
    "Explanation:\n",
    "The function func is defined and modifies the value of the local variable X within its scope to be 'NI'.\n",
    "When func is called, it prints the value of X, which is 'NI'.\n",
    "After func is called, the value of X outside the function scope remains unchanged and is still 'iNeuron'.\n",
    "When print(X) is called outside the function, it prints 'iNeuron'."
   ]
  },
  {
   "cell_type": "markdown",
   "id": "c93e785f",
   "metadata": {},
   "source": [
    "4. What output does this code produce? Why?"
   ]
  },
  {
   "cell_type": "raw",
   "id": "ea0a2883",
   "metadata": {},
   "source": [
    ">>> X = 'iNeuron'\n",
    ">>> def func():\n",
    "global X\n",
    "X = 'NI'\n",
    "\n",
    "\n",
    ">>> func()\n",
    ">>> print(X)\n"
   ]
  },
  {
   "cell_type": "raw",
   "id": "9d761288",
   "metadata": {},
   "source": [
    "Result:\n",
    "NI\n",
    "\n",
    "Explanation:\n",
    "\n",
    "The global keyword is used to access the global variable X inside the function func(). The X variable inside the function func() is then assigned the value 'NI'. This assignment affects the global X variable, so that after calling func(), X has the value 'NI'. Finally, the value of X is printed, resulting in 'NI'."
   ]
  },
  {
   "cell_type": "markdown",
   "id": "14762b77",
   "metadata": {},
   "source": [
    "5. What about this code—what’s the output, and why?"
   ]
  },
  {
   "cell_type": "raw",
   "id": "8d60d352",
   "metadata": {},
   "source": [
    ">>> X = 'iNeuron'\n",
    ">>> def func():\n",
    "X = 'NI'\n",
    "def nested():\n",
    "print(X)\n",
    "nested()\n",
    "\n",
    "\n",
    ">>> func()\n",
    ">>> X\n"
   ]
  },
  {
   "cell_type": "raw",
   "id": "8d4dc1a8",
   "metadata": {},
   "source": [
    "Result:\n",
    "NI\n",
    "iNeuron\n",
    "\n",
    "Explanation:\n",
    "\n",
    "The global variable X is initially set to 'iNeuron'.\n",
    "The func() function is defined, which creates a new local variable X and sets it to 'NI'.\n",
    "The nested() function is defined inside func(), which prints the value of X.\n",
    "When func() is called, it creates the local variable X and sets its value to 'NI', but does not modify the global variable X.\n",
    "The nested() function is called, which prints the value of the local variable X set in func(), which is 'NI'.\n",
    "When X is referenced at the end of the code, it returns the value of the global variable X, which is 'iNeuron'."
   ]
  },
  {
   "cell_type": "markdown",
   "id": "4c0ec0b4",
   "metadata": {},
   "source": [
    "6. How about this code: what is its output in Python 3, and explain?"
   ]
  },
  {
   "cell_type": "raw",
   "id": "f585adc4",
   "metadata": {},
   "source": [
    ">>> def func():\n",
    "X = 'NI'\n",
    "def nested():\n",
    "nonlocal X\n",
    "X = 'Spam'\n",
    "nested()\n",
    "print(X)\n",
    "\n",
    "\n",
    ">>> func()\n"
   ]
  },
  {
   "cell_type": "raw",
   "id": "ff714dd8",
   "metadata": {},
   "source": [
    "Result:\n",
    "\n",
    "\"Spam\"\n",
    "\n",
    "Explanation: \n",
    "In this code, the func function defines two nested functions, X and nested. X is defined as a local variable equal to the string \"NI\". \n",
    "The nested function references X and reassigns it to the string \"Spam\". \n",
    "The nested function is then called, causing the X value to be updated to \"Spam\".\n",
    "Finally, the func function prints the updated value of X, which is \"Spam\"."
   ]
  }
 ],
 "metadata": {
  "kernelspec": {
   "display_name": "py_class",
   "language": "python",
   "name": "py_class"
  },
  "language_info": {
   "codemirror_mode": {
    "name": "ipython",
    "version": 3
   },
   "file_extension": ".py",
   "mimetype": "text/x-python",
   "name": "python",
   "nbconvert_exporter": "python",
   "pygments_lexer": "ipython3",
   "version": "3.9.7"
  }
 },
 "nbformat": 4,
 "nbformat_minor": 5
}
