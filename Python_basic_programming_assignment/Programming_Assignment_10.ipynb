{
 "cells": [
  {
   "cell_type": "markdown",
   "id": "8be88f23",
   "metadata": {},
   "source": [
    "1. Write a Python program to find sum of elements in list?"
   ]
  },
  {
   "cell_type": "code",
   "execution_count": 1,
   "id": "52d89c5b",
   "metadata": {},
   "outputs": [],
   "source": [
    "def sum_list_elements(lst):\n",
    "    # initialize sum to 0\n",
    "    sum = 0\n",
    "    \n",
    "    # loop through each element of the list and add it to sum\n",
    "    for num in lst:\n",
    "        sum += num\n",
    "    \n",
    "    return sum"
   ]
  },
  {
   "cell_type": "code",
   "execution_count": 2,
   "id": "d7981b4c",
   "metadata": {},
   "outputs": [
    {
     "name": "stdout",
     "output_type": "stream",
     "text": [
      "Sum of elements in list: 15\n"
     ]
    }
   ],
   "source": [
    "my_list = [1, 2, 3, 4, 5]\n",
    "print(\"Sum of elements in list:\", sum_list_elements(my_list))"
   ]
  },
  {
   "cell_type": "markdown",
   "id": "65aef7b2",
   "metadata": {},
   "source": [
    "2. Write a Python program to Multiply all numbers in the list?"
   ]
  },
  {
   "cell_type": "code",
   "execution_count": 3,
   "id": "89f2cbb7",
   "metadata": {},
   "outputs": [],
   "source": [
    "def multiply_list(lst):\n",
    "    \"\"\"\n",
    "    Returns:\n",
    "        The product of all numbers in the list.\n",
    "    \"\"\"\n",
    "    product = 1\n",
    "    for num in lst:\n",
    "        product *= num\n",
    "    return product"
   ]
  },
  {
   "cell_type": "code",
   "execution_count": 4,
   "id": "f840585d",
   "metadata": {},
   "outputs": [
    {
     "name": "stdout",
     "output_type": "stream",
     "text": [
      "120\n"
     ]
    }
   ],
   "source": [
    "my_list = [1, 2, 3, 4, 5]\n",
    "result = multiply_list(my_list)\n",
    "print(result) "
   ]
  },
  {
   "cell_type": "markdown",
   "id": "c212e6da",
   "metadata": {},
   "source": [
    "3. Write a Python program to find smallest number in a list?"
   ]
  },
  {
   "cell_type": "code",
   "execution_count": 5,
   "id": "873e2ae2",
   "metadata": {},
   "outputs": [],
   "source": [
    "def find_smallest(lst):\n",
    "#     smallest = lst[0]\n",
    "#     for num in lst:\n",
    "#         if num < smallest:\n",
    "#             smallest = num\n",
    "    \n",
    "    return min(lst)"
   ]
  },
  {
   "cell_type": "code",
   "execution_count": 6,
   "id": "d3bc5cda",
   "metadata": {},
   "outputs": [
    {
     "name": "stdout",
     "output_type": "stream",
     "text": [
      "The smallest number in the list is: 1\n"
     ]
    }
   ],
   "source": [
    "my_list = [3, 7, 1, 9, 4]\n",
    "smallest_num = find_smallest(my_list)\n",
    "print(\"The smallest number in the list is:\", smallest_num)"
   ]
  },
  {
   "cell_type": "markdown",
   "id": "c22cfb2f",
   "metadata": {},
   "source": [
    "4. Write a Python program to find largest number in a list?"
   ]
  },
  {
   "cell_type": "code",
   "execution_count": 7,
   "id": "284becbf",
   "metadata": {},
   "outputs": [],
   "source": [
    "def find_largest(lst):\n",
    "#     largest = lst[0]\n",
    "#     for num in lst:\n",
    "#         if num > largest:\n",
    "#             largest = num\n",
    "    \n",
    "    return max(lst)"
   ]
  },
  {
   "cell_type": "code",
   "execution_count": 8,
   "id": "21e1bd65",
   "metadata": {},
   "outputs": [
    {
     "name": "stdout",
     "output_type": "stream",
     "text": [
      "The largest number in the list is: 9\n"
     ]
    }
   ],
   "source": [
    "my_list = [3, 7, 1, 9, 4]\n",
    "largest_num = find_largest(my_list)\n",
    "print(\"The largest number in the list is:\", largest_num)"
   ]
  },
  {
   "cell_type": "markdown",
   "id": "472f8a1e",
   "metadata": {},
   "source": [
    "5. Write a Python program to find second largest number in a list?"
   ]
  },
  {
   "cell_type": "code",
   "execution_count": 9,
   "id": "6902b65a",
   "metadata": {},
   "outputs": [],
   "source": [
    "def second_largest(lst):\n",
    "    lst.sort(reverse=True)\n",
    "    return lst[1]"
   ]
  },
  {
   "cell_type": "code",
   "execution_count": 10,
   "id": "dfc5c844",
   "metadata": {},
   "outputs": [
    {
     "name": "stdout",
     "output_type": "stream",
     "text": [
      "The second largest number in the list is: 7\n"
     ]
    }
   ],
   "source": [
    "my_list = [3, 7, 1, 9, 4]\n",
    "snd_large_num = second_largest(my_list)\n",
    "print(\"The second largest number in the list is:\", snd_large_num)"
   ]
  },
  {
   "cell_type": "markdown",
   "id": "44a3124f",
   "metadata": {},
   "source": [
    "6. Write a Python program to find N largest elements from a list?"
   ]
  },
  {
   "cell_type": "code",
   "execution_count": 11,
   "id": "c4fcfc12",
   "metadata": {},
   "outputs": [],
   "source": [
    "def nth_largest(lst, N):\n",
    "    lst.sort(reverse=True)\n",
    "    return lst[N-1]"
   ]
  },
  {
   "cell_type": "code",
   "execution_count": 12,
   "id": "756af944",
   "metadata": {},
   "outputs": [
    {
     "name": "stdout",
     "output_type": "stream",
     "text": [
      "The Nth largest number in the list is: 3\n"
     ]
    }
   ],
   "source": [
    "my_list = [3, 7, 1, 9, 4]\n",
    "n = 4\n",
    "Nth_largest_num = nth_largest(my_list, n)\n",
    "print(\"The Nth largest number in the list is:\", Nth_largest_num)"
   ]
  },
  {
   "cell_type": "markdown",
   "id": "550cda4d",
   "metadata": {},
   "source": [
    "7. Write a Python program to print even numbers in a list?"
   ]
  },
  {
   "cell_type": "code",
   "execution_count": 13,
   "id": "c0aa4509",
   "metadata": {},
   "outputs": [],
   "source": [
    "def even_numbers(lst):\n",
    "    evn_lst = []\n",
    "    for num in lst:\n",
    "        if num%2==0:\n",
    "            evn_lst.append(num)\n",
    "        else:\n",
    "            continue\n",
    "    return evn_lst"
   ]
  },
  {
   "cell_type": "code",
   "execution_count": 14,
   "id": "90bcb90f",
   "metadata": {},
   "outputs": [
    {
     "name": "stdout",
     "output_type": "stream",
     "text": [
      "The even number in the list is: [4, 6, 28, 34, 48]\n"
     ]
    }
   ],
   "source": [
    "my_list = [3, 7, 1, 9, 4,6,28,34,39,48,57]\n",
    "even_nums = even_numbers(my_list)\n",
    "print(\"The even number in the list is:\", even_nums)"
   ]
  },
  {
   "cell_type": "markdown",
   "id": "198891e0",
   "metadata": {},
   "source": [
    "8. Write a Python program to print odd numbers in a List?"
   ]
  },
  {
   "cell_type": "code",
   "execution_count": 15,
   "id": "e1371c8b",
   "metadata": {},
   "outputs": [],
   "source": [
    "def odd_numbers(lst):\n",
    "    odd_lst = []\n",
    "    for num in lst:\n",
    "        if num%2==1:\n",
    "            odd_lst.append(num)\n",
    "        else:\n",
    "            continue\n",
    "    return odd_lst"
   ]
  },
  {
   "cell_type": "code",
   "execution_count": 16,
   "id": "8c57c47e",
   "metadata": {},
   "outputs": [
    {
     "name": "stdout",
     "output_type": "stream",
     "text": [
      "The odd number in the list is: [3, 7, 1, 9, 39, 57]\n"
     ]
    }
   ],
   "source": [
    "my_list = [3, 7, 1, 9, 4,6,28,34,39,48,57]\n",
    "odd_nums = odd_numbers(my_list)\n",
    "print(\"The odd number in the list is:\", odd_nums)"
   ]
  },
  {
   "cell_type": "markdown",
   "id": "0d6af9ea",
   "metadata": {},
   "source": [
    "9. Write a Python program to Remove empty List from List?"
   ]
  },
  {
   "cell_type": "code",
   "execution_count": 17,
   "id": "010cd9dd",
   "metadata": {},
   "outputs": [
    {
     "name": "stdout",
     "output_type": "stream",
     "text": [
      "[4, 6, 3, 9]\n"
     ]
    }
   ],
   "source": [
    "lst = [4, [], 6, [], 3, [], [], 9]\n",
    "\n",
    "lst = [x for x in lst if x != []]\n",
    "\n",
    "print(lst)\n"
   ]
  },
  {
   "cell_type": "markdown",
   "id": "98de9749",
   "metadata": {},
   "source": [
    "10. Write a Python program to Cloning or Copying a list?"
   ]
  },
  {
   "cell_type": "code",
   "execution_count": 18,
   "id": "91854b9e",
   "metadata": {},
   "outputs": [
    {
     "name": "stdout",
     "output_type": "stream",
     "text": [
      "[1, 2, 3, 4, 5]\n",
      "[1, 2, 3, 4, 5]\n"
     ]
    }
   ],
   "source": [
    "original_list = [1, 2, 3, 4, 5]\n",
    "cloned_list = original_list[:]\n",
    "\n",
    "print(original_list, cloned_list, sep='\\n')"
   ]
  },
  {
   "cell_type": "code",
   "execution_count": 19,
   "id": "a7db1d97",
   "metadata": {},
   "outputs": [
    {
     "name": "stdout",
     "output_type": "stream",
     "text": [
      "[1, 2, 3, 4, 5]\n",
      "[1, 2, 3, 4, 5]\n"
     ]
    }
   ],
   "source": [
    "original_list = [1, 2, 3, 4, 5]\n",
    "cloned_list = original_list.copy()\n",
    "print(original_list, cloned_list, sep='\\n')"
   ]
  },
  {
   "cell_type": "code",
   "execution_count": 20,
   "id": "05329201",
   "metadata": {},
   "outputs": [
    {
     "name": "stdout",
     "output_type": "stream",
     "text": [
      "[1, 2, 3, 4, 5]\n",
      "[1, 2, 3, 4, 5]\n"
     ]
    }
   ],
   "source": [
    "original_list = [1, 2, 3, 4, 5]\n",
    "cloned_list = original_list.copy()\n",
    "print(original_list, cloned_list, sep='\\n')"
   ]
  },
  {
   "cell_type": "markdown",
   "id": "27519a3b",
   "metadata": {},
   "source": [
    "11. Write a Python program to Count occurrences of an element in a list?"
   ]
  },
  {
   "cell_type": "code",
   "execution_count": 21,
   "id": "f8886397",
   "metadata": {},
   "outputs": [],
   "source": [
    "def occurrences_of_element(lst, element):\n",
    "    count = lst.count(element)\n",
    "\n",
    "    return \"The element 1 appears\", count, \"times in the list.\"\n"
   ]
  },
  {
   "cell_type": "code",
   "execution_count": 22,
   "id": "f0a369fd",
   "metadata": {},
   "outputs": [
    {
     "data": {
      "text/plain": [
       "('The element 1 appears', 3, 'times in the list.')"
      ]
     },
     "execution_count": 22,
     "metadata": {},
     "output_type": "execute_result"
    }
   ],
   "source": [
    "my_list = [1, 2, 3, 4, 5, 1, 2, 3, 4, 1]\n",
    "element = 1\n",
    "occurrences_of_element(my_list, element)"
   ]
  }
 ],
 "metadata": {
  "kernelspec": {
   "display_name": "py_class",
   "language": "python",
   "name": "py_class"
  },
  "language_info": {
   "codemirror_mode": {
    "name": "ipython",
    "version": 3
   },
   "file_extension": ".py",
   "mimetype": "text/x-python",
   "name": "python",
   "nbconvert_exporter": "python",
   "pygments_lexer": "ipython3",
   "version": "3.9.7"
  }
 },
 "nbformat": 4,
 "nbformat_minor": 5
}
