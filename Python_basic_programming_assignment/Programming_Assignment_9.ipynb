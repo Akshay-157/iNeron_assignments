{
 "cells": [
  {
   "cell_type": "markdown",
   "id": "d4bf18df",
   "metadata": {},
   "source": [
    "1. Write a Python program to check if the given number is a Disarium Number?"
   ]
  },
  {
   "cell_type": "code",
   "execution_count": 1,
   "id": "4cffea78",
   "metadata": {},
   "outputs": [
    {
     "name": "stdout",
     "output_type": "stream",
     "text": [
      "175\n",
      "175 is a Disarium number\n"
     ]
    }
   ],
   "source": [
    "num = input()\n",
    "num_str = str(num)\n",
    "\n",
    "# initialize variables\n",
    "sum = 0\n",
    "power = 1\n",
    "\n",
    "# loop through each digit in the number\n",
    "for digit in num_str:\n",
    "    # convert the digit back to an integer\n",
    "    digit_int = int(digit)\n",
    "    \n",
    "    # calculate the sum of the digits raised to their respective position\n",
    "    sum += digit_int ** power\n",
    "    \n",
    "    # increment the power by 1 for the next digit\n",
    "    power += 1\n",
    "    \n",
    "# check if the sum is equal to the input number\n",
    "if sum == int(num):\n",
    "    print(num, \"is a Disarium number\")\n",
    "else:\n",
    "    print(num, \"is not a Disarium number\")"
   ]
  },
  {
   "cell_type": "markdown",
   "id": "6bdcd3f4",
   "metadata": {},
   "source": [
    "2. Write a Python program to print all disarium numbers between 1 to 100?"
   ]
  },
  {
   "cell_type": "code",
   "execution_count": 2,
   "id": "19f07f1b",
   "metadata": {},
   "outputs": [
    {
     "name": "stdout",
     "output_type": "stream",
     "text": [
      "1\n",
      "2\n",
      "3\n",
      "4\n",
      "5\n",
      "6\n",
      "7\n",
      "8\n",
      "9\n",
      "89\n"
     ]
    }
   ],
   "source": [
    "def is_disarium(num):\n",
    "    \"\"\"\n",
    "    Returns True if the given number is a disarium number, else False.\n",
    "    \"\"\"\n",
    "    sum = 0\n",
    "    n = len(str(num))\n",
    "    temp = num\n",
    "    while temp > 0:\n",
    "        digit = temp % 10\n",
    "        sum += digit ** n\n",
    "        temp //= 10\n",
    "        n -= 1\n",
    "    return num == sum\n",
    "\n",
    "# Iterate through the numbers from 1 to 100 and check if each number is a disarium number\n",
    "for i in range(1, 101):\n",
    "    if is_disarium(i):\n",
    "        print(i)"
   ]
  },
  {
   "cell_type": "markdown",
   "id": "78232b79",
   "metadata": {},
   "source": [
    "3. Write a Python program to check if the given number is Happy Number?"
   ]
  },
  {
   "cell_type": "code",
   "execution_count": 3,
   "id": "e70aa763",
   "metadata": {},
   "outputs": [],
   "source": [
    "def is_happy_number(num):\n",
    "    '''\n",
    "    Function to check if the given number is a Happy Number or not.\n",
    "    '''\n",
    "    seen_numbers = set()  # To keep track of previously seen numbers\n",
    "    while True:\n",
    "        # Calculate the sum of the squares of digits\n",
    "        sum_of_squares = 0\n",
    "        for digit in str(num):\n",
    "            sum_of_squares += int(digit) ** 2\n",
    "        \n",
    "        # Check if the sum of squares is 1 (happy number) or a previously seen number (not a happy number)\n",
    "        if sum_of_squares == 1:\n",
    "            return True\n",
    "        elif sum_of_squares in seen_numbers:\n",
    "            return False\n",
    "        \n",
    "        # Add the sum of squares to the set of seen numbers and continue with the loop\n",
    "        seen_numbers.add(sum_of_squares)\n",
    "        num = sum_of_squares"
   ]
  },
  {
   "cell_type": "code",
   "execution_count": 4,
   "id": "75d43945",
   "metadata": {},
   "outputs": [
    {
     "name": "stdout",
     "output_type": "stream",
     "text": [
      "19 is a Happy Number\n"
     ]
    }
   ],
   "source": [
    "num = 19\n",
    "if is_happy_number(num):\n",
    "    print(num, \"is a Happy Number\")\n",
    "else:\n",
    "    print(num, \"is not a Happy Number\")"
   ]
  },
  {
   "cell_type": "markdown",
   "id": "9d8d361f",
   "metadata": {},
   "source": [
    "4. Write a Python program to print all happy numbers between 1 and 100?"
   ]
  },
  {
   "cell_type": "code",
   "execution_count": 5,
   "id": "311242f0",
   "metadata": {},
   "outputs": [
    {
     "name": "stdout",
     "output_type": "stream",
     "text": [
      "1 is a Happy Number\n",
      "7 is a Happy Number\n",
      "10 is a Happy Number\n",
      "13 is a Happy Number\n",
      "19 is a Happy Number\n",
      "23 is a Happy Number\n",
      "28 is a Happy Number\n",
      "31 is a Happy Number\n",
      "32 is a Happy Number\n",
      "44 is a Happy Number\n",
      "49 is a Happy Number\n",
      "68 is a Happy Number\n",
      "70 is a Happy Number\n",
      "79 is a Happy Number\n",
      "82 is a Happy Number\n",
      "86 is a Happy Number\n",
      "91 is a Happy Number\n",
      "94 is a Happy Number\n",
      "97 is a Happy Number\n",
      "100 is a Happy Number\n"
     ]
    }
   ],
   "source": [
    "for i in range(1, 101):\n",
    "    if is_happy_number(i):\n",
    "        print(i, \"is a Happy Number\")"
   ]
  },
  {
   "cell_type": "markdown",
   "id": "45bdcc21",
   "metadata": {},
   "source": [
    "5. Write a Python program to determine whether the given number is a Harshad Number?"
   ]
  },
  {
   "cell_type": "code",
   "execution_count": 6,
   "id": "22d49d8b",
   "metadata": {},
   "outputs": [],
   "source": [
    "def is_harshad_number(n):\n",
    "    \"\"\"\n",
    "    This function checks if a given number is a Harshad number or not.\n",
    "    \"\"\"\n",
    "    # Calculate the sum of digits\n",
    "    sum_of_digits = 0\n",
    "    for digit in str(n):\n",
    "        sum_of_digits += int(digit)\n",
    "    \n",
    "    # Check if the number is divisible by the sum of its digits\n",
    "    if n % sum_of_digits == 0:\n",
    "        return True\n",
    "    else:\n",
    "        return False"
   ]
  },
  {
   "cell_type": "code",
   "execution_count": 7,
   "id": "bbefa1bd",
   "metadata": {},
   "outputs": [
    {
     "name": "stdout",
     "output_type": "stream",
     "text": [
      "True\n",
      "False\n"
     ]
    }
   ],
   "source": [
    "print(is_harshad_number(18))  \n",
    "print(is_harshad_number(19)) "
   ]
  },
  {
   "cell_type": "markdown",
   "id": "b2f331be",
   "metadata": {},
   "source": [
    "6. Write a Python program to print all pronic numbers between 1 and 100?"
   ]
  },
  {
   "cell_type": "code",
   "execution_count": 8,
   "id": "a06fe582",
   "metadata": {},
   "outputs": [
    {
     "name": "stdout",
     "output_type": "stream",
     "text": [
      "2\n",
      "6\n",
      "12\n",
      "20\n",
      "30\n",
      "42\n",
      "56\n",
      "72\n",
      "90\n"
     ]
    }
   ],
   "source": [
    "for i in range(1, 101):\n",
    "    for j in range(1, i):\n",
    "        if j * (j + 1) == i:\n",
    "            print(i)\n",
    "            break"
   ]
  },
  {
   "cell_type": "code",
   "execution_count": null,
   "id": "bfca459e",
   "metadata": {},
   "outputs": [],
   "source": []
  }
 ],
 "metadata": {
  "kernelspec": {
   "display_name": "py_class",
   "language": "python",
   "name": "py_class"
  },
  "language_info": {
   "codemirror_mode": {
    "name": "ipython",
    "version": 3
   },
   "file_extension": ".py",
   "mimetype": "text/x-python",
   "name": "python",
   "nbconvert_exporter": "python",
   "pygments_lexer": "ipython3",
   "version": "3.9.7"
  }
 },
 "nbformat": 4,
 "nbformat_minor": 5
}
