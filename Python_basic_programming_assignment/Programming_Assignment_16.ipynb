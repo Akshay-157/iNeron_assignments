{
 "cells": [
  {
   "cell_type": "markdown",
   "id": "9ae96802",
   "metadata": {},
   "source": [
    "Question1\n",
    "\n",
    "Write a function that stutters a word as if someone is struggling to read it. The first two letters are repeated twice with an ellipsis ... and space after each, and then the word is pronounced with a question mark ?."
   ]
  },
  {
   "cell_type": "code",
   "execution_count": 1,
   "id": "1dce86b8",
   "metadata": {},
   "outputs": [],
   "source": [
    "def stutter(word):\n",
    "    return word[:2]+\"... \"+word[:2]+\"... \"+word+\"?\""
   ]
  },
  {
   "cell_type": "code",
   "execution_count": 2,
   "id": "41509c5c",
   "metadata": {},
   "outputs": [
    {
     "data": {
      "text/plain": [
       "'in... in... incredible?'"
      ]
     },
     "execution_count": 2,
     "metadata": {},
     "output_type": "execute_result"
    }
   ],
   "source": [
    "stutter(\"incredible\")"
   ]
  },
  {
   "cell_type": "code",
   "execution_count": 3,
   "id": "103b3a00",
   "metadata": {},
   "outputs": [
    {
     "data": {
      "text/plain": [
       "'en... en... enthusiastic?'"
      ]
     },
     "execution_count": 3,
     "metadata": {},
     "output_type": "execute_result"
    }
   ],
   "source": [
    "stutter(\"enthusiastic\")"
   ]
  },
  {
   "cell_type": "code",
   "execution_count": 4,
   "id": "f7251470",
   "metadata": {},
   "outputs": [
    {
     "data": {
      "text/plain": [
       "'ou... ou... outstanding?'"
      ]
     },
     "execution_count": 4,
     "metadata": {},
     "output_type": "execute_result"
    }
   ],
   "source": [
    "stutter(\"outstanding\")"
   ]
  },
  {
   "cell_type": "markdown",
   "id": "21b0a181",
   "metadata": {},
   "source": [
    "Question 2\n",
    "\n",
    "Create a function that takes an angle in radians and returns the corresponding angle in degrees rounded to one decimal place."
   ]
  },
  {
   "cell_type": "code",
   "execution_count": 5,
   "id": "5471f1eb",
   "metadata": {},
   "outputs": [],
   "source": [
    "import math\n",
    "def radians_to_degrees(angle_in_radians):\n",
    "    return round(math.degrees(angle_in_radians),1)"
   ]
  },
  {
   "cell_type": "code",
   "execution_count": 6,
   "id": "480093df",
   "metadata": {},
   "outputs": [
    {
     "data": {
      "text/plain": [
       "57.3"
      ]
     },
     "execution_count": 6,
     "metadata": {},
     "output_type": "execute_result"
    }
   ],
   "source": [
    "radians_to_degrees(1)"
   ]
  },
  {
   "cell_type": "code",
   "execution_count": 7,
   "id": "53e0c243",
   "metadata": {},
   "outputs": [
    {
     "data": {
      "text/plain": [
       "1145.9"
      ]
     },
     "execution_count": 7,
     "metadata": {},
     "output_type": "execute_result"
    }
   ],
   "source": [
    "radians_to_degrees(20)"
   ]
  },
  {
   "cell_type": "code",
   "execution_count": 8,
   "id": "d29aae75",
   "metadata": {},
   "outputs": [
    {
     "data": {
      "text/plain": [
       "2864.8"
      ]
     },
     "execution_count": 8,
     "metadata": {},
     "output_type": "execute_result"
    }
   ],
   "source": [
    "radians_to_degrees(50)"
   ]
  },
  {
   "cell_type": "markdown",
   "id": "a8c7b499",
   "metadata": {},
   "source": [
    "Question 3\n",
    "\n",
    "In this challenge, establish if a given integer num is a Curzon number. If 1 plus 2 elevated to num is exactly divisible by 1 plus 2 multiplied by num, then num is a Curzon number.\n",
    "Given a non-negative integer num, implement a function that returns True if num is a Curzon number, or False otherwise.\n"
   ]
  },
  {
   "cell_type": "code",
   "execution_count": 9,
   "id": "8807254b",
   "metadata": {},
   "outputs": [],
   "source": [
    "def is_curzon(number):\n",
    "    elevated_num = 1 + (2**number)\n",
    "    divisor_num = 1 +(2*number)\n",
    "    if elevated_num % divisor_num ==0:\n",
    "        return True\n",
    "    else:\n",
    "        return False"
   ]
  },
  {
   "cell_type": "code",
   "execution_count": 10,
   "id": "24d35cf9",
   "metadata": {},
   "outputs": [
    {
     "data": {
      "text/plain": [
       "True"
      ]
     },
     "execution_count": 10,
     "metadata": {},
     "output_type": "execute_result"
    }
   ],
   "source": [
    "is_curzon(5)"
   ]
  },
  {
   "cell_type": "code",
   "execution_count": 11,
   "id": "d45f6db2",
   "metadata": {},
   "outputs": [
    {
     "data": {
      "text/plain": [
       "False"
      ]
     },
     "execution_count": 11,
     "metadata": {},
     "output_type": "execute_result"
    }
   ],
   "source": [
    "is_curzon(10)"
   ]
  },
  {
   "cell_type": "code",
   "execution_count": 12,
   "id": "47e7ba95",
   "metadata": {},
   "outputs": [
    {
     "data": {
      "text/plain": [
       "True"
      ]
     },
     "execution_count": 12,
     "metadata": {},
     "output_type": "execute_result"
    }
   ],
   "source": [
    "is_curzon(14)"
   ]
  },
  {
   "cell_type": "markdown",
   "id": "c6acb8e3",
   "metadata": {},
   "source": [
    "Question 4\n",
    "\n",
    "Given the side length x find the area of a hexagon."
   ]
  },
  {
   "cell_type": "code",
   "execution_count": 13,
   "id": "a61000c0",
   "metadata": {},
   "outputs": [],
   "source": [
    "import math\n",
    "def area_of_hexagon(side):\n",
    "    area = round((3*(math.sqrt(3))*(side**2))/2, 1)\n",
    "    return area"
   ]
  },
  {
   "cell_type": "code",
   "execution_count": 14,
   "id": "1acddffb",
   "metadata": {},
   "outputs": [
    {
     "data": {
      "text/plain": [
       "2.6"
      ]
     },
     "execution_count": 14,
     "metadata": {},
     "output_type": "execute_result"
    }
   ],
   "source": [
    "area_of_hexagon(1)"
   ]
  },
  {
   "cell_type": "code",
   "execution_count": 15,
   "id": "e91cc62d",
   "metadata": {},
   "outputs": [
    {
     "data": {
      "text/plain": [
       "10.4"
      ]
     },
     "execution_count": 15,
     "metadata": {},
     "output_type": "execute_result"
    }
   ],
   "source": [
    "area_of_hexagon(2)"
   ]
  },
  {
   "cell_type": "code",
   "execution_count": 16,
   "id": "3347b6b3",
   "metadata": {},
   "outputs": [
    {
     "data": {
      "text/plain": [
       "23.4"
      ]
     },
     "execution_count": 16,
     "metadata": {},
     "output_type": "execute_result"
    }
   ],
   "source": [
    "area_of_hexagon(3)"
   ]
  },
  {
   "cell_type": "markdown",
   "id": "0159ee05",
   "metadata": {},
   "source": [
    "Question 5\n",
    "\n",
    "Create a function that returns a base-2 (binary) representation of a base-10 (decimal) string number. To convert is simple: ((2) means base-2 and (10) means base-10) 010101001(2) = 1 + 8 + 32 + 128.\n",
    "\n",
    "Going from right to left, the value of the most right bit is 1, now from that every bit to the left will be x2 the value, value of an 8 bit binary numbers are (256, 128, 64, 32, 16, 8, 4, 2, 1).\n"
   ]
  },
  {
   "cell_type": "code",
   "execution_count": 17,
   "id": "93a5c80f",
   "metadata": {},
   "outputs": [],
   "source": [
    "def binary(num):\n",
    "#     if num>=1:\n",
    "#         binary(num//2)\n",
    "#     print(num%2, end='')\n",
    "    \n",
    "    return bin(num).replace(\"0b\", \"\")\n",
    "    "
   ]
  },
  {
   "cell_type": "code",
   "execution_count": 18,
   "id": "00ebc852",
   "metadata": {},
   "outputs": [
    {
     "data": {
      "text/plain": [
       "'1'"
      ]
     },
     "execution_count": 18,
     "metadata": {},
     "output_type": "execute_result"
    }
   ],
   "source": [
    "binary(1)"
   ]
  },
  {
   "cell_type": "code",
   "execution_count": 19,
   "id": "6071da1e",
   "metadata": {},
   "outputs": [
    {
     "data": {
      "text/plain": [
       "'101'"
      ]
     },
     "execution_count": 19,
     "metadata": {},
     "output_type": "execute_result"
    }
   ],
   "source": [
    "binary(5)"
   ]
  },
  {
   "cell_type": "code",
   "execution_count": 20,
   "id": "88f3fa8a",
   "metadata": {},
   "outputs": [
    {
     "data": {
      "text/plain": [
       "'1010'"
      ]
     },
     "execution_count": 20,
     "metadata": {},
     "output_type": "execute_result"
    }
   ],
   "source": [
    "binary(10)"
   ]
  },
  {
   "cell_type": "code",
   "execution_count": null,
   "id": "11f0abe9",
   "metadata": {},
   "outputs": [],
   "source": []
  }
 ],
 "metadata": {
  "kernelspec": {
   "display_name": "python_test",
   "language": "python",
   "name": "python_test"
  },
  "language_info": {
   "codemirror_mode": {
    "name": "ipython",
    "version": 3
   },
   "file_extension": ".py",
   "mimetype": "text/x-python",
   "name": "python",
   "nbconvert_exporter": "python",
   "pygments_lexer": "ipython3",
   "version": "3.9.7"
  }
 },
 "nbformat": 4,
 "nbformat_minor": 5
}
