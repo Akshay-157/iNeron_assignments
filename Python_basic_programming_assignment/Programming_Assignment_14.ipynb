{
 "cells": [
  {
   "cell_type": "markdown",
   "id": "64f7170d",
   "metadata": {},
   "source": [
    "Question 1:\n",
    "\n",
    "Define a class with a generator which can iterate the numbers, which are divisible by 7, between a given range 0 and n."
   ]
  },
  {
   "cell_type": "code",
   "execution_count": 1,
   "id": "54fae797",
   "metadata": {},
   "outputs": [],
   "source": [
    "class Divisible:\n",
    "    def __init__(self, list_range):\n",
    "        self.list_range = list_range\n",
    "    \n",
    "    def generator(self):\n",
    "        for num in range(self.list_range+1):\n",
    "            if num%7==0:\n",
    "                yield num \n",
    "    \n",
    "    def display(self):\n",
    "        a = \"\"\n",
    "        result = self.generator()\n",
    "        return [res for res in result]"
   ]
  },
  {
   "cell_type": "code",
   "execution_count": 2,
   "id": "6fb5434d",
   "metadata": {},
   "outputs": [
    {
     "name": "stdout",
     "output_type": "stream",
     "text": [
      "Enter a number: 100\n"
     ]
    },
    {
     "data": {
      "text/plain": [
       "[0, 7, 14, 21, 28, 35, 42, 49, 56, 63, 70, 77, 84, 91, 98]"
      ]
     },
     "execution_count": 2,
     "metadata": {},
     "output_type": "execute_result"
    }
   ],
   "source": [
    "num = int(input(\"Enter a number: \"))\n",
    "div = Divisible(num)\n",
    "div.display()"
   ]
  },
  {
   "cell_type": "markdown",
   "id": "39a91af0",
   "metadata": {},
   "source": [
    "Question 2:\n",
    "\n",
    "Write a program to compute the frequency of the words from the input. The output should output after sorting the key alphanumerically. \n"
   ]
  },
  {
   "cell_type": "code",
   "execution_count": 3,
   "id": "6b9008fb",
   "metadata": {},
   "outputs": [
    {
     "name": "stdout",
     "output_type": "stream",
     "text": [
      "2:2\n",
      "3.:1\n",
      "3?:1\n",
      "New:1\n",
      "Python:5\n",
      "Read:1\n",
      "and:1\n",
      "between:1\n",
      "choosing:1\n",
      "or:2\n",
      "to:1\n"
     ]
    }
   ],
   "source": [
    "string = \"New to Python or choosing between Python 2 and Python 3? Read Python 2 or Python 3.\"\n",
    "st = string.split(\" \")\n",
    "result = {}\n",
    "for word in st:\n",
    "    result.update({word:string.count(word)})\n",
    "for res in sorted(result):\n",
    "    print(str(res)+\":\"+str(result[res]))"
   ]
  },
  {
   "cell_type": "markdown",
   "id": "daad5d09",
   "metadata": {},
   "source": [
    "Question 3:\n",
    "\n",
    "Define a class Person and its two child classes: Male and Female. All classes have a method \"getGender\" which can print \"Male\" for Male class and \"Female\" for Female class.\n"
   ]
  },
  {
   "cell_type": "code",
   "execution_count": 4,
   "id": "49357956",
   "metadata": {},
   "outputs": [],
   "source": [
    "class Person():\n",
    "    def getGender():\n",
    "        pass\n",
    "    \n",
    "class Male(Person):\n",
    "    def getGender():\n",
    "        print(\"Male\")\n",
    "    \n",
    "class Female(Person):\n",
    "    def getGender():\n",
    "        print(\"Female\")"
   ]
  },
  {
   "cell_type": "markdown",
   "id": "9b3df7dc",
   "metadata": {},
   "source": [
    "Question 4\n",
    "\n",
    "Please write a program to generate all sentences where subject is in [\"I\", \"You\"] and verb is in [\"Play\", \"Love\"] and the object is in [\"Hockey\",\"Football\"]."
   ]
  },
  {
   "cell_type": "code",
   "execution_count": 5,
   "id": "34cf19e1",
   "metadata": {},
   "outputs": [],
   "source": [
    "def generate_sentences(subject, verb, objects):\n",
    "    sentences = []\n",
    "    space = \" \"\n",
    "    for sub in subject:\n",
    "        for vb in verb:\n",
    "            for obj in objects:\n",
    "                temp = sub + space + vb + space + obj\n",
    "                sentences.append(temp)\n",
    "    return sentences"
   ]
  },
  {
   "cell_type": "code",
   "execution_count": 6,
   "id": "315b96b7",
   "metadata": {},
   "outputs": [
    {
     "data": {
      "text/plain": [
       "['I Play Hockey',\n",
       " 'I Play Football',\n",
       " 'I Love Hockey',\n",
       " 'I Love Football',\n",
       " 'You Play Hockey',\n",
       " 'You Play Football',\n",
       " 'You Love Hockey',\n",
       " 'You Love Football']"
      ]
     },
     "execution_count": 6,
     "metadata": {},
     "output_type": "execute_result"
    }
   ],
   "source": [
    "generate_sentences([\"I\", \"You\"] , [\"Play\", \"Love\"], [\"Hockey\",\"Football\"])"
   ]
  },
  {
   "cell_type": "markdown",
   "id": "4ce5d2c3",
   "metadata": {},
   "source": [
    "Question 5:\n",
    "\n",
    "Please write a program to compress and decompress the string \"hello world!hello world!hello world!hello world!\"."
   ]
  },
  {
   "cell_type": "code",
   "execution_count": 7,
   "id": "ff8b507d",
   "metadata": {},
   "outputs": [
    {
     "name": "stdout",
     "output_type": "stream",
     "text": [
      "compressed string:  b'\\x1f\\x8b\\x08\\x00\\x11\\x17\\xedb\\x02\\xff\\xcbH\\xcd\\xc9\\xc9W(\\xcf/\\xcaIQ\\xcc \\x82\\r\\x00\\xd3\\xe6\\xcf\\xae0\\x00\\x00\\x00'\n",
      "\n",
      "decompressed string:  b'hello world!hello world!hello world!hello world!'\n"
     ]
    }
   ],
   "source": [
    "import gzip\n",
    "\n",
    "string = b\"hello world!hello world!hello world!hello world!\"\n",
    "compress = gzip.compress(string)\n",
    "print(\"compressed string: \", compress, end=\"\\n\\n\")\n",
    "\n",
    "decompress = gzip.decompress(compress)\n",
    "print(\"decompressed string: \", decompress)"
   ]
  },
  {
   "cell_type": "markdown",
   "id": "f4f211f0",
   "metadata": {},
   "source": [
    "Question 6:\n",
    "\n",
    "Please write a binary search function which searches an item in a sorted list. The function should return the index of element to be searched in the list.\n"
   ]
  },
  {
   "cell_type": "code",
   "execution_count": 8,
   "id": "41bdac3f",
   "metadata": {},
   "outputs": [],
   "source": [
    "def binary_search(arr, item):\n",
    "    \n",
    "    low = 0\n",
    "    high = len(arr)-1\n",
    "    while low<=high:\n",
    "        mid = (low + high)//2\n",
    "        \n",
    "        if arr[mid] == item:\n",
    "            return mid\n",
    "        \n",
    "        elif item < arr[mid]:\n",
    "            high = mid-1\n",
    "        \n",
    "        else:\n",
    "            low = mid+1\n",
    "    \n",
    "    return -1"
   ]
  },
  {
   "cell_type": "code",
   "execution_count": 9,
   "id": "d6b77508",
   "metadata": {},
   "outputs": [
    {
     "data": {
      "text/plain": [
       "2"
      ]
     },
     "execution_count": 9,
     "metadata": {},
     "output_type": "execute_result"
    }
   ],
   "source": [
    "binary_search([2, 3, 4, 10, 40], 4)"
   ]
  },
  {
   "cell_type": "code",
   "execution_count": null,
   "id": "0d0bf420",
   "metadata": {},
   "outputs": [],
   "source": []
  }
 ],
 "metadata": {
  "kernelspec": {
   "display_name": "python_test",
   "language": "python",
   "name": "python_test"
  },
  "language_info": {
   "codemirror_mode": {
    "name": "ipython",
    "version": 3
   },
   "file_extension": ".py",
   "mimetype": "text/x-python",
   "name": "python",
   "nbconvert_exporter": "python",
   "pygments_lexer": "ipython3",
   "version": "3.9.7"
  }
 },
 "nbformat": 4,
 "nbformat_minor": 5
}
