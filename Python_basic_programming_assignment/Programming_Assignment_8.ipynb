{
 "cells": [
  {
   "cell_type": "markdown",
   "id": "28ba4443",
   "metadata": {},
   "source": [
    "1.\tWrite a Python Program to Add Two Matrices?"
   ]
  },
  {
   "cell_type": "code",
   "execution_count": 1,
   "id": "2feb00d5",
   "metadata": {},
   "outputs": [],
   "source": [
    "def matrix_addition(X, Y):\n",
    "    '''Returns addition of two matrices'''\n",
    "    \n",
    "    # create an empty result matrix of the same size as the input matrices\n",
    "    result = []\n",
    "    for i in range(len(X)):\n",
    "        row=[]\n",
    "        for j in range(len(X[0])):\n",
    "            row.append(X[i][j] + Y[i][j])\n",
    "        result.append(row)\n",
    "    return result"
   ]
  },
  {
   "cell_type": "code",
   "execution_count": 2,
   "id": "14ad0ac6",
   "metadata": {},
   "outputs": [],
   "source": [
    "X = [[1,2,3],\n",
    "     [4,5,6],\n",
    "     [7,8,9]]\n",
    "\n",
    "Y = [[10,11,12],\n",
    "     [13,14,15],\n",
    "     [16,17,18]]"
   ]
  },
  {
   "cell_type": "code",
   "execution_count": 3,
   "id": "57e4366c",
   "metadata": {},
   "outputs": [
    {
     "name": "stdout",
     "output_type": "stream",
     "text": [
      "[[11, 13, 15], [17, 19, 21], [23, 25, 27]]\n"
     ]
    }
   ],
   "source": [
    "result = matrix_addition(X, Y)\n",
    "print(result)"
   ]
  },
  {
   "cell_type": "markdown",
   "id": "546e86bb",
   "metadata": {},
   "source": [
    "2.\tWrite a Python Program to Multiply Two Matrices?"
   ]
  },
  {
   "cell_type": "code",
   "execution_count": 4,
   "id": "765b534c",
   "metadata": {},
   "outputs": [],
   "source": [
    "def matrix_multiplication(X, Y):\n",
    "    # result will hold the product of two matrices\n",
    "    result = [[0 for col in range(len(Y[0]))] for row in range(len(X))]\n",
    "\n",
    "    # iterate through rows of X\n",
    "    for i in range(len(X)):\n",
    "        # iterate through columns of Y\n",
    "        for j in range(len(Y[0])):\n",
    "            # iterate through rows of Y\n",
    "            for k in range(len(Y)):\n",
    "                result[i][j] += X[i][k] * Y[k][j]\n",
    "\n",
    "    return result"
   ]
  },
  {
   "cell_type": "code",
   "execution_count": 5,
   "id": "12517ccd",
   "metadata": {},
   "outputs": [],
   "source": [
    "X = [[1, 2], [3, 4], [5, 6]]\n",
    "Y = [[7, 8, 9], [10, 11, 12]]"
   ]
  },
  {
   "cell_type": "code",
   "execution_count": 6,
   "id": "b2954ac0",
   "metadata": {},
   "outputs": [],
   "source": [
    "result = matrix_multiplication(X, Y)"
   ]
  },
  {
   "cell_type": "code",
   "execution_count": 7,
   "id": "91036df5",
   "metadata": {},
   "outputs": [
    {
     "name": "stdout",
     "output_type": "stream",
     "text": [
      "[[27, 30, 33], [61, 68, 75], [95, 106, 117]]\n"
     ]
    }
   ],
   "source": [
    " print(result)"
   ]
  },
  {
   "cell_type": "markdown",
   "id": "30d4e06b",
   "metadata": {},
   "source": [
    "3.\tWrite a Python Program to Transpose a Matrix?"
   ]
  },
  {
   "cell_type": "code",
   "execution_count": 8,
   "id": "f9cb7109",
   "metadata": {},
   "outputs": [],
   "source": [
    "def transpose_matrix(matrix):\n",
    "    \"\"\"\n",
    "    Transpose a matrix\n",
    "    \"\"\"\n",
    "    # Get the number of rows and columns in the matrix\n",
    "    rows = len(matrix)\n",
    "    cols = len(matrix[0])\n",
    "\n",
    "    # Create a new matrix to hold the transposed values\n",
    "    transposed = [[0 for _ in range(rows)] for _ in range(cols)]\n",
    "\n",
    "    # Loop through the original matrix and fill in the transposed matrix\n",
    "    for i in range(rows):\n",
    "        for j in range(cols):\n",
    "            transposed[j][i] = matrix[i][j]\n",
    "\n",
    "    return transposed\n"
   ]
  },
  {
   "cell_type": "code",
   "execution_count": 9,
   "id": "96060a3c",
   "metadata": {},
   "outputs": [
    {
     "name": "stdout",
     "output_type": "stream",
     "text": [
      "[[1, 4, 7], [2, 5, 8], [3, 6, 9]]\n"
     ]
    }
   ],
   "source": [
    "matrix = [[1, 2, 3],\n",
    "          [4, 5, 6],\n",
    "          [7, 8, 9]]\n",
    "\n",
    "transposed_matrix = transpose_matrix(matrix)\n",
    "\n",
    "print(transposed_matrix)\n"
   ]
  },
  {
   "cell_type": "markdown",
   "id": "95b2e1b8",
   "metadata": {},
   "source": [
    "4.\tWrite a Python Program to Sort Words in Alphabetic Order?"
   ]
  },
  {
   "cell_type": "code",
   "execution_count": 10,
   "id": "7a3ae7bc",
   "metadata": {},
   "outputs": [
    {
     "name": "stdout",
     "output_type": "stream",
     "text": [
      "Enter a string: Hello this Is an Example With cased letters\n",
      "Words in alphabetical order:\n",
      "an cased example hello is letters this with\n"
     ]
    }
   ],
   "source": [
    "string = input(\"Enter a string: \")\n",
    "\n",
    "# sort the words in alphabetical order\n",
    "sorted_words =sorted([word.lower() for word in string.split()])\n",
    "\n",
    "# print the sorted words\n",
    "print(\"Words in alphabetical order:\")\n",
    "print(\" \".join(sorted_words))"
   ]
  },
  {
   "cell_type": "markdown",
   "id": "f0b70696",
   "metadata": {},
   "source": [
    "5. Write a Python Program to Remove Punctuation From a String?"
   ]
  },
  {
   "cell_type": "code",
   "execution_count": 11,
   "id": "db477f58",
   "metadata": {},
   "outputs": [
    {
     "name": "stdout",
     "output_type": "stream",
     "text": [
      "Enter a string with punctuations:Hello..!! this Is an Example With cased letters\n"
     ]
    },
    {
     "data": {
      "text/plain": [
       "'Hello this Is an Example With cased letters'"
      ]
     },
     "execution_count": 11,
     "metadata": {},
     "output_type": "execute_result"
    }
   ],
   "source": [
    "import string\n",
    "\n",
    "istring = input(\"Enter a string with punctuations:\")\n",
    "\n",
    "istring.translate(str.maketrans('', '', string.punctuation))"
   ]
  },
  {
   "cell_type": "code",
   "execution_count": null,
   "id": "13c3388f",
   "metadata": {},
   "outputs": [],
   "source": []
  }
 ],
 "metadata": {
  "kernelspec": {
   "display_name": "py_class",
   "language": "python",
   "name": "py_class"
  },
  "language_info": {
   "codemirror_mode": {
    "name": "ipython",
    "version": 3
   },
   "file_extension": ".py",
   "mimetype": "text/x-python",
   "name": "python",
   "nbconvert_exporter": "python",
   "pygments_lexer": "ipython3",
   "version": "3.9.7"
  }
 },
 "nbformat": 4,
 "nbformat_minor": 5
}
