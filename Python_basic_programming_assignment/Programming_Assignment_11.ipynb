{
 "cells": [
  {
   "cell_type": "markdown",
   "id": "a8f5babb",
   "metadata": {},
   "source": [
    "1.\tWrite a Python program to find words which are greater than given length k?"
   ]
  },
  {
   "cell_type": "code",
   "execution_count": 1,
   "id": "4233b251",
   "metadata": {},
   "outputs": [
    {
     "name": "stdout",
     "output_type": "stream",
     "text": [
      "bananas\n"
     ]
    }
   ],
   "source": [
    "list_of_words = ['I', 'want', 'apples', 'and','bananas']\n",
    "given_length = 6\n",
    "\n",
    "for word in list_of_words:\n",
    "    if len(word) > given_length:\n",
    "        print(word)"
   ]
  },
  {
   "cell_type": "markdown",
   "id": "1890afbe",
   "metadata": {},
   "source": [
    "2.\tWrite a Python program for removing i-th character from a string?"
   ]
  },
  {
   "cell_type": "code",
   "execution_count": 2,
   "id": "1b7f7cfd",
   "metadata": {},
   "outputs": [
    {
     "name": "stdout",
     "output_type": "stream",
     "text": [
      "I wnt pples nd bnns\n"
     ]
    }
   ],
   "source": [
    "string = \"I want apples and bananas\"\n",
    "i = \"a\"\n",
    "for idx in range(len(string)):\n",
    "    if string[idx] == i:\n",
    "        st = string.replace(i,\"\")\n",
    "print(st)"
   ]
  },
  {
   "cell_type": "markdown",
   "id": "719d8f2b",
   "metadata": {},
   "source": [
    "3.\tWrite a Python program to split and join a string?"
   ]
  },
  {
   "cell_type": "code",
   "execution_count": 3,
   "id": "921b6cc2",
   "metadata": {},
   "outputs": [
    {
     "name": "stdout",
     "output_type": "stream",
     "text": [
      "I want apples and bananas\n"
     ]
    }
   ],
   "source": [
    "string = \"I want apples and bananas\"\n",
    "st = string.split()\n",
    "st1 = \" \".join(st)\n",
    "print(st1)"
   ]
  },
  {
   "cell_type": "markdown",
   "id": "48042a9d",
   "metadata": {},
   "source": [
    "4.\tWrite a Python to check if a given string is binary string or not?"
   ]
  },
  {
   "cell_type": "code",
   "execution_count": 4,
   "id": "b0b0953f",
   "metadata": {},
   "outputs": [],
   "source": [
    "def is_binary_string(s):\n",
    "    for char in s:\n",
    "        if char not in ['0', '1']:\n",
    "            return False\n",
    "    return True"
   ]
  },
  {
   "cell_type": "code",
   "execution_count": 5,
   "id": "55dec0ee",
   "metadata": {},
   "outputs": [
    {
     "name": "stdout",
     "output_type": "stream",
     "text": [
      "True\n",
      "False\n"
     ]
    }
   ],
   "source": [
    "s1 = '10101010'\n",
    "s2 = '01234567'\n",
    "print(is_binary_string(s1)) \n",
    "print(is_binary_string(s2))"
   ]
  },
  {
   "cell_type": "markdown",
   "id": "b7770429",
   "metadata": {},
   "source": [
    "5. Write a Python program to find uncommon words from two Strings?"
   ]
  },
  {
   "cell_type": "code",
   "execution_count": 6,
   "id": "e7542617",
   "metadata": {},
   "outputs": [],
   "source": [
    "def find_uncommon_words(s1, s2):\n",
    "    # split the two strings into lists of words\n",
    "    s1_words = s1.split()\n",
    "    s2_words = s2.split()\n",
    "    \n",
    "    # create a set of all words in both strings\n",
    "    all_words = set(s1_words + s2_words)\n",
    "    \n",
    "    # create a list of words that are only in one of the strings\n",
    "    uncommon_words = [word for word in all_words if word not in s1_words or word not in s2_words]\n",
    "    return uncommon_words"
   ]
  },
  {
   "cell_type": "code",
   "execution_count": 7,
   "id": "29a7d05e",
   "metadata": {},
   "outputs": [
    {
     "name": "stdout",
     "output_type": "stream",
     "text": [
      "['quick', 'fox', 'lazy', 'dog', 'brown']\n"
     ]
    }
   ],
   "source": [
    "s1 = \"the quick brown fox\"\n",
    "s2 = \"the lazy dog\"\n",
    "uncommon = find_uncommon_words(s1, s2)\n",
    "print(uncommon)"
   ]
  },
  {
   "cell_type": "markdown",
   "id": "7427e56a",
   "metadata": {},
   "source": [
    "6. Write a Python to find all duplicate characters in string?"
   ]
  },
  {
   "cell_type": "code",
   "execution_count": 8,
   "id": "2e92e498",
   "metadata": {},
   "outputs": [
    {
     "name": "stdout",
     "output_type": "stream",
     "text": [
      "Duplicate characters in the string: ['l', 'o']\n"
     ]
    }
   ],
   "source": [
    "str1 = \"hello world\"\n",
    "duplicates = []\n",
    "for char in str1:\n",
    "    if str1.count(char) > 1 and char not in duplicates:\n",
    "        duplicates.append(char)\n",
    "print(\"Duplicate characters in the string:\", duplicates)\n"
   ]
  },
  {
   "cell_type": "markdown",
   "id": "432263b9",
   "metadata": {},
   "source": [
    "7. Write a Python Program to check if a string contains any special character?"
   ]
  },
  {
   "cell_type": "code",
   "execution_count": 9,
   "id": "fee92841",
   "metadata": {},
   "outputs": [],
   "source": [
    "import re\n",
    "\n",
    "def contains_special_char(string):\n",
    "    regex = re.compile('[@_!#$%^&*()<>?/\\|}{~:]')\n",
    "    if(regex.search(string) == None):\n",
    "        return False\n",
    "    else:\n",
    "        return True"
   ]
  },
  {
   "cell_type": "code",
   "execution_count": 10,
   "id": "c3d7f02b",
   "metadata": {},
   "outputs": [
    {
     "data": {
      "text/plain": [
       "True"
      ]
     },
     "execution_count": 10,
     "metadata": {},
     "output_type": "execute_result"
    }
   ],
   "source": [
    "contains_special_char(\"th!s ex@mple text cont@in$ $ome $pec!@l Ch@r@cter$\")"
   ]
  }
 ],
 "metadata": {
  "kernelspec": {
   "display_name": "python_test",
   "language": "python",
   "name": "python_test"
  },
  "language_info": {
   "codemirror_mode": {
    "name": "ipython",
    "version": 3
   },
   "file_extension": ".py",
   "mimetype": "text/x-python",
   "name": "python",
   "nbconvert_exporter": "python",
   "pygments_lexer": "ipython3",
   "version": "3.9.7"
  }
 },
 "nbformat": 4,
 "nbformat_minor": 5
}
