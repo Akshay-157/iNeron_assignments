{
 "cells": [
  {
   "cell_type": "markdown",
   "id": "29123497",
   "metadata": {},
   "source": [
    "1.\tWrite a Python program to Extract Unique values dictionary values?"
   ]
  },
  {
   "cell_type": "code",
   "execution_count": 1,
   "id": "e91269a1",
   "metadata": {},
   "outputs": [
    {
     "data": {
      "text/plain": [
       "[1, 2, 5, 6, 7, 8, 10, 11, 12]"
      ]
     },
     "execution_count": 1,
     "metadata": {},
     "output_type": "execute_result"
    }
   ],
   "source": [
    "result = []\n",
    "dict_ = {'gfg' : [5, 6, 7, 8],\n",
    "             'is' : [10, 11, 7, 5],\n",
    "             'best' : [6, 12, 10, 8],\n",
    "             'for' : [1, 2, 5]}\n",
    "for key in dict_.keys():\n",
    "    result.extend(dict_[key])\n",
    "\n",
    "    \n",
    "result1 = list(set(result))\n",
    "sorted(result1)"
   ]
  },
  {
   "cell_type": "markdown",
   "id": "a3b31622",
   "metadata": {},
   "source": [
    "2.\tWrite a Python program to find the sum of all items in a dictionary?"
   ]
  },
  {
   "cell_type": "code",
   "execution_count": 2,
   "id": "68e933c5",
   "metadata": {},
   "outputs": [
    {
     "name": "stdout",
     "output_type": "stream",
     "text": [
      "600\n"
     ]
    }
   ],
   "source": [
    "final_sum = 0\n",
    "dict_ = {'a': 100, 'b': 200, 'c': 300}\n",
    "for val in dict_.values():\n",
    "    final_sum = final_sum + val\n",
    "print(final_sum)"
   ]
  },
  {
   "cell_type": "markdown",
   "id": "1ea8d70f",
   "metadata": {},
   "source": [
    "3.\tWrite a Python program to Merging two Dictionaries?"
   ]
  },
  {
   "cell_type": "code",
   "execution_count": 3,
   "id": "d452566f",
   "metadata": {},
   "outputs": [
    {
     "data": {
      "text/plain": [
       "{'gfg': [5, 6, 7, 8],\n",
       " 'is': [10, 11, 7, 5],\n",
       " 'best': [6, 12, 10, 8],\n",
       " 'for': [1, 2, 5],\n",
       " 'a': 100,\n",
       " 'b': 200,\n",
       " 'c': 300}"
      ]
     },
     "execution_count": 3,
     "metadata": {},
     "output_type": "execute_result"
    }
   ],
   "source": [
    "def merging(dict1, dict2):\n",
    "    return {**dict1, **dict2}\n",
    "\n",
    "\n",
    "dict1 = {'gfg' : [5, 6, 7, 8],\n",
    "             'is' : [10, 11, 7, 5],\n",
    "             'best' : [6, 12, 10, 8],\n",
    "             'for' : [1, 2, 5]}\n",
    "\n",
    "dict2 = {'a': 100, 'b': 200, 'c': 300}\n",
    "\n",
    "merging(dict1,dict2)"
   ]
  },
  {
   "cell_type": "markdown",
   "id": "71717f91",
   "metadata": {},
   "source": [
    "4.\tWrite a Python program to convert key-values list to flat dictionary?"
   ]
  },
  {
   "cell_type": "code",
   "execution_count": 4,
   "id": "93428627",
   "metadata": {},
   "outputs": [
    {
     "name": "stdout",
     "output_type": "stream",
     "text": [
      "{1: 'Jan', 2: 'Feb', 3: 'March'}\n"
     ]
    }
   ],
   "source": [
    "test_dict = {'month' : [1, 2, 3],\n",
    "             'name' : ['Jan', 'Feb', 'March']}\n",
    "\n",
    "result = dict(zip(test_dict[\"month\"], test_dict[\"name\"]))\n",
    "print(result)"
   ]
  },
  {
   "cell_type": "markdown",
   "id": "208b032f",
   "metadata": {},
   "source": [
    "5.\tWrite a Python program to insertion at the beginning in OrderedDict?"
   ]
  },
  {
   "cell_type": "code",
   "execution_count": 5,
   "id": "376e36ff",
   "metadata": {},
   "outputs": [
    {
     "data": {
      "text/plain": [
       "OrderedDict([('Mark', '7'), ('Will', '1'), ('James', '2'), ('Rob', '4')])"
      ]
     },
     "execution_count": 5,
     "metadata": {},
     "output_type": "execute_result"
    }
   ],
   "source": [
    "from collections import OrderedDict\n",
    "\n",
    "my_ordered_dict = OrderedDict([('Will', '1'), ('James', '2'), ('Rob', '4')])\n",
    "my_ordered_dict.update({'Mark':'7'})\n",
    "my_ordered_dict.move_to_end('Mark', last=False)\n",
    "my_ordered_dict"
   ]
  },
  {
   "cell_type": "markdown",
   "id": "4deef2f7",
   "metadata": {},
   "source": [
    "6.\tWrite a Python program to check order of character in string using OrderedDict()?"
   ]
  },
  {
   "cell_type": "code",
   "execution_count": 6,
   "id": "39b26025",
   "metadata": {},
   "outputs": [
    {
     "data": {
      "text/plain": [
       "True"
      ]
     },
     "execution_count": 6,
     "metadata": {},
     "output_type": "execute_result"
    }
   ],
   "source": [
    "from collections import OrderedDict\n",
    "def checkOrder(string, pattern): \n",
    "    dict_ = OrderedDict.fromkeys(string)\n",
    "#     print(dict_)\n",
    "    ptrlen = 0\n",
    "    for key,value in dict_.items(): \n",
    "        if (key == pattern[ptrlen]): \n",
    "            ptrlen = ptrlen + 1\n",
    "        if (ptrlen == (len(pattern))): \n",
    "            return True\n",
    "    return False\n",
    "\n",
    "string = 'engineers rock'\n",
    "pattern = 'er'\n",
    "checkOrder(string, pattern)"
   ]
  },
  {
   "cell_type": "markdown",
   "id": "a7231c6e",
   "metadata": {},
   "source": [
    "7.\tWrite a Python program to sort Python Dictionaries by Key or Value?"
   ]
  },
  {
   "cell_type": "code",
   "execution_count": 7,
   "id": "274a8599",
   "metadata": {},
   "outputs": [
    {
     "name": "stdout",
     "output_type": "stream",
     "text": [
      "[('rajnish', '9'), ('ravi', '10'), ('sanjeev', '15'), ('suraj', '32'), ('yash', '2')]\n"
     ]
    }
   ],
   "source": [
    "dict_ = {'ravi': '10', 'rajnish': '9',\n",
    "        'sanjeev': '15', 'yash': '2', 'suraj': '32'}\n",
    "\n",
    "print(sorted(dict_.items()))"
   ]
  },
  {
   "cell_type": "code",
   "execution_count": null,
   "id": "431ced7c",
   "metadata": {},
   "outputs": [],
   "source": []
  }
 ],
 "metadata": {
  "kernelspec": {
   "display_name": "python_test",
   "language": "python",
   "name": "python_test"
  },
  "language_info": {
   "codemirror_mode": {
    "name": "ipython",
    "version": 3
   },
   "file_extension": ".py",
   "mimetype": "text/x-python",
   "name": "python",
   "nbconvert_exporter": "python",
   "pygments_lexer": "ipython3",
   "version": "3.9.7"
  }
 },
 "nbformat": 4,
 "nbformat_minor": 5
}
