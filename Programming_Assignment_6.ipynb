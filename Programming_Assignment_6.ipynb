{
 "cells": [
  {
   "cell_type": "markdown",
   "id": "2b7e774b",
   "metadata": {},
   "source": [
    "1. Write a Python Program to Display Fibonacci Sequence Using Recursion?"
   ]
  },
  {
   "cell_type": "code",
   "execution_count": 1,
   "id": "20d15f84",
   "metadata": {},
   "outputs": [
    {
     "name": "stdout",
     "output_type": "stream",
     "text": [
      "5\n",
      "The Fibonacci sequennce\n",
      "0\n",
      "1\n",
      "1\n",
      "2\n",
      "3\n"
     ]
    }
   ],
   "source": [
    "def recursive_fib(n):\n",
    "    \"\"\"Recursively return the fibonacci sequence of n terms\"\"\"\n",
    "    if n <= 1:\n",
    "        return n\n",
    "    else:\n",
    "        return(recursive_fib(n-1) + recursive_fib(n-2))\n",
    "\n",
    "\n",
    "nterms = int(input())\n",
    "if nterms > 0:\n",
    "    print(\"The Fibonacci sequennce\")\n",
    "    for i in range(nterms):\n",
    "        print(recursive_fib(i))\n",
    "else:\n",
    "    print(\"Please enter positive number\")"
   ]
  },
  {
   "cell_type": "markdown",
   "id": "ca62588c",
   "metadata": {},
   "source": [
    "2. Write a Python Program to Find Factorial of Number Using Recursion?"
   ]
  },
  {
   "cell_type": "code",
   "execution_count": 2,
   "id": "7ce99c7c",
   "metadata": {},
   "outputs": [],
   "source": [
    "def recur_factorial(n):\n",
    "    if n == 1:\n",
    "        return n\n",
    "    else:\n",
    "        return n*recur_factorial(n-1)"
   ]
  },
  {
   "cell_type": "code",
   "execution_count": 3,
   "id": "3c2a87ff",
   "metadata": {},
   "outputs": [
    {
     "name": "stdout",
     "output_type": "stream",
     "text": [
      "5\n",
      "The factorial of 5 is 120\n"
     ]
    }
   ],
   "source": [
    "num = int(input())\n",
    "\n",
    "if num < 0:\n",
    "    print(\"Sorry, factorial does not exist for negative numbers\")\n",
    "elif num == 0:\n",
    "    print(\"The factorial of 0 is 1\")\n",
    "else:\n",
    "    print(\"The factorial of\", num, \"is\", recur_factorial(num))"
   ]
  },
  {
   "cell_type": "markdown",
   "id": "7f594950",
   "metadata": {},
   "source": [
    "3. Write a Python Program to calculate your Body Mass Index?"
   ]
  },
  {
   "cell_type": "code",
   "execution_count": 4,
   "id": "c2a5e35b",
   "metadata": {},
   "outputs": [
    {
     "name": "stdout",
     "output_type": "stream",
     "text": [
      "Input your height in meter: 1.78\n",
      "Input your weight in Kilogram: 86\n",
      "Your body mass index is:  27.14\n"
     ]
    }
   ],
   "source": [
    "height = float(input(\"Input your height in meter: \"))\n",
    "weight = float(input(\"Input your weight in Kilogram: \"))\n",
    "print(\"Your body mass index is: \", round(weight / (height * height), 2))"
   ]
  },
  {
   "cell_type": "markdown",
   "id": "db5c9a35",
   "metadata": {},
   "source": [
    "4. Write a Python Program to calculate the natural logarithm of any number?"
   ]
  },
  {
   "cell_type": "code",
   "execution_count": 5,
   "id": "d448c55c",
   "metadata": {},
   "outputs": [],
   "source": [
    "import math"
   ]
  },
  {
   "cell_type": "code",
   "execution_count": 6,
   "id": "bc9de820",
   "metadata": {},
   "outputs": [
    {
     "name": "stdout",
     "output_type": "stream",
     "text": [
      "5\n"
     ]
    },
    {
     "data": {
      "text/plain": [
       "1.6094379124341003"
      ]
     },
     "execution_count": 6,
     "metadata": {},
     "output_type": "execute_result"
    }
   ],
   "source": [
    "number = int(input())\n",
    "math.log(number)"
   ]
  },
  {
   "cell_type": "markdown",
   "id": "c7befeb7",
   "metadata": {},
   "source": [
    "5. Write a Python Program for cube sum of first n natural numbers?"
   ]
  },
  {
   "cell_type": "code",
   "execution_count": 7,
   "id": "b074593d",
   "metadata": {},
   "outputs": [],
   "source": [
    "def cube_n(n):\n",
    "    x = pow((n*(n+1)/2), 2)\n",
    "    return int(x)"
   ]
  },
  {
   "cell_type": "code",
   "execution_count": 8,
   "id": "cd5e878c",
   "metadata": {},
   "outputs": [
    {
     "data": {
      "text/plain": [
       "225"
      ]
     },
     "execution_count": 8,
     "metadata": {},
     "output_type": "execute_result"
    }
   ],
   "source": [
    "cube_n(5)"
   ]
  },
  {
   "cell_type": "code",
   "execution_count": null,
   "id": "7eae5a4e",
   "metadata": {},
   "outputs": [],
   "source": []
  }
 ],
 "metadata": {
  "kernelspec": {
   "display_name": "Python 3 (ipykernel)",
   "language": "python",
   "name": "python3"
  },
  "language_info": {
   "codemirror_mode": {
    "name": "ipython",
    "version": 3
   },
   "file_extension": ".py",
   "mimetype": "text/x-python",
   "name": "python",
   "nbconvert_exporter": "python",
   "pygments_lexer": "ipython3",
   "version": "3.9.7"
  }
 },
 "nbformat": 4,
 "nbformat_minor": 5
}
