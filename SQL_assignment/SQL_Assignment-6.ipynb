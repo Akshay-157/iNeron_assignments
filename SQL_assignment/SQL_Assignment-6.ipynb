{
 "cells": [
  {
   "cell_type": "markdown",
   "id": "20a08ee4",
   "metadata": {},
   "source": [
    "Q-1. Write an SQL query to print details of the Workers who have joined in Feb’2014."
   ]
  },
  {
   "cell_type": "raw",
   "id": "40bb003a",
   "metadata": {},
   "source": [
    "SELECT * FROM Workers WHERE JOINING_DATE = \"Feb'2014\""
   ]
  },
  {
   "cell_type": "markdown",
   "id": "4e9fc197",
   "metadata": {},
   "source": [
    "Q-2. Write an SQL query to fetch duplicate records having matching data in some fields of\n",
    "a table."
   ]
  },
  {
   "cell_type": "raw",
   "id": "d487c44b",
   "metadata": {},
   "source": [
    "#assuming the duplicates are in worker table in the department field\n",
    "SELECT WORKER_NAME, COUNT(DEPT_ID) FROM Worker GROUP BY DEPT_ID HAVING COUNT(DEPT_ID) > 1"
   ]
  },
  {
   "cell_type": "markdown",
   "id": "8c1ef325",
   "metadata": {},
   "source": [
    "Q-3. How to remove duplicate rows from Employees table."
   ]
  },
  {
   "cell_type": "raw",
   "id": "947df6ee",
   "metadata": {},
   "source": [
    "DELETE FROM Employees WHERE ROW_ID NOT IN (\n",
    "    SELECT MAX(ROW_ID) FROM Employees GROUP BY EMPLOYEE_NAME,DEPT_ID)"
   ]
  }
 ],
 "metadata": {
  "kernelspec": {
   "display_name": "python_sql",
   "language": "python",
   "name": "python_sql"
  },
  "language_info": {
   "codemirror_mode": {
    "name": "ipython",
    "version": 3
   },
   "file_extension": ".py",
   "mimetype": "text/x-python",
   "name": "python",
   "nbconvert_exporter": "python",
   "pygments_lexer": "ipython3",
   "version": "3.9.7"
  }
 },
 "nbformat": 4,
 "nbformat_minor": 5
}
