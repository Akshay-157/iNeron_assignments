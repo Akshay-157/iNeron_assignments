{
 "cells": [
  {
   "cell_type": "markdown",
   "id": "9bd2ff77",
   "metadata": {},
   "source": [
    "Q-13. Write an SQL query to show only odd rows from a table."
   ]
  },
  {
   "cell_type": "raw",
   "id": "81a211fe",
   "metadata": {},
   "source": [
    "SELECT * FROM (SELECT *, Row_Number() OVER(ORDER BY First, Last) AS RowNumber FROM table) as t WHERE t.RowNumber % 2 = 1"
   ]
  },
  {
   "cell_type": "markdown",
   "id": "d33c7fc0",
   "metadata": {},
   "source": [
    "Q-14. Write an SQL query to clone a new table from another table."
   ]
  },
  {
   "cell_type": "raw",
   "id": "e5a555e3",
   "metadata": {},
   "source": [
    "CREATE TABLE new_table LIKE original_table;\n",
    "INSERT INTO new_table SELECT * FROM original_table;"
   ]
  }
 ],
 "metadata": {
  "kernelspec": {
   "display_name": "python_sql",
   "language": "python",
   "name": "python_sql"
  },
  "language_info": {
   "codemirror_mode": {
    "name": "ipython",
    "version": 3
   },
   "file_extension": ".py",
   "mimetype": "text/x-python",
   "name": "python",
   "nbconvert_exporter": "python",
   "pygments_lexer": "ipython3",
   "version": "3.9.7"
  }
 },
 "nbformat": 4,
 "nbformat_minor": 5
}
