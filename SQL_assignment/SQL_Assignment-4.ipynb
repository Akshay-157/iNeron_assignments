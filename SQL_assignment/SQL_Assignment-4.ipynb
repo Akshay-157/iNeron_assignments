{
 "cells": [
  {
   "cell_type": "markdown",
   "id": "0bc802a7",
   "metadata": {},
   "source": [
    "Q-1. Write an SQL query to print the FIRST_NAME from Worker table after replacing ‘a’\n",
    "with ‘A’."
   ]
  },
  {
   "cell_type": "raw",
   "id": "3ba2428b",
   "metadata": {},
   "source": [
    "SELECT REPLACE(FIRST_NAME, \"a\", \"A\") FROM Worker"
   ]
  },
  {
   "cell_type": "markdown",
   "id": "68d57744",
   "metadata": {},
   "source": [
    "Q-2. Write an SQL query to print all Worker details from the Worker table order by\n",
    "FIRST_NAME Ascending and DEPARTMENT Descending."
   ]
  },
  {
   "cell_type": "raw",
   "id": "6a480ec3",
   "metadata": {},
   "source": [
    "SELECT * FROM Worker ORDER BY FIRST_NAME ASC, DEPARTMENT DESC"
   ]
  },
  {
   "cell_type": "markdown",
   "id": "b79cfb9f",
   "metadata": {},
   "source": [
    "Q-3. Write an SQL query to fetch the names of workers who earn the highest salary."
   ]
  },
  {
   "cell_type": "raw",
   "id": "cbbf9d2b",
   "metadata": {},
   "source": [
    "SELECT WORKER_NAME FROM Worker WHERE SALARY = MAX(SALARY)"
   ]
  }
 ],
 "metadata": {
  "kernelspec": {
   "display_name": "python_sql",
   "language": "python",
   "name": "python_sql"
  },
  "language_info": {
   "codemirror_mode": {
    "name": "ipython",
    "version": 3
   },
   "file_extension": ".py",
   "mimetype": "text/x-python",
   "name": "python",
   "nbconvert_exporter": "python",
   "pygments_lexer": "ipython3",
   "version": "3.9.7"
  }
 },
 "nbformat": 4,
 "nbformat_minor": 5
}
