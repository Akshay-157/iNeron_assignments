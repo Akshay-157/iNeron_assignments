{
 "cells": [
  {
   "cell_type": "markdown",
   "id": "e19b27c0",
   "metadata": {},
   "source": [
    "Q-1. Write an SQL query to print the FIRST_NAME from Worker table after removing\n",
    "white spaces from the right side."
   ]
  },
  {
   "cell_type": "raw",
   "id": "e1ce5723",
   "metadata": {},
   "source": [
    "SELECT RTRIM(FIRST_NAME) FROM Worker"
   ]
  },
  {
   "cell_type": "markdown",
   "id": "290e9daf",
   "metadata": {},
   "source": [
    "Write an SQL query that fetches the unique values of DEPARTMENT from Worker\n",
    "table and prints its length."
   ]
  },
  {
   "cell_type": "raw",
   "id": "50ffc24f",
   "metadata": {},
   "source": [
    "SELECT DEPARTMENT, LEN(DEPARTMENT) FROM Worker"
   ]
  },
  {
   "cell_type": "markdown",
   "id": "1a771db7",
   "metadata": {},
   "source": [
    "Q-3. Write an SQL query to fetch nth max salaries from a table."
   ]
  },
  {
   "cell_type": "raw",
   "id": "5ffe36a7",
   "metadata": {},
   "source": [
    "SELECT * FROM tablename WHERE SALARY = (\n",
    "    SELECT MIN(SALARY) FROM tablename WHERE SALARY IN (\n",
    "        SELECT DISTINCT TOP N SALARY FROM tablename ORDER BY SALARY DESC\n",
    "    )\n",
    ")"
   ]
  }
 ],
 "metadata": {
  "kernelspec": {
   "display_name": "python_sql",
   "language": "python",
   "name": "python_sql"
  },
  "language_info": {
   "codemirror_mode": {
    "name": "ipython",
    "version": 3
   },
   "file_extension": ".py",
   "mimetype": "text/x-python",
   "name": "python",
   "nbconvert_exporter": "python",
   "pygments_lexer": "ipython3",
   "version": "3.9.7"
  }
 },
 "nbformat": 4,
 "nbformat_minor": 5
}
