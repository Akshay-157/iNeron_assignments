{
 "cells": [
  {
   "cell_type": "markdown",
   "id": "eee89253",
   "metadata": {},
   "source": [
    "Q-17. Write an SQL query to show the top n (say 10) records of a table."
   ]
  },
  {
   "cell_type": "raw",
   "id": "3131f49d",
   "metadata": {},
   "source": [
    "SELECT * FROM table LIMIT 10;"
   ]
  },
  {
   "cell_type": "markdown",
   "id": "216e10af",
   "metadata": {},
   "source": [
    "Q-18. Write an SQL query to determine the nth (say n=5) highest salary from a table."
   ]
  },
  {
   "cell_type": "raw",
   "id": "a6a4b5e2",
   "metadata": {},
   "source": [
    "SELECT * FROM tablename WHERE SALARY = (\n",
    "    SELECT MAX(SALARY) FROM tablename WHERE SALARY IN (\n",
    "        SELECT DISTINCT TOP 5 SALARY FROM tablename ORDER BY SALARY DESC\n",
    "    )\n",
    ")"
   ]
  }
 ],
 "metadata": {
  "kernelspec": {
   "display_name": "python_sql",
   "language": "python",
   "name": "python_sql"
  },
  "language_info": {
   "codemirror_mode": {
    "name": "ipython",
    "version": 3
   },
   "file_extension": ".py",
   "mimetype": "text/x-python",
   "name": "python",
   "nbconvert_exporter": "python",
   "pygments_lexer": "ipython3",
   "version": "3.9.7"
  }
 },
 "nbformat": 4,
 "nbformat_minor": 5
}
