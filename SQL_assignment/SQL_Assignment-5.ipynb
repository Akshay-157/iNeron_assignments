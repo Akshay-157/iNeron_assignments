{
 "cells": [
  {
   "cell_type": "markdown",
   "id": "b2993225",
   "metadata": {},
   "source": [
    "Q-1. Write an SQL query to print details of workers excluding first names, “Vipul” and\n",
    "“Satish” from Worker table."
   ]
  },
  {
   "cell_type": "raw",
   "id": "e9cecf67",
   "metadata": {},
   "source": [
    "SELECT * FROM Worker WHERE NOT FIRST_NAME = \"Vipul\" and NOT FIRST_NAME = \"Satish\"  "
   ]
  },
  {
   "cell_type": "markdown",
   "id": "d24c645b",
   "metadata": {},
   "source": [
    "Q-2. Write an SQL query to print details of the Workers whose FIRST_NAME ends with\n",
    "‘h’ and contains six alphabets."
   ]
  },
  {
   "cell_type": "raw",
   "id": "d4ded39d",
   "metadata": {},
   "source": [
    "SELECT * FROM Worker WHERE FIRST_NAME LIKE \"_____h\""
   ]
  },
  {
   "cell_type": "markdown",
   "id": "4465ca69",
   "metadata": {},
   "source": [
    "Q-3. Write a query to validate Email of Employee."
   ]
  },
  {
   "cell_type": "raw",
   "id": "8c58ec39",
   "metadata": {},
   "source": [
    "SELECT * FROM Employees WHERE EMAIL NOT LIKE '%_@__%.__%'"
   ]
  }
 ],
 "metadata": {
  "kernelspec": {
   "display_name": "python_sql",
   "language": "python",
   "name": "python_sql"
  },
  "language_info": {
   "codemirror_mode": {
    "name": "ipython",
    "version": 3
   },
   "file_extension": ".py",
   "mimetype": "text/x-python",
   "name": "python",
   "nbconvert_exporter": "python",
   "pygments_lexer": "ipython3",
   "version": "3.9.7"
  }
 },
 "nbformat": 4,
 "nbformat_minor": 5
}
