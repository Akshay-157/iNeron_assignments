{
 "cells": [
  {
   "cell_type": "markdown",
   "id": "8ad9f0f1",
   "metadata": {},
   "source": [
    "Q-19. Write an SQL query to determine the 5th highest salary without using TOP or limit\n",
    "method."
   ]
  },
  {
   "cell_type": "code",
   "execution_count": null,
   "id": "b8f15ba3",
   "metadata": {},
   "outputs": [],
   "source": [
    "SELECT * FROM (SELECT ROW_NUMBER() OVER (ORDER BY SALARY DESC) AS rownumber,Salary FROM Employee) as t\n",
    "    WHERE rownumber = 5"
   ]
  },
  {
   "cell_type": "markdown",
   "id": "8c7bf8ab",
   "metadata": {},
   "source": [
    "Q-20. Write an SQL query to fetch the list of employees with the same salary."
   ]
  },
  {
   "cell_type": "code",
   "execution_count": null,
   "id": "959563bc",
   "metadata": {},
   "outputs": [],
   "source": [
    "SELECT EMPLOYEE_NAME FROM employees WHERE SALARY IN \n",
    "    (SELECT SALARY FROM employees GROUP BY SALARY HAVING COUNT(*) >1)"
   ]
  }
 ],
 "metadata": {
  "kernelspec": {
   "display_name": "python_sql",
   "language": "python",
   "name": "python_sql"
  },
  "language_info": {
   "codemirror_mode": {
    "name": "ipython",
    "version": 3
   },
   "file_extension": ".py",
   "mimetype": "text/x-python",
   "name": "python",
   "nbconvert_exporter": "python",
   "pygments_lexer": "ipython3",
   "version": "3.9.7"
  }
 },
 "nbformat": 4,
 "nbformat_minor": 5
}
