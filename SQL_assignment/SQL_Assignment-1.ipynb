{
 "cells": [
  {
   "cell_type": "markdown",
   "id": "75aeba00",
   "metadata": {},
   "source": [
    "Q-1. Write an SQL query to fetch “FIRST_NAME” from Worker table using the alias\n",
    "name as &lt;WORKER_NAME&gt;."
   ]
  },
  {
   "cell_type": "raw",
   "id": "1b504b93",
   "metadata": {},
   "source": [
    "SELECT FIRST_NAME AS WORKER_NAME FROM Worker"
   ]
  },
  {
   "cell_type": "markdown",
   "id": "0a527683",
   "metadata": {},
   "source": [
    "Q-2. Write an SQL query to fetch unique values of DEPARTMENT from Worker table."
   ]
  },
  {
   "cell_type": "raw",
   "id": "88f79641",
   "metadata": {},
   "source": [
    "SELECT DISTINCT DEPARTMENT FROM Worker"
   ]
  },
  {
   "cell_type": "markdown",
   "id": "1a3966f2",
   "metadata": {},
   "source": [
    "Q-3. Write an SQL query to show the last 5 record from a table."
   ]
  },
  {
   "cell_type": "raw",
   "id": "2d72b878",
   "metadata": {},
   "source": [
    "SELECT * FROM tablename ORDER BY id DESC LIMIT 10"
   ]
  }
 ],
 "metadata": {
  "kernelspec": {
   "display_name": "python_sql",
   "language": "python",
   "name": "python_sql"
  },
  "language_info": {
   "codemirror_mode": {
    "name": "ipython",
    "version": 3
   },
   "file_extension": ".py",
   "mimetype": "text/x-python",
   "name": "python",
   "nbconvert_exporter": "python",
   "pygments_lexer": "ipython3",
   "version": "3.9.7"
  }
 },
 "nbformat": 4,
 "nbformat_minor": 5
}
