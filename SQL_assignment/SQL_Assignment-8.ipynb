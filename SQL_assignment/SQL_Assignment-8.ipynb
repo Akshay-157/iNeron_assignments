{
 "cells": [
  {
   "cell_type": "markdown",
   "id": "e145b17c",
   "metadata": {},
   "source": [
    "Q-15. Write an SQL query to fetch intersecting records of two tables."
   ]
  },
  {
   "cell_type": "raw",
   "id": "5aeb9cb8",
   "metadata": {},
   "source": [
    "--assuming the ID column is common in both tables.\n",
    "SELECT  *\n",
    "     FROM table1\n",
    "     LEFT JOIN table2\n",
    "     ON table1.ID = table2.id \n",
    "INTERSECT\n",
    "     SELECT *\n",
    "     FROM table1\n",
    "     RIGHT JOIN table2\n",
    "     ON table1.ID = table2.id;"
   ]
  },
  {
   "cell_type": "markdown",
   "id": "87c9b05f",
   "metadata": {},
   "source": [
    "Q-16. Write an SQL query to show records from one table that another table does not\n",
    "have."
   ]
  },
  {
   "cell_type": "raw",
   "id": "6fbdc422",
   "metadata": {},
   "source": [
    "--Assuming a common column in both the tables\n",
    "SELECT col1 FROM table2 WHERE NOT EXISTS \n",
    "    (SELECT * FROM table1 WHERE table1.col1 = table2.col1)"
   ]
  }
 ],
 "metadata": {
  "kernelspec": {
   "display_name": "python_sql",
   "language": "python",
   "name": "python_sql"
  },
  "language_info": {
   "codemirror_mode": {
    "name": "ipython",
    "version": 3
   },
   "file_extension": ".py",
   "mimetype": "text/x-python",
   "name": "python",
   "nbconvert_exporter": "python",
   "pygments_lexer": "ipython3",
   "version": "3.9.7"
  }
 },
 "nbformat": 4,
 "nbformat_minor": 5
}
