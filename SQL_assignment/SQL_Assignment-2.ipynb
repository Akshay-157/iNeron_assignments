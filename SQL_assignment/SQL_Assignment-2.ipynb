{
 "cells": [
  {
   "cell_type": "markdown",
   "id": "042132d5",
   "metadata": {},
   "source": [
    "Q-1. Write an SQL query to print the first three characters of  FIRST_NAME from Worker\n",
    "table."
   ]
  },
  {
   "cell_type": "raw",
   "id": "a8ce2a5c",
   "metadata": {},
   "source": [
    "SELECT SUBSTRING(FIRST_NAME, 1, 3) FROM Worker"
   ]
  },
  {
   "cell_type": "markdown",
   "id": "b73f92f9",
   "metadata": {},
   "source": [
    "Q-2. Write an SQL query to find the position of the alphabet (‘a’) in the first name\n",
    "column ‘Amitabh’ from Worker table."
   ]
  },
  {
   "cell_type": "raw",
   "id": "fa614195",
   "metadata": {},
   "source": [
    "SELECT INSTR(FIRST_NAME, BINARY'a') FROM Worker WHERE FIRST_NAME = \"Amitabh\""
   ]
  },
  {
   "cell_type": "markdown",
   "id": "75d7d4a1",
   "metadata": {},
   "source": [
    "Q-3. Write an SQL query to print the name of employees having the highest salary in each\n",
    "department."
   ]
  },
  {
   "cell_type": "code",
   "execution_count": null,
   "id": "d4e12610",
   "metadata": {},
   "outputs": [],
   "source": [
    "SELECT DEPT_ID, EMPLOYEE_NAME, SALARY FROM EMPLOYEES WHERE (DEPT_ID, SALARY) IN \n",
    "    (SELECT DEPT_ID, MAX(SALARY) FROM EMPLOYEES GROUP BY DEPT_ID))"
   ]
  }
 ],
 "metadata": {
  "kernelspec": {
   "display_name": "python_sql",
   "language": "python",
   "name": "python_sql"
  },
  "language_info": {
   "codemirror_mode": {
    "name": "ipython",
    "version": 3
   },
   "file_extension": ".py",
   "mimetype": "text/x-python",
   "name": "python",
   "nbconvert_exporter": "python",
   "pygments_lexer": "ipython3",
   "version": "3.9.7"
  }
 },
 "nbformat": 4,
 "nbformat_minor": 5
}
