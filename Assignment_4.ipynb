{
 "cells": [
  {
   "cell_type": "markdown",
   "id": "3b877f56",
   "metadata": {},
   "source": [
    "1. What exactly is []?"
   ]
  },
  {
   "cell_type": "raw",
   "id": "0debc64e",
   "metadata": {},
   "source": [
    "\"[]\" is an empty list having no items. It is a general form of representing a list of times. "
   ]
  },
  {
   "cell_type": "markdown",
   "id": "b4538d0b",
   "metadata": {},
   "source": [
    "2. In a list of values stored in a variable called spam, how would you assign the value 'hello' as the third value? (Assume [2, 4, 6, 8, 10] are in spam.)"
   ]
  },
  {
   "cell_type": "code",
   "execution_count": 1,
   "id": "6b1313ed",
   "metadata": {},
   "outputs": [
    {
     "name": "stdout",
     "output_type": "stream",
     "text": [
      "[2, 4, 'hello', 8, 10]\n"
     ]
    }
   ],
   "source": [
    "spam = [2, 4, 6, 8, 10]\n",
    "spam[2] = \"hello\" #assigning hello as third value\n",
    "print(spam)"
   ]
  },
  {
   "cell_type": "markdown",
   "id": "9fd6d149",
   "metadata": {},
   "source": [
    "Let's pretend the spam includes the list ['a', 'b', 'c', 'd'] for the next three queries"
   ]
  },
  {
   "cell_type": "code",
   "execution_count": 2,
   "id": "49bd7eba",
   "metadata": {},
   "outputs": [],
   "source": [
    "spam = ['a', 'b', 'c', 'd']"
   ]
  },
  {
   "cell_type": "markdown",
   "id": "ad88a1fe",
   "metadata": {},
   "source": [
    "3. What is the value of spam[int(int('3' * 2) / 11)]?"
   ]
  },
  {
   "cell_type": "code",
   "execution_count": 3,
   "id": "889351f0",
   "metadata": {},
   "outputs": [
    {
     "data": {
      "text/plain": [
       "'d'"
      ]
     },
     "execution_count": 3,
     "metadata": {},
     "output_type": "execute_result"
    }
   ],
   "source": [
    "spam[int(int('3' * 2) / 11)]"
   ]
  },
  {
   "cell_type": "markdown",
   "id": "72951664",
   "metadata": {},
   "source": [
    "4. What is the value of spam[-1]?"
   ]
  },
  {
   "cell_type": "code",
   "execution_count": 4,
   "id": "ba0e4ca8",
   "metadata": {},
   "outputs": [
    {
     "data": {
      "text/plain": [
       "'d'"
      ]
     },
     "execution_count": 4,
     "metadata": {},
     "output_type": "execute_result"
    }
   ],
   "source": [
    "spam[-1]"
   ]
  },
  {
   "cell_type": "markdown",
   "id": "7285ec17",
   "metadata": {},
   "source": [
    "5. What is the value of spam[:2]?"
   ]
  },
  {
   "cell_type": "code",
   "execution_count": 5,
   "id": "eacdf4e2",
   "metadata": {},
   "outputs": [
    {
     "data": {
      "text/plain": [
       "['a', 'b']"
      ]
     },
     "execution_count": 5,
     "metadata": {},
     "output_type": "execute_result"
    }
   ],
   "source": [
    "spam[:2]"
   ]
  },
  {
   "cell_type": "markdown",
   "id": "aed835be",
   "metadata": {},
   "source": [
    "Let's pretend bacon has the list [3.14, 'cat,' 11, 'cat,' True] for the next three questions."
   ]
  },
  {
   "cell_type": "code",
   "execution_count": 6,
   "id": "e5fbd402",
   "metadata": {},
   "outputs": [],
   "source": [
    "bacon = [3.14, 'cat', 11, 'cat', True]"
   ]
  },
  {
   "cell_type": "markdown",
   "id": "31a2b165",
   "metadata": {},
   "source": [
    "6. What is the value of bacon.index('cat')?"
   ]
  },
  {
   "cell_type": "code",
   "execution_count": 7,
   "id": "3cd2fb95",
   "metadata": {},
   "outputs": [
    {
     "data": {
      "text/plain": [
       "1"
      ]
     },
     "execution_count": 7,
     "metadata": {},
     "output_type": "execute_result"
    }
   ],
   "source": [
    "bacon.index('cat') #will return the first encouter of the index"
   ]
  },
  {
   "cell_type": "markdown",
   "id": "633c33f4",
   "metadata": {},
   "source": [
    "7. How does bacon.append(99) change the look of the list value in bacon?"
   ]
  },
  {
   "cell_type": "code",
   "execution_count": 8,
   "id": "fba0b71a",
   "metadata": {},
   "outputs": [
    {
     "name": "stdout",
     "output_type": "stream",
     "text": [
      "[3.14, 'cat', 11, 'cat', True, 99]\n"
     ]
    }
   ],
   "source": [
    "bacon.append(99)\n",
    "print(bacon)"
   ]
  },
  {
   "cell_type": "markdown",
   "id": "64839e11",
   "metadata": {},
   "source": [
    "8. How does bacon.remove('cat') change the look of the list in bacon?"
   ]
  },
  {
   "cell_type": "code",
   "execution_count": 9,
   "id": "52a507f4",
   "metadata": {},
   "outputs": [
    {
     "name": "stdout",
     "output_type": "stream",
     "text": [
      "[3.14, 11, 'cat', True, 99]\n"
     ]
    }
   ],
   "source": [
    "bacon.remove('cat') #will remove the first occurace of the \"cat\"\n",
    "print(bacon)"
   ]
  },
  {
   "cell_type": "markdown",
   "id": "2e30aeb7",
   "metadata": {},
   "source": [
    "9. What are the list concatenation and list replication operators?"
   ]
  },
  {
   "cell_type": "raw",
   "id": "73c066e0",
   "metadata": {},
   "source": [
    "List concatenation Operator: +\n",
    "List replication Operator: *"
   ]
  },
  {
   "cell_type": "code",
   "execution_count": 10,
   "id": "b5cc5f49",
   "metadata": {},
   "outputs": [
    {
     "name": "stdout",
     "output_type": "stream",
     "text": [
      "Concatenated List: [1, 2, 3, 4, 5, 6]\n",
      "Replicated List: [1, 2, 3, 1, 2, 3, 1, 2, 3]\n"
     ]
    }
   ],
   "source": [
    "#Examples:\n",
    "a = [1, 2, 3] \n",
    "b = [4, 5, 6] \n",
    "\n",
    "#concatenation\n",
    "c = a + b\n",
    "print(\"Concatenated List:\", c)\n",
    "\n",
    "#Replication\n",
    "c = a*3 #replicate list a 3 times\n",
    "\n",
    "print(\"Replicated List:\", c)"
   ]
  },
  {
   "cell_type": "markdown",
   "id": "73705227",
   "metadata": {},
   "source": [
    "10. What is difference between the list methods append() and insert()?"
   ]
  },
  {
   "cell_type": "raw",
   "id": "3d8e0933",
   "metadata": {},
   "source": [
    "append(): This function is used to modify an already existing list. Adds a new specific element at the end of the list.\n",
    "\n",
    "insert(): This function allows us to add a specific element at a specified index of the list."
   ]
  },
  {
   "cell_type": "code",
   "execution_count": 11,
   "id": "e1b5891e",
   "metadata": {},
   "outputs": [
    {
     "name": "stdout",
     "output_type": "stream",
     "text": [
      "List after appending: [1, 2, 3, 33]\n",
      "List after inserting: [33, 1, 2, 3]\n"
     ]
    }
   ],
   "source": [
    "#Examples:\n",
    "L=[1,2,3]\n",
    "L.append(33)\n",
    "print(\"List after appending:\", L)\n",
    "\n",
    "L=[1,2,3]\n",
    "L.insert(0, 33)\n",
    "print(\"List after inserting:\", L)"
   ]
  },
  {
   "cell_type": "markdown",
   "id": "b8bf4555",
   "metadata": {},
   "source": [
    "11. What are the two methods for removing items from a list?"
   ]
  },
  {
   "cell_type": "raw",
   "id": "4405982a",
   "metadata": {},
   "source": [
    "Items from a list can be removed using \n",
    "1. del statement\n",
    "2. .remove() method"
   ]
  },
  {
   "cell_type": "code",
   "execution_count": 12,
   "id": "fd8ed20e",
   "metadata": {},
   "outputs": [
    {
     "name": "stdout",
     "output_type": "stream",
     "text": [
      "After using del statement: [33, 1, 2]\n",
      "After using remove statement: [1, 2, 3]\n"
     ]
    }
   ],
   "source": [
    "#Examples:\n",
    "lst = [33, 1, 2, 3]\n",
    "\n",
    "del lst[3] #specify the index from which the item must be removed\n",
    "print(\"After using del statement:\", lst)\n",
    "\n",
    "lst = [33, 1, 2, 3]\n",
    "lst.remove(33) #specify the item to be removed\n",
    "print(\"After using remove statement:\", lst)"
   ]
  },
  {
   "cell_type": "markdown",
   "id": "8d396d8e",
   "metadata": {},
   "source": [
    "12. Describe how list values and string values are identical."
   ]
  },
  {
   "cell_type": "raw",
   "id": "3ec02d60",
   "metadata": {},
   "source": [
    "List and String both store sequential data.\n",
    "Using slicing operation the data can be accessed from both string and list"
   ]
  },
  {
   "cell_type": "code",
   "execution_count": 13,
   "id": "64250f29",
   "metadata": {},
   "outputs": [
    {
     "data": {
      "text/plain": [
       "'b'"
      ]
     },
     "execution_count": 13,
     "metadata": {},
     "output_type": "execute_result"
    }
   ],
   "source": [
    "#example:\n",
    "string =\"Abcdef\" \n",
    "string[1]"
   ]
  },
  {
   "cell_type": "code",
   "execution_count": 14,
   "id": "819ca8bd",
   "metadata": {},
   "outputs": [
    {
     "data": {
      "text/plain": [
       "2"
      ]
     },
     "execution_count": 14,
     "metadata": {},
     "output_type": "execute_result"
    }
   ],
   "source": [
    "Lst =[1,2,'hi']\n",
    "Lst[1]"
   ]
  },
  {
   "cell_type": "markdown",
   "id": "42f6657b",
   "metadata": {},
   "source": [
    "13. What's the difference between tuples and lists?"
   ]
  },
  {
   "cell_type": "raw",
   "id": "feb6b302",
   "metadata": {},
   "source": [
    "Lists:\n",
    "1. Lists are mutable\n",
    "2. Implication of iterations is Time-consuming\n",
    "3. The list is better for performing operations, such as insertion and deletion.\n",
    "4. Lists consume more memory\n",
    "5. Lists have several built-in methods\n",
    "\n",
    "Tuples:\n",
    "1. Tuples are immutable\n",
    "2. The implication of iterations is comparatively Faster\n",
    "3. Tuple data type is appropriate for accessing the elements\n",
    "4. Tuple consume less memory as compared to the list\n",
    "5. Tuple does not have many built-in methods."
   ]
  },
  {
   "cell_type": "markdown",
   "id": "7df7bba9",
   "metadata": {},
   "source": [
    "14. How do you type a tuple value that only contains the integer 42?"
   ]
  },
  {
   "cell_type": "code",
   "execution_count": 15,
   "id": "c6f86b7a",
   "metadata": {},
   "outputs": [
    {
     "data": {
      "text/plain": [
       "tuple"
      ]
     },
     "execution_count": 15,
     "metadata": {},
     "output_type": "execute_result"
    }
   ],
   "source": [
    "#To generate a one-element tuple, a comma , is required at the end.\n",
    "x = (42,)\n",
    "type(x)"
   ]
  },
  {
   "cell_type": "markdown",
   "id": "48ae6b23",
   "metadata": {},
   "source": [
    "15. How do you get a list value's tuple form? How do you get a tuple value's list form?"
   ]
  },
  {
   "cell_type": "code",
   "execution_count": 16,
   "id": "4759c087",
   "metadata": {},
   "outputs": [
    {
     "name": "stdout",
     "output_type": "stream",
     "text": [
      "List to tuple: ('Hello', 'there', 1234)\n",
      "Tuple to list: ['Hello', 'there', 1234]\n"
     ]
    }
   ],
   "source": [
    "#Get list values in tuple form\n",
    "sample_list = ['Hello', 'there', 1234]\n",
    "\n",
    "#convert list into tuple\n",
    "tuple1 = tuple(sample_list)\n",
    "print(\"List to tuple:\", tuple1)\n",
    "\n",
    "#get tuple values list form\n",
    "aTuple = (\"Hello\", \"there\", 1234)\n",
    "\n",
    "#tuple to list\n",
    "aList = list(aTuple)\n",
    "print(\"Tuple to list:\", aList)"
   ]
  },
  {
   "cell_type": "markdown",
   "id": "9c2b4a02",
   "metadata": {},
   "source": [
    "16. Variables that \"contain\" list values are not necessarily lists themselves. Instead, what do they contain?"
   ]
  },
  {
   "cell_type": "raw",
   "id": "2e0bedac",
   "metadata": {},
   "source": [
    "Variables contain reference to the list values instead of lists themselves."
   ]
  },
  {
   "cell_type": "markdown",
   "id": "4fee1aae",
   "metadata": {},
   "source": [
    "17. How do you distinguish between copy.copy() and copy.deepcopy()?"
   ]
  },
  {
   "cell_type": "raw",
   "id": "292f8654",
   "metadata": {},
   "source": [
    "copy.copy(): #shallow copy    \n",
    "A shallow copy means constructing a new collection object and then populating it with references to the child objects found in the original. \n",
    "The copying process does not recurse and therefore won’t create copies of the child objects themselves. \n",
    "In case of shallow copy, a reference of object is copied in other object. It means that any changes made to a copy of object do reflect in the original object. \n",
    "\n",
    "copy.deepcopy():\n",
    "Deep copy is a process in which the copying process occurs recursively. \n",
    "It means first constructing a new collection object and then recursively populating it with copies of the child objects found in the original. \n",
    "In case of deep copy, a copy of object is copied in other object. It means that any changes made to a copy of object do not reflect in the original object"
   ]
  },
  {
   "cell_type": "code",
   "execution_count": null,
   "id": "58f5ff8b",
   "metadata": {},
   "outputs": [],
   "source": []
  }
 ],
 "metadata": {
  "kernelspec": {
   "display_name": "Python 3 (ipykernel)",
   "language": "python",
   "name": "python3"
  },
  "language_info": {
   "codemirror_mode": {
    "name": "ipython",
    "version": 3
   },
   "file_extension": ".py",
   "mimetype": "text/x-python",
   "name": "python",
   "nbconvert_exporter": "python",
   "pygments_lexer": "ipython3",
   "version": "3.9.7"
  }
 },
 "nbformat": 4,
 "nbformat_minor": 5
}
