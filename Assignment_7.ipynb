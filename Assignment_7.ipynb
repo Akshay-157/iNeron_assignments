{
 "cells": [
  {
   "cell_type": "markdown",
   "id": "b7c798fd",
   "metadata": {},
   "source": [
    "1. What is the name of the feature responsible for generating Regex objects?"
   ]
  },
  {
   "cell_type": "raw",
   "id": "326bd961",
   "metadata": {},
   "source": [
    "re.compile() is the function responsible for generating Regex objects"
   ]
  },
  {
   "cell_type": "markdown",
   "id": "174f7ecc",
   "metadata": {},
   "source": [
    "2. Why do raw strings often appear in Regex objects?"
   ]
  },
  {
   "cell_type": "raw",
   "id": "8aa50668",
   "metadata": {},
   "source": [
    "Raw string notation (r\"text\") keeps regular expressions meaningful and confusion-free.\n",
    "Without it, every backslash ('\\') in a regular expression would have to be prefixed with another one to escape it"
   ]
  },
  {
   "cell_type": "markdown",
   "id": "e1d7fcde",
   "metadata": {},
   "source": [
    "3. What is the return value of the search() method?"
   ]
  },
  {
   "cell_type": "raw",
   "id": "858aa004",
   "metadata": {},
   "source": [
    "The return value of the search() method is the match object found at the first occurance in the given string."
   ]
  },
  {
   "cell_type": "markdown",
   "id": "00e241b0",
   "metadata": {},
   "source": [
    "4. From a Match item, how do you get the actual strings that match the pattern?"
   ]
  },
  {
   "cell_type": "raw",
   "id": "f9524d00",
   "metadata": {},
   "source": [
    "The group() method returns actual strings of the matched text."
   ]
  },
  {
   "cell_type": "markdown",
   "id": "dcc99c25",
   "metadata": {},
   "source": [
    "5. In the regex which created from the r'(\\d\\d\\d)-(\\d\\d\\d-\\d\\d\\d\\d)', what does group zero cover? Group 2? Group 1?"
   ]
  },
  {
   "cell_type": "raw",
   "id": "2cbacac0",
   "metadata": {},
   "source": [
    "Group 0 is the entire match, group 1 covers the first set of parentheses, and \n",
    "group 2 covers the second set of parentheses."
   ]
  },
  {
   "cell_type": "markdown",
   "id": "0e203518",
   "metadata": {},
   "source": [
    "6. In standard expression syntax, parentheses and intervals have distinct meanings. How can you tell a regex that you want it to fit real parentheses and periods?"
   ]
  },
  {
   "cell_type": "raw",
   "id": "c643a43f",
   "metadata": {},
   "source": [
    "By escaping the parenthesis and periods with a backslash [\\., \\(, and \\)] we cann specify to a regex to fit in\n",
    "real paranthesis and periods."
   ]
  },
  {
   "cell_type": "markdown",
   "id": "31a55712",
   "metadata": {},
   "source": [
    "7. The findall() method returns a string list or a list of string tuples. What causes it to return one of the two options?"
   ]
  },
  {
   "cell_type": "raw",
   "id": "81f58da8",
   "metadata": {},
   "source": [
    "If the regex has no groups, a list of strings is returned. If the regex has groups, a list of tuples of strings \n",
    "is returned."
   ]
  },
  {
   "cell_type": "markdown",
   "id": "071295d7",
   "metadata": {},
   "source": [
    "8. In standard expressions, what does the | character mean?"
   ]
  },
  {
   "cell_type": "raw",
   "id": "67f5403c",
   "metadata": {},
   "source": [
    "| - stands for OR logical operation in the standard expressions. \n",
    "It signifies matching \"either, or\" between two groups."
   ]
  },
  {
   "cell_type": "markdown",
   "id": "4bcc13c6",
   "metadata": {},
   "source": [
    "9. In regular expressions, what does the character ? stand for?"
   ]
  },
  {
   "cell_type": "raw",
   "id": "6dc5fe21",
   "metadata": {},
   "source": [
    "The ? character can either mean \"match zero or one of the preceding group\" or be used to signify nongreedy matching."
   ]
  },
  {
   "cell_type": "markdown",
   "id": "69356917",
   "metadata": {},
   "source": [
    "10.In regular expressions, what is the difference between the + and * characters?"
   ]
  },
  {
   "cell_type": "raw",
   "id": "87abcadb",
   "metadata": {},
   "source": [
    "The + matches one or more characters. The * matches zero or more characters"
   ]
  },
  {
   "cell_type": "markdown",
   "id": "b660e838",
   "metadata": {},
   "source": [
    "11. What is the difference between {4} and {4,5} in regular expression?"
   ]
  },
  {
   "cell_type": "raw",
   "id": "dfacd9f4",
   "metadata": {},
   "source": [
    "The {4} matches exactly four instances of the preceding group. The {4,5} matches between four and five instances."
   ]
  },
  {
   "cell_type": "markdown",
   "id": "ca94d348",
   "metadata": {},
   "source": [
    "12. What do you mean by the \\d, \\w, and \\s shorthand character classes signify in regular expressions?"
   ]
  },
  {
   "cell_type": "raw",
   "id": "a8495788",
   "metadata": {},
   "source": [
    "\\d - Single digit\n",
    "\\w - word\n",
    "\\s - space character"
   ]
  },
  {
   "cell_type": "markdown",
   "id": "704a1d6b",
   "metadata": {},
   "source": [
    "13. What do means by \\D, \\W, and \\S shorthand character classes signify in regular expressions?"
   ]
  },
  {
   "cell_type": "raw",
   "id": "5c84e015",
   "metadata": {},
   "source": [
    "\\D -  single character that is not a digit\n",
    "\\W -  word\n",
    "\\S -  space character"
   ]
  },
  {
   "cell_type": "markdown",
   "id": "c2578b1e",
   "metadata": {},
   "source": [
    "14. What is the difference between .\\*? and .\\*?"
   ]
  },
  {
   "cell_type": "raw",
   "id": "4a893f2e",
   "metadata": {},
   "source": [
    ".*? - Accepts the first matched sequence and stops. Non-Greedy approach\n",
    ".* - Accepts as many sequence as available. Greedy approach."
   ]
  },
  {
   "cell_type": "markdown",
   "id": "fb484f3b",
   "metadata": {},
   "source": [
    "15. What is the syntax for matching both numbers and lowercase letters with a character class?"
   ]
  },
  {
   "cell_type": "raw",
   "id": "2a1b52f3",
   "metadata": {},
   "source": [
    "we can use either one of [0-9a-z] or [a-z0-9] for matching both nubers and lowercase letters"
   ]
  },
  {
   "cell_type": "markdown",
   "id": "c02f3365",
   "metadata": {},
   "source": [
    "16. What is the procedure for making a normal expression in regax case insensitive?"
   ]
  },
  {
   "cell_type": "raw",
   "id": "a15f575f",
   "metadata": {},
   "source": [
    "Passing re.I or re.IGNORECASE as the second argument to re.compile() will make the matching case insensitive."
   ]
  },
  {
   "cell_type": "markdown",
   "id": "bae2d045",
   "metadata": {},
   "source": [
    "17. What does the . character normally match? What does it match if re.DOTALL is passed as 2nd argument in re.compile()?"
   ]
  },
  {
   "cell_type": "raw",
   "id": "1c98b1f2",
   "metadata": {},
   "source": [
    "The . character normally matches any character except the newline character. If re.DOTALL is passed as the second argument to re.compile(), then the dot will also match newline characters."
   ]
  },
  {
   "cell_type": "markdown",
   "id": "e3b10e70",
   "metadata": {},
   "source": [
    "18. If numReg = re.compile(r'\\d+'), what will numRegex.sub('X', '11 drummers, 10 pipers, five rings, 4 hen') return?"
   ]
  },
  {
   "cell_type": "code",
   "execution_count": 1,
   "id": "06597c9c",
   "metadata": {},
   "outputs": [],
   "source": [
    "import re"
   ]
  },
  {
   "cell_type": "code",
   "execution_count": 2,
   "id": "4575d001",
   "metadata": {},
   "outputs": [],
   "source": [
    "numReg = re.compile(r'\\d+')"
   ]
  },
  {
   "cell_type": "code",
   "execution_count": 3,
   "id": "3e00b472",
   "metadata": {},
   "outputs": [
    {
     "data": {
      "text/plain": [
       "'X drummers, X pipers, five rings, X hen'"
      ]
     },
     "execution_count": 3,
     "metadata": {},
     "output_type": "execute_result"
    }
   ],
   "source": [
    "numReg.sub('X', '11 drummers, 10 pipers, five rings, 4 hen')"
   ]
  },
  {
   "cell_type": "markdown",
   "id": "4fe67aeb",
   "metadata": {},
   "source": [
    "19. What does passing re.VERBOSE as the 2nd argument to re.compile() allow to do?"
   ]
  },
  {
   "cell_type": "raw",
   "id": "2aa3a8c6",
   "metadata": {},
   "source": [
    "The re.VERBOSE argument allows you to add whitespace and comments to the string passed to re.compile()."
   ]
  },
  {
   "cell_type": "markdown",
   "id": "ca8f733a",
   "metadata": {},
   "source": [
    "20. How would you write a regex that match a number with comma for every three digits? It must match the given following:\n",
    "'42'\n",
    "'1,234'\n",
    "'6,368,745'\n",
    "but not the following:\n",
    "'12,34,567' (which has only two digits between the commas)\n",
    "'1234' (which lacks commas)\n"
   ]
  },
  {
   "cell_type": "code",
   "execution_count": 4,
   "id": "2db0ef84",
   "metadata": {},
   "outputs": [],
   "source": [
    "numReg = re.compile(r'^\\d{1,3}(,\\d{3})*$')"
   ]
  },
  {
   "cell_type": "code",
   "execution_count": 5,
   "id": "5b5aaef7",
   "metadata": {},
   "outputs": [
    {
     "data": {
      "text/plain": [
       "True"
      ]
     },
     "execution_count": 5,
     "metadata": {},
     "output_type": "execute_result"
    }
   ],
   "source": [
    "bool(numReg.match('42'))"
   ]
  },
  {
   "cell_type": "code",
   "execution_count": 6,
   "id": "0ff52f5a",
   "metadata": {},
   "outputs": [
    {
     "data": {
      "text/plain": [
       "True"
      ]
     },
     "execution_count": 6,
     "metadata": {},
     "output_type": "execute_result"
    }
   ],
   "source": [
    "bool(numReg.match('1,234'))"
   ]
  },
  {
   "cell_type": "code",
   "execution_count": 7,
   "id": "7d18f64b",
   "metadata": {},
   "outputs": [
    {
     "data": {
      "text/plain": [
       "True"
      ]
     },
     "execution_count": 7,
     "metadata": {},
     "output_type": "execute_result"
    }
   ],
   "source": [
    "bool(numReg.match('6,368,745'))"
   ]
  },
  {
   "cell_type": "code",
   "execution_count": 8,
   "id": "e10b46e0",
   "metadata": {},
   "outputs": [
    {
     "data": {
      "text/plain": [
       "False"
      ]
     },
     "execution_count": 8,
     "metadata": {},
     "output_type": "execute_result"
    }
   ],
   "source": [
    "bool(numReg.match('12,34,567'))"
   ]
  },
  {
   "cell_type": "code",
   "execution_count": 9,
   "id": "2acf0bea",
   "metadata": {},
   "outputs": [
    {
     "data": {
      "text/plain": [
       "False"
      ]
     },
     "execution_count": 9,
     "metadata": {},
     "output_type": "execute_result"
    }
   ],
   "source": [
    "bool(numReg.match('1234'))"
   ]
  },
  {
   "cell_type": "markdown",
   "id": "90006846",
   "metadata": {},
   "source": [
    "21. How would you write a regex that matches the full name of someone whose last name is Watanabe? You can assume that the first name that comes before it will always be one word that begins with a capital letter. The regex must match the following:\n",
    "'Haruto Watanabe'\n",
    "'Alice Watanabe'\n",
    "'RoboCop Watanabe'\n",
    "but not the following:\n",
    "'haruto Watanabe' (where the first name is not capitalized)\n",
    "'Mr. Watanabe' (where the preceding word has a nonletter character)\n",
    "'Watanabe' (which has no first name)\n",
    "'Haruto watanabe' (where Watanabe is not capitalized)\n"
   ]
  },
  {
   "cell_type": "code",
   "execution_count": 10,
   "id": "05117297",
   "metadata": {},
   "outputs": [],
   "source": [
    "nameReg = re.compile(r'[A-Z][a-z]*\\sWatanabe')"
   ]
  },
  {
   "cell_type": "code",
   "execution_count": 11,
   "id": "b5f073ed",
   "metadata": {},
   "outputs": [
    {
     "data": {
      "text/plain": [
       "True"
      ]
     },
     "execution_count": 11,
     "metadata": {},
     "output_type": "execute_result"
    }
   ],
   "source": [
    "#nameReg.findall('Haruto Watanabe')\n",
    "bool(nameReg.match('Haruto Watanabe'))"
   ]
  },
  {
   "cell_type": "code",
   "execution_count": 12,
   "id": "499ce848",
   "metadata": {},
   "outputs": [
    {
     "data": {
      "text/plain": [
       "True"
      ]
     },
     "execution_count": 12,
     "metadata": {},
     "output_type": "execute_result"
    }
   ],
   "source": [
    "bool(nameReg.match('Alice Watanabe'))"
   ]
  },
  {
   "cell_type": "code",
   "execution_count": 13,
   "id": "5357a2b6",
   "metadata": {},
   "outputs": [
    {
     "data": {
      "text/plain": [
       "True"
      ]
     },
     "execution_count": 13,
     "metadata": {},
     "output_type": "execute_result"
    }
   ],
   "source": [
    "bool(nameReg.search('RoboCop Watanabe'))"
   ]
  },
  {
   "cell_type": "code",
   "execution_count": 14,
   "id": "4365336d",
   "metadata": {},
   "outputs": [
    {
     "data": {
      "text/plain": [
       "False"
      ]
     },
     "execution_count": 14,
     "metadata": {},
     "output_type": "execute_result"
    }
   ],
   "source": [
    "bool(nameReg.match('haruto Watanabe'))"
   ]
  },
  {
   "cell_type": "code",
   "execution_count": 15,
   "id": "595fb400",
   "metadata": {},
   "outputs": [
    {
     "data": {
      "text/plain": [
       "False"
      ]
     },
     "execution_count": 15,
     "metadata": {},
     "output_type": "execute_result"
    }
   ],
   "source": [
    "bool(nameReg.match('Mr. Watanabe'))"
   ]
  },
  {
   "cell_type": "code",
   "execution_count": 16,
   "id": "4fe4a49e",
   "metadata": {},
   "outputs": [
    {
     "data": {
      "text/plain": [
       "False"
      ]
     },
     "execution_count": 16,
     "metadata": {},
     "output_type": "execute_result"
    }
   ],
   "source": [
    "bool(nameReg.match('Watanabe'))"
   ]
  },
  {
   "cell_type": "code",
   "execution_count": 17,
   "id": "69a9b523",
   "metadata": {},
   "outputs": [
    {
     "data": {
      "text/plain": [
       "False"
      ]
     },
     "execution_count": 17,
     "metadata": {},
     "output_type": "execute_result"
    }
   ],
   "source": [
    "bool(nameReg.match('Haruto watanabe'))"
   ]
  },
  {
   "cell_type": "markdown",
   "id": "6bdf85a2",
   "metadata": {},
   "source": [
    "22. How would you write a regex that matches a sentence where the first word is either Alice, Bob, or Carol; the second word is either eats, pets, or throws; the third word is apples, cats, or baseballs; and the sentence ends with a period? This regex should be case-insensitive. It must match the following:\n",
    "'Alice eats apples.'\n",
    "'Bob pets cats.'\n",
    "'Carol throws baseballs.'\n",
    "'Alice throws Apples.'\n",
    "'BOB EATS CATS.'\n",
    "but not the following:\n",
    "'RoboCop eats apples.'\n",
    "'ALICE THROWS FOOTBALLS.'\n",
    "'Carol eats 7 cats.'\n"
   ]
  },
  {
   "cell_type": "code",
   "execution_count": 18,
   "id": "8617ae50",
   "metadata": {},
   "outputs": [],
   "source": [
    "pattern = re.compile(r'(Alice|Bob|Carol)\\s(eats|pets|throws)\\s(apples|cats|baseballs)\\.', re.IGNORECASE)"
   ]
  },
  {
   "cell_type": "code",
   "execution_count": 19,
   "id": "9925d20c",
   "metadata": {},
   "outputs": [
    {
     "data": {
      "text/plain": [
       "True"
      ]
     },
     "execution_count": 19,
     "metadata": {},
     "output_type": "execute_result"
    }
   ],
   "source": [
    "bool(pattern.match(\"Alice eats apples.\"))"
   ]
  },
  {
   "cell_type": "code",
   "execution_count": 20,
   "id": "e4fb5ee2",
   "metadata": {},
   "outputs": [
    {
     "data": {
      "text/plain": [
       "True"
      ]
     },
     "execution_count": 20,
     "metadata": {},
     "output_type": "execute_result"
    }
   ],
   "source": [
    "bool(pattern.match(\"Bob pets cats.\"))"
   ]
  },
  {
   "cell_type": "code",
   "execution_count": 21,
   "id": "37081834",
   "metadata": {},
   "outputs": [
    {
     "data": {
      "text/plain": [
       "True"
      ]
     },
     "execution_count": 21,
     "metadata": {},
     "output_type": "execute_result"
    }
   ],
   "source": [
    "bool(pattern.match(\"Carol throws baseballs.\"))"
   ]
  },
  {
   "cell_type": "code",
   "execution_count": 22,
   "id": "d97bad22",
   "metadata": {},
   "outputs": [
    {
     "data": {
      "text/plain": [
       "True"
      ]
     },
     "execution_count": 22,
     "metadata": {},
     "output_type": "execute_result"
    }
   ],
   "source": [
    "bool(pattern.match(\"Alice throws Apples.\"))"
   ]
  },
  {
   "cell_type": "code",
   "execution_count": 23,
   "id": "ac39216d",
   "metadata": {},
   "outputs": [
    {
     "data": {
      "text/plain": [
       "True"
      ]
     },
     "execution_count": 23,
     "metadata": {},
     "output_type": "execute_result"
    }
   ],
   "source": [
    "bool(pattern.match(\"BOB EATS CATS.\"))"
   ]
  },
  {
   "cell_type": "code",
   "execution_count": 24,
   "id": "78227002",
   "metadata": {},
   "outputs": [
    {
     "data": {
      "text/plain": [
       "False"
      ]
     },
     "execution_count": 24,
     "metadata": {},
     "output_type": "execute_result"
    }
   ],
   "source": [
    "bool(pattern.match(\"RoboCop eats apples.\"))"
   ]
  },
  {
   "cell_type": "code",
   "execution_count": 25,
   "id": "685915a7",
   "metadata": {},
   "outputs": [
    {
     "data": {
      "text/plain": [
       "False"
      ]
     },
     "execution_count": 25,
     "metadata": {},
     "output_type": "execute_result"
    }
   ],
   "source": [
    "bool(pattern.match(\"ALICE THROWS FOOTBALLS.\"))"
   ]
  },
  {
   "cell_type": "code",
   "execution_count": 26,
   "id": "cb611f29",
   "metadata": {},
   "outputs": [
    {
     "data": {
      "text/plain": [
       "False"
      ]
     },
     "execution_count": 26,
     "metadata": {},
     "output_type": "execute_result"
    }
   ],
   "source": [
    "bool(pattern.match(\"Carol eats 7 cats.\"))"
   ]
  },
  {
   "cell_type": "code",
   "execution_count": null,
   "id": "4d461262",
   "metadata": {},
   "outputs": [],
   "source": []
  }
 ],
 "metadata": {
  "kernelspec": {
   "display_name": "Python 3 (ipykernel)",
   "language": "python",
   "name": "python3"
  },
  "language_info": {
   "codemirror_mode": {
    "name": "ipython",
    "version": 3
   },
   "file_extension": ".py",
   "mimetype": "text/x-python",
   "name": "python",
   "nbconvert_exporter": "python",
   "pygments_lexer": "ipython3",
   "version": "3.9.7"
  }
 },
 "nbformat": 4,
 "nbformat_minor": 5
}
