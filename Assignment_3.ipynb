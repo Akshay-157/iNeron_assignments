{
 "cells": [
  {
   "cell_type": "markdown",
   "id": "04c65f6c",
   "metadata": {},
   "source": [
    "1. Why are functions advantageous to have in your programs?"
   ]
  },
  {
   "cell_type": "raw",
   "id": "4fbb39d8",
   "metadata": {},
   "source": [
    "Python Functions stop us from writing the same logic various times. We can bind the logic in one def and then call the same over and over.\n",
    "It encourages us to call the same method with different inputs over multiple times.\n",
    "It helps to divide the large programs into small groups so that we can read the code, and debug the program faster and better.\n",
    "Many persons can work on the same program by assigning different methods to each of them."
   ]
  },
  {
   "cell_type": "markdown",
   "id": "f67b96de",
   "metadata": {},
   "source": [
    "2. When does the code in a function run: when it's specified or when it's called?"
   ]
  },
  {
   "cell_type": "raw",
   "id": "b8dfa988",
   "metadata": {},
   "source": [
    "When the function is specified, it only creates a definition of the function. It does not run the code inside the function. The code run's only when the function is called."
   ]
  },
  {
   "cell_type": "markdown",
   "id": "70c7723d",
   "metadata": {},
   "source": [
    "3. What statement creates a function?"
   ]
  },
  {
   "cell_type": "raw",
   "id": "edab7c28",
   "metadata": {},
   "source": [
    "The statement def <functionName>():\n",
    "creates a function.\n",
    "\n",
    "Example:\n",
    "def sum(i, j): #creating a function sum()\n",
    "    a = i\n",
    "    b  = j\n",
    "    print(a + b)"
   ]
  },
  {
   "cell_type": "markdown",
   "id": "b3640de2",
   "metadata": {},
   "source": [
    "4. What is the difference between a function and a function call?"
   ]
  },
  {
   "cell_type": "raw",
   "id": "afcc760a",
   "metadata": {},
   "source": [
    "FUNCTION: Python Function is a piece of code or any logic that performs the specific operation. This peice of code can be re-used any number of times where ever required.\n",
    "FUNCTION CALL: Calling the original function with a valid number of arguments(if needed). User defined function name should exactly match with the method calling.\n",
    "For example, \n",
    "sum_of_numbers(2, 3) #calling a function."
   ]
  },
  {
   "cell_type": "markdown",
   "id": "24187ce5",
   "metadata": {},
   "source": [
    "5. How many global scopes are there in a Python program? How many local scopes?"
   ]
  },
  {
   "cell_type": "raw",
   "id": "67659e45",
   "metadata": {},
   "source": [
    "Global Scope: There’s only one global Python scope per program execution. This scope remains in existence until the program terminates. Once the program terminates, the values held by the gobal variable is lost.\n",
    "\n",
    "Local scope: Any variable declared inside a function is a local variable and its scope is limited to that particular function only. Trying to access the variable outside the function will throw NameError saying variable is not defined."
   ]
  },
  {
   "cell_type": "markdown",
   "id": "b065a076",
   "metadata": {},
   "source": [
    "6. What happens to variables in a local scope when the function call returns?"
   ]
  },
  {
   "cell_type": "raw",
   "id": "d95aa6bf",
   "metadata": {},
   "source": [
    "The variables are destroyed (the value held by variable is cleared) when the function call returns."
   ]
  },
  {
   "cell_type": "markdown",
   "id": "669642c3",
   "metadata": {},
   "source": [
    "7. What is the concept of a return value? Is it possible to have a return value in an expression?"
   ]
  },
  {
   "cell_type": "raw",
   "id": "1291a332",
   "metadata": {},
   "source": [
    "The concept of return is to send the function's result back to the function caller. \n",
    "\n",
    "The evaluated result of the expression can be returned using return statement."
   ]
  },
  {
   "cell_type": "markdown",
   "id": "271926e6",
   "metadata": {},
   "source": [
    "8. If a function does not have a return statement, what is the return value of a call to that function?"
   ]
  },
  {
   "cell_type": "raw",
   "id": "2c183315",
   "metadata": {},
   "source": [
    "If a function doesn't have a return statement, then the return value of a call to that function will be None.\n",
    "The default return value of a function is None."
   ]
  },
  {
   "cell_type": "markdown",
   "id": "0f40aeb8",
   "metadata": {},
   "source": [
    "9. How do you make a function variable refer to the global variable?"
   ]
  },
  {
   "cell_type": "raw",
   "id": "27ab4e45",
   "metadata": {},
   "source": [
    "using \"global\" keyword, we can make function variable (local variable) refer to global variable."
   ]
  },
  {
   "cell_type": "markdown",
   "id": "6c5d86a4",
   "metadata": {},
   "source": [
    "10. What is the data type of None?"
   ]
  },
  {
   "cell_type": "raw",
   "id": "5cf9d979",
   "metadata": {},
   "source": [
    "Data type of None is NoneType"
   ]
  },
  {
   "cell_type": "markdown",
   "id": "99773562",
   "metadata": {},
   "source": [
    "11. What does the sentence import areallyourpetsnamederic do?"
   ]
  },
  {
   "cell_type": "raw",
   "id": "29138cf2",
   "metadata": {},
   "source": [
    "It imports all the functions, Classes if any that are part of areallyourpetsnamederic module."
   ]
  },
  {
   "cell_type": "markdown",
   "id": "c6562b5e",
   "metadata": {},
   "source": [
    "12. If you had a bacon() feature in a spam module, what would you call it after importing spam?"
   ]
  },
  {
   "cell_type": "raw",
   "id": "0c0254df",
   "metadata": {},
   "source": [
    "After importig spam module, It can be called by using spam.bacon()\n",
    "\n",
    "example:\n",
    "import spam\n",
    "\n",
    "spam.bacon()"
   ]
  },
  {
   "cell_type": "markdown",
   "id": "d8be2769",
   "metadata": {},
   "source": [
    "13. What can you do to save a programme from crashing if it encounters an error?"
   ]
  },
  {
   "cell_type": "raw",
   "id": "222dd518",
   "metadata": {},
   "source": [
    "Imeplementing exception handling can help in saving a programme from crashing."
   ]
  },
  {
   "cell_type": "markdown",
   "id": "98c18e17",
   "metadata": {},
   "source": [
    "14. What is the purpose of the try clause? What is the purpose of the except clause?"
   ]
  },
  {
   "cell_type": "raw",
   "id": "909f8eee",
   "metadata": {},
   "source": [
    "The purpose of try clause is to allow us to test a block of code for errors.\n",
    "\n",
    "The purpose of except clause is to handle the errors that occur in try block\n",
    "\n",
    "Example:\n",
    "    try:\n",
    "        count = a + b\n",
    "        print(count)\n",
    "    except Exception as e:\n",
    "        print(e)\n",
    "        \n",
    "output of the above snippet will be \"name 'a' is not defined\"\n",
    "\n",
    "Here in the try block the variables a and b are not defined. The program has encountered the first error ar \"a\" (since a is not defined). It has thrown the error which is caught by the except clause and is printing the Exception message."
   ]
  }
 ],
 "metadata": {
  "kernelspec": {
   "display_name": "Python 3 (ipykernel)",
   "language": "python",
   "name": "python3"
  },
  "language_info": {
   "codemirror_mode": {
    "name": "ipython",
    "version": 3
   },
   "file_extension": ".py",
   "mimetype": "text/x-python",
   "name": "python",
   "nbconvert_exporter": "python",
   "pygments_lexer": "ipython3",
   "version": "3.9.7"
  }
 },
 "nbformat": 4,
 "nbformat_minor": 5
}
