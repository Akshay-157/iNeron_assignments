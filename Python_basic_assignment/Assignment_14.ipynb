{
 "cells": [
  {
   "cell_type": "markdown",
   "id": "dee66524",
   "metadata": {},
   "source": [
    "1. What does RGBA stand for?"
   ]
  },
  {
   "cell_type": "raw",
   "id": "4f3c7d85",
   "metadata": {},
   "source": [
    "RGBA stands for Red, Green, Blue, and Alpha. RGBA is a color model used in computer graphics that specifies the amount of red, green, blue, and alpha (transparency) in a color. Each color component is represented as an 8-bit value, giving a total of 32 bits to represent each color. This provides a large range of colors, including the ability to specify transparency. The RGBA color model is used in many image and graphics file formats, as well as in CSS for styling web pages."
   ]
  },
  {
   "cell_type": "markdown",
   "id": "4b419314",
   "metadata": {},
   "source": [
    "2. From the Pillow module, how do you get the RGBA value of any images?"
   ]
  },
  {
   "cell_type": "raw",
   "id": "ae15a18e",
   "metadata": {},
   "source": [
    "You can use the Image.getpixel() method of the Image class from the Pillow library to get the RGBA value of any pixel in an image. Here's an example:"
   ]
  },
  {
   "cell_type": "code",
   "execution_count": null,
   "id": "defd9416",
   "metadata": {},
   "outputs": [],
   "source": [
    "from PIL import Image\n",
    "\n",
    "img = Image.open(\"image.png\")\n",
    "r, g, b, a = img.getpixel((0, 0))\n",
    "print(\"RGBA value:\", (r, g, b, a))\n"
   ]
  },
  {
   "cell_type": "raw",
   "id": "814da99d",
   "metadata": {},
   "source": [
    "In this example, Image.open() is used to open an image file and create an Image object. The getpixel() method takes a tuple of x and y coordinates and returns a tuple of four values representing the red, green, blue, and alpha components of the pixel at that location."
   ]
  },
  {
   "cell_type": "markdown",
   "id": "5448aa23",
   "metadata": {},
   "source": [
    "3. What is a box tuple, and how does it work?"
   ]
  },
  {
   "cell_type": "raw",
   "id": "b845c54c",
   "metadata": {},
   "source": [
    "A box tuple is a four-integer tuple that represents the location and size of an image region in the Pillow library. The four integers represent the left, upper, right, and lower pixel coordinate of the region, respectively. The tuple is used to crop or manipulate an image to only include the pixels within the specified region defined by the box tuple. For example, if you have an image and want to crop it to only include a region starting from (100, 100) and extending 200 pixels to the right and 150 pixels down, you would specify a box tuple of (100, 100, 300, 250)."
   ]
  },
  {
   "cell_type": "markdown",
   "id": "58be6847",
   "metadata": {},
   "source": [
    "4. Use your image and load in notebook then, How can you find out the width and height of an Image object?"
   ]
  },
  {
   "cell_type": "raw",
   "id": "20e29849",
   "metadata": {},
   "source": [
    "In order to find out the width and height of an Image object in the Python Pillow library, you can access the width and height properties of the Image object, respectively. For example:"
   ]
  },
  {
   "cell_type": "code",
   "execution_count": null,
   "id": "082d5dec",
   "metadata": {},
   "outputs": [],
   "source": [
    "from PIL import Image\n",
    "\n",
    "# Load an image\n",
    "img = Image.open(\"example.jpg\")\n",
    "\n",
    "# Get the width and height of the image\n",
    "width = img.width\n",
    "height = img.height\n",
    "\n",
    "print(\"Width: \", width)\n",
    "print(\"Height: \", height)\n"
   ]
  },
  {
   "cell_type": "markdown",
   "id": "59c5bc32",
   "metadata": {},
   "source": [
    "5. What method would you call to get Image object for a 100×100 image, excluding the lower-left quarter of it?"
   ]
  },
  {
   "cell_type": "markdown",
   "id": "36187cf0",
   "metadata": {},
   "source": [
    "You can use the crop method of the Image object to get a cropped image. You would specify the box tuple with the desired crop region. To exclude the lower-left quarter of a 100x100 image, you would specify the box tuple as (0, 0, 50, 50)."
   ]
  },
  {
   "cell_type": "code",
   "execution_count": null,
   "id": "79368a78",
   "metadata": {},
   "outputs": [],
   "source": [
    "from PIL import Image\n",
    "\n",
    "# Load the image\n",
    "img = Image.open(\"example.jpg\")\n",
    "\n",
    "# Get the cropped image\n",
    "cropped_img = img.crop((0, 0, 50, 50))\n",
    "\n",
    "# Display the cropped image\n",
    "cropped_img.show()\n"
   ]
  },
  {
   "cell_type": "markdown",
   "id": "52c782f0",
   "metadata": {},
   "source": [
    "6. After making changes to an Image object, how could you save it as an image file?"
   ]
  },
  {
   "cell_type": "raw",
   "id": "db9365a8",
   "metadata": {},
   "source": [
    "To save an Image object with changes made to it as an image file, you can use the save() method. For example:"
   ]
  },
  {
   "cell_type": "code",
   "execution_count": null,
   "id": "51946f4c",
   "metadata": {},
   "outputs": [],
   "source": [
    "from PIL import Image\n",
    "\n",
    "# Open the original image file\n",
    "im = Image.open(\"original.jpg\")\n",
    "\n",
    "# Make changes to the Image object\n",
    "...\n",
    "\n",
    "# Save the modified Image object as a new image file\n",
    "im.save(\"modified.jpg\")\n"
   ]
  },
  {
   "cell_type": "markdown",
   "id": "fb8525e5",
   "metadata": {},
   "source": [
    "7. What module contains Pillow’s shape-drawing code?"
   ]
  },
  {
   "cell_type": "raw",
   "id": "b7213e80",
   "metadata": {},
   "source": [
    "The module that contains Pillow's shape-drawing code is the ImageDraw module."
   ]
  },
  {
   "cell_type": "markdown",
   "id": "d60f4aa2",
   "metadata": {},
   "source": [
    "8. Image objects do not have drawing methods. What kind of object does? How do you get this kind of object?"
   ]
  },
  {
   "cell_type": "raw",
   "id": "d222c6cf",
   "metadata": {},
   "source": [
    "ImageDraw objects have drawing methods. You can get an ImageDraw object from an Image object by calling the ImageDraw.Draw(image) method, where image is an Image object."
   ]
  },
  {
   "cell_type": "code",
   "execution_count": null,
   "id": "152b0324",
   "metadata": {},
   "outputs": [],
   "source": []
  }
 ],
 "metadata": {
  "kernelspec": {
   "display_name": "py_class",
   "language": "python",
   "name": "py_class"
  },
  "language_info": {
   "codemirror_mode": {
    "name": "ipython",
    "version": 3
   },
   "file_extension": ".py",
   "mimetype": "text/x-python",
   "name": "python",
   "nbconvert_exporter": "python",
   "pygments_lexer": "ipython3",
   "version": "3.9.7"
  }
 },
 "nbformat": 4,
 "nbformat_minor": 5
}
