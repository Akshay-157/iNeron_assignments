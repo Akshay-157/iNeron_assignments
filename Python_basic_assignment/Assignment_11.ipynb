{
 "cells": [
  {
   "cell_type": "markdown",
   "id": "66fa36ed",
   "metadata": {},
   "source": [
    "1. Create an assert statement that throws an AssertionError if the variable spam is a negative integer."
   ]
  },
  {
   "cell_type": "code",
   "execution_count": null,
   "id": "21c9791d",
   "metadata": {},
   "outputs": [],
   "source": [
    "assert(spam >= 0, \"Expected spam to be a non-negative integer, but got \" + spam);"
   ]
  },
  {
   "cell_type": "raw",
   "id": "b8396ab5",
   "metadata": {},
   "source": [
    "The assert function takes two arguments: the first argument is the condition to be checked (spam >= 0), and \n",
    "the second argument is the error message that should be displayed if the condition is not met.\n",
    "\n",
    "If spam is a negative integer, then the condition spam >= 0 will be false, and the AssertionError with the specified error message will be thrown."
   ]
  },
  {
   "cell_type": "markdown",
   "id": "256c54ea",
   "metadata": {},
   "source": [
    "2. Write an assert statement that triggers an AssertionError if the variables eggs and bacon contain strings that are the same as each other, even if their cases are different (that is, 'hello' and 'hello' are considered the same, and 'goodbye' and 'GOODbye' are also considered the same)."
   ]
  },
  {
   "cell_type": "code",
   "execution_count": 2,
   "id": "cbdafd6e",
   "metadata": {},
   "outputs": [
    {
     "ename": "AssertionError",
     "evalue": "Error: Strings are the same",
     "output_type": "error",
     "traceback": [
      "\u001b[0;31m---------------------------------------------------------------------------\u001b[0m",
      "\u001b[0;31mAssertionError\u001b[0m                            Traceback (most recent call last)",
      "\u001b[0;32m/var/folders/rq/2380dffn2dq8xqckp53jg5x80000gn/T/ipykernel_94778/2451498851.py\u001b[0m in \u001b[0;36m<module>\u001b[0;34m\u001b[0m\n\u001b[1;32m      2\u001b[0m \u001b[0mbacon\u001b[0m \u001b[0;34m=\u001b[0m \u001b[0;34m\"GOODbye\"\u001b[0m\u001b[0;34m\u001b[0m\u001b[0;34m\u001b[0m\u001b[0m\n\u001b[1;32m      3\u001b[0m \u001b[0;34m\u001b[0m\u001b[0m\n\u001b[0;32m----> 4\u001b[0;31m \u001b[0;32massert\u001b[0m \u001b[0meggs\u001b[0m\u001b[0;34m.\u001b[0m\u001b[0mlower\u001b[0m\u001b[0;34m(\u001b[0m\u001b[0;34m)\u001b[0m \u001b[0;34m!=\u001b[0m \u001b[0mbacon\u001b[0m\u001b[0;34m.\u001b[0m\u001b[0mlower\u001b[0m\u001b[0;34m(\u001b[0m\u001b[0;34m)\u001b[0m\u001b[0;34m,\u001b[0m \u001b[0;34m\"Error: Strings are the same\"\u001b[0m\u001b[0;34m\u001b[0m\u001b[0;34m\u001b[0m\u001b[0m\n\u001b[0m",
      "\u001b[0;31mAssertionError\u001b[0m: Error: Strings are the same"
     ]
    }
   ],
   "source": [
    "eggs = \"goodbye\"\n",
    "bacon = \"GOODbye\"\n",
    "\n",
    "assert eggs.lower() != bacon.lower(), \"Error: Strings are the same\""
   ]
  },
  {
   "cell_type": "markdown",
   "id": "7921eb65",
   "metadata": {},
   "source": [
    "3. Create an assert statement that throws an AssertionError every time."
   ]
  },
  {
   "cell_type": "code",
   "execution_count": 3,
   "id": "0027dcaf",
   "metadata": {},
   "outputs": [
    {
     "ename": "AssertionError",
     "evalue": "This is an assertion error",
     "output_type": "error",
     "traceback": [
      "\u001b[0;31m---------------------------------------------------------------------------\u001b[0m",
      "\u001b[0;31mAssertionError\u001b[0m                            Traceback (most recent call last)",
      "\u001b[0;32m/var/folders/rq/2380dffn2dq8xqckp53jg5x80000gn/T/ipykernel_94778/597619862.py\u001b[0m in \u001b[0;36m<module>\u001b[0;34m\u001b[0m\n\u001b[0;32m----> 1\u001b[0;31m \u001b[0;32massert\u001b[0m \u001b[0;32mFalse\u001b[0m\u001b[0;34m,\u001b[0m \u001b[0;34m\"This is an assertion error\"\u001b[0m\u001b[0;34m\u001b[0m\u001b[0;34m\u001b[0m\u001b[0m\n\u001b[0m",
      "\u001b[0;31mAssertionError\u001b[0m: This is an assertion error"
     ]
    }
   ],
   "source": [
    "assert False, \"This is an assertion error\""
   ]
  },
  {
   "cell_type": "raw",
   "id": "8293ad91",
   "metadata": {},
   "source": [
    "In this example, the assert statement checks if the value False is truthy. Since False is considered falsy in Python, the AssertionError will be raised with the message \"This is an assertion error\"."
   ]
  },
  {
   "cell_type": "markdown",
   "id": "ef97fcc5",
   "metadata": {},
   "source": [
    "4. What are the two lines that must be present in your software in order to call logging.debug()?"
   ]
  },
  {
   "cell_type": "code",
   "execution_count": 4,
   "id": "defcb3ac",
   "metadata": {},
   "outputs": [],
   "source": [
    "import logging\n",
    "logging.basicConfig(level=logging.DEBUG)"
   ]
  },
  {
   "cell_type": "raw",
   "id": "addac599",
   "metadata": {},
   "source": [
    "The first line imports the logging module. The second line sets up the basic configuration for the logging system by calling basicConfig() and setting the level to logging.DEBUG. This sets the logging level to DEBUG, which means that log messages with a level of DEBUG or higher will be recorded."
   ]
  },
  {
   "cell_type": "markdown",
   "id": "3d533e88",
   "metadata": {},
   "source": [
    "5. What are the two lines that your program must have in order to have logging.debug() send a logging message to a file named programLog.txt?"
   ]
  },
  {
   "cell_type": "code",
   "execution_count": 5,
   "id": "329a93ed",
   "metadata": {},
   "outputs": [],
   "source": [
    "import logging\n",
    "logging.basicConfig(filename='programLog.txt', level=logging.DEBUG, filemode='w')"
   ]
  },
  {
   "cell_type": "raw",
   "id": "422d04dd",
   "metadata": {},
   "source": [
    "The first line imports the logging module. The second line sets up the basic configuration for the logging system by calling basicConfig() and setting the following options:\n",
    "\n",
    "filename: The name of the file to which log messages will be written. In this case, the file is named programLog.txt.\n",
    "level: The minimum severity level of log messages that will be recorded. In this case, the level is set to logging.DEBUG, which means that log messages with a level of DEBUG or higher will be recorded.\n",
    "filemode: The mode in which the file is opened. In this case, the mode is set to 'w', which means that the file will be truncated and overwritten each time the logging system is configured."
   ]
  },
  {
   "cell_type": "markdown",
   "id": "45bd2eb7",
   "metadata": {},
   "source": [
    "6. What are the five levels of logging?"
   ]
  },
  {
   "cell_type": "raw",
   "id": "7c5a8d1b",
   "metadata": {},
   "source": [
    "In the Python logging module, there are five levels of log messages, in increasing order of severity:\n",
    "\n",
    "DEBUG: Detailed information, typically of interest only when diagnosing problems.\n",
    "INFO: Confirmation that things are working as expected.\n",
    "WARNING: An indication that something unexpected happened or indicative of some problem in the near future (e.g., ‘disk space low’). The software is still working as expected.\n",
    "ERROR: Due to a more serious problem, the software has not been able to perform some function.\n",
    "CRITICAL: A very serious error, indicating that the program itself may be unable to continue running.\n",
    "\n",
    "By default, log messages with a level of WARNING or higher will be recorded, but you can adjust the logging level to record log messages at different levels of severity. For example, if you set the logging level to logging.DEBUG, then log messages at the DEBUG, INFO, WARNING, ERROR, and CRITICAL levels will be recorded."
   ]
  },
  {
   "cell_type": "markdown",
   "id": "7a802eca",
   "metadata": {},
   "source": [
    "7. What line of code would you add to your software to disable all logging messages?"
   ]
  },
  {
   "cell_type": "code",
   "execution_count": 6,
   "id": "8ff91864",
   "metadata": {},
   "outputs": [],
   "source": [
    "logging.disable(logging.CRITICAL)"
   ]
  },
  {
   "cell_type": "raw",
   "id": "59562899",
   "metadata": {},
   "source": [
    "This line of code disables all log messages by setting the logging level to logging.CRITICAL, which is the highest logging level. Log messages with a severity level lower than CRITICAL will not be recorded. This means that no log messages will be recorded, regardless of the logging level that was previously set."
   ]
  },
  {
   "cell_type": "markdown",
   "id": "06fc8c9c",
   "metadata": {},
   "source": [
    "8.Why is using logging messages better than using print() to display the same message?"
   ]
  },
  {
   "cell_type": "raw",
   "id": "c2f1633c",
   "metadata": {},
   "source": [
    "Using logging messages is generally considered to be better than using print() for a number of reasons:\n",
    "\n",
    "Flexibility: Logging messages can be sent to multiple destinations (e.g., the console, a file, a database, or a remote server) and can be filtered by severity level, which provides much greater flexibility than print() statements.\n",
    "\n",
    "Separation of concerns: Logging messages are designed to provide information about the running of the program, while print() statements are designed to produce output for the user. By using logging messages, you can separate the concerns of providing information for debugging and monitoring the program from producing output for the user.\n",
    "\n",
    "Centralization: Logging messages can be centralized and managed in a single place, which makes it easier to maintain and modify the logging configuration for your program.\n",
    "\n",
    "Performance: Logging messages are optimized for performance and are optimized for large-scale use. print() statements, on the other hand, can slow down the performance of a program, especially if there are many print() statements or if the program produces a large amount of output.\n",
    "\n",
    "Readability: Logging messages are typically structured and include information about the severity level and the source of the log message, which makes it easier to understand and analyze the log messages than it would be with plain print() statements.\n",
    "\n",
    "By using logging messages instead of print() statements, you can take advantage of these benefits to make your code more flexible, maintainable, and scalable."
   ]
  },
  {
   "cell_type": "markdown",
   "id": "583a88a1",
   "metadata": {},
   "source": [
    "9. What are the differences between the Step Over, Step In, and Step Out buttons in the debugger?"
   ]
  },
  {
   "cell_type": "raw",
   "id": "1e5abaa2",
   "metadata": {},
   "source": [
    "The \"Step Over,\" \"Step In,\" and \"Step Out\" buttons in the debugger are used to control the execution of a program and to inspect its behavior during debugging.\n",
    "\n",
    "Step Over: The \"Step Over\" button allows you to execute the current line of code and move to the next line, without entering any function calls on that line. If the current line contains a function call, the function will be executed, but the debugger will not stop at any breakpoints within the function.\n",
    "\n",
    "Step In: The \"Step In\" button allows you to enter a function call and move the debugger to the first line of the function. This is useful when you want to inspect the behavior of a specific function.\n",
    "\n",
    "Step Out: The \"Step Out\" button allows you to exit the current function and move the debugger back to the line that called the function. This is useful when you want to move past a function that you are not interested in debugging.\n",
    "\n",
    "Each of these buttons can be used to step through your code line by line, allowing you to inspect the values of variables, check the flow of execution, and debug your code more effectively."
   ]
  },
  {
   "cell_type": "markdown",
   "id": "2ececb51",
   "metadata": {},
   "source": [
    "10. After you click Continue, when will the debugger stop ?"
   ]
  },
  {
   "cell_type": "raw",
   "id": "9591a38e",
   "metadata": {},
   "source": [
    "The debugger will stop when it encounters a breakpoint or an exception.\n",
    "\n",
    "A breakpoint is a point in the code where the execution of the program is paused and control is transferred to the debugger. You can set breakpoints in the code to inspect the values of variables, check the flow of execution, and debug your code more effectively. When the debugger encounters a breakpoint, it stops execution and allows you to inspect the state of the program.\n",
    "\n",
    "An exception is an error that occurs during the execution of the program. When an exception is raised, the debugger stops execution and allows you to inspect the state of the program and the reason for the exception. This can be useful for finding and fixing bugs in your code.\n",
    "\n",
    "In both cases, after you have inspected the state of the program, you can use the \"Continue\" button to resume the execution of the program. The debugger will stop again if it encounters another breakpoint or exception."
   ]
  },
  {
   "cell_type": "markdown",
   "id": "fef0a32e",
   "metadata": {},
   "source": [
    "11. What is the concept of a breakpoint?"
   ]
  },
  {
   "cell_type": "raw",
   "id": "32ec7294",
   "metadata": {},
   "source": [
    "A breakpoint is a point in the code where the execution of a program is temporarily paused and control is transferred to the debugger. This allows you to inspect the state of the program and check the values of variables, the flow of execution, and other information that can be useful for debugging.\n",
    "\n",
    "Breakpoints can be set in your code by clicking in the margin of the code editor or by using a debugger interface. Once a breakpoint is set, the program will pause execution when it reaches that point, allowing you to inspect the state of the program and make any necessary changes."
   ]
  },
  {
   "cell_type": "code",
   "execution_count": null,
   "id": "bd37017a",
   "metadata": {},
   "outputs": [],
   "source": []
  }
 ],
 "metadata": {
  "kernelspec": {
   "display_name": "Python 3 (ipykernel)",
   "language": "python",
   "name": "python3"
  },
  "language_info": {
   "codemirror_mode": {
    "name": "ipython",
    "version": 3
   },
   "file_extension": ".py",
   "mimetype": "text/x-python",
   "name": "python",
   "nbconvert_exporter": "python",
   "pygments_lexer": "ipython3",
   "version": "3.9.7"
  }
 },
 "nbformat": 4,
 "nbformat_minor": 5
}
