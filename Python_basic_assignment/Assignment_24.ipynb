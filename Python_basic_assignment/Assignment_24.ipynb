{
 "cells": [
  {
   "cell_type": "markdown",
   "id": "f5a9e725",
   "metadata": {},
   "source": [
    "1. What is the relationship between def statements and lambda expressions ?"
   ]
  },
  {
   "cell_type": "raw",
   "id": "e04ee3f6",
   "metadata": {},
   "source": [
    "Lambda functions: are operator can have any number of arguments, but it can have only one expression. It cannot contain any statements and it returns a function object which can be assigned to any variable. They can be used in the block they were created.\n",
    "It is an anonymous function\n",
    "\n",
    "def functions: Functions help break our program into smaller and modular chunks. As our program grows larger and larger, functions make it more organised and manageable. They can be called and used anywhere we want.\n",
    "\n",
    "#examples:\n",
    "def add(a,b):\n",
    "      return a+b\n",
    "\n",
    "add = lambda x, y : x + y "
   ]
  },
  {
   "cell_type": "markdown",
   "id": "2d6f4ee3",
   "metadata": {},
   "source": [
    "2. What is the benefit of lambda?"
   ]
  },
  {
   "cell_type": "raw",
   "id": "9193fea3",
   "metadata": {},
   "source": [
    "Lambda expressions provide several benefits in Python:\n",
    "\n",
    "Conciseness: Lambda expressions allow you to write small, anonymous functions in a compact and readable manner.\n",
    "\n",
    "Improved readability: By reducing the amount of code needed to define a function, lambda expressions can make your code easier to read and understand.\n",
    "\n",
    "Flexibility: Because lambda expressions can be passed around as first-class functions, they provide a high level of flexibility. You can use them to dynamically create new functions, pass them as arguments to other functions, and even store them in data structures such as lists or dictionaries.\n",
    "\n",
    "Ease of use: Lambda expressions can be used in place of small, one-off functions that you might have defined using the def keyword. This makes it easy to use them in a variety of contexts without having to write a separate function definition.\n",
    "\n",
    "Better performance: Because lambda expressions are implemented as inline functions, they can be faster than traditional functions that are defined using the def keyword.\n",
    "\n",
    "Overall, lambda expressions provide a powerful and convenient way to write small, anonymous functions in Python, making your code more concise, flexible, and readable."
   ]
  },
  {
   "cell_type": "markdown",
   "id": "1b907f7f",
   "metadata": {},
   "source": [
    "3. Compare and contrast map, filter, and reduce."
   ]
  },
  {
   "cell_type": "raw",
   "id": "5a306f66",
   "metadata": {},
   "source": [
    "map()\n",
    "This function accepts another function and a sequence of ‘iterables’ as parameters and provides output after applying the function to each iterable in the sequence. It has the following syntax:\n",
    "\n",
    "SYNTAX: map(function, iterables)\n",
    "\n",
    "The function is used to define an expression which is then applied to the ‘iterables’. User-defined functions and lambda functions can both be sent to the map function."
   ]
  },
  {
   "cell_type": "code",
   "execution_count": 1,
   "id": "e3373351",
   "metadata": {},
   "outputs": [
    {
     "name": "stdout",
     "output_type": "stream",
     "text": [
      "<map object at 0x7f89731d47f0>\n",
      "{16, 1, 4, 9}\n"
     ]
    }
   ],
   "source": [
    "#example:\n",
    "def function(a):\n",
    "    return a*a\n",
    "x = map(function, (1,2,3,4))  #x is the map object\n",
    "print(x)\n",
    "print(set(x))"
   ]
  },
  {
   "cell_type": "raw",
   "id": "0998929b",
   "metadata": {},
   "source": [
    "filter()\n",
    "The filter() function is used to generate an output list of values that return true when the function is called. It has the following syntax:\n",
    "\n",
    "SYNTAX: filter (function, iterables)"
   ]
  },
  {
   "cell_type": "code",
   "execution_count": 2,
   "id": "873cc45c",
   "metadata": {},
   "outputs": [
    {
     "name": "stdout",
     "output_type": "stream",
     "text": [
      "<filter object at 0x7f8973362dc0>\n",
      "[3, 4]\n"
     ]
    }
   ],
   "source": [
    "def func(x):\n",
    "    if x>=3:\n",
    "        return x\n",
    "y = filter(func, (1,2,3,4))  \n",
    "print(y)\n",
    "print(list(y))"
   ]
  },
  {
   "cell_type": "raw",
   "id": "603c2144",
   "metadata": {},
   "source": [
    "reduce()\n",
    "The reduce() function applies a provided function to ‘iterables’ and returns a single value, as the name implies.\n",
    "SYNTAX: reduce(function, iterables)"
   ]
  },
  {
   "cell_type": "code",
   "execution_count": 3,
   "id": "34f33257",
   "metadata": {},
   "outputs": [
    {
     "data": {
      "text/plain": [
       "187"
      ]
     },
     "execution_count": 3,
     "metadata": {},
     "output_type": "execute_result"
    }
   ],
   "source": [
    "from functools import reduce\n",
    "reduce(lambda a,b: a+b,[23,21,45,98])"
   ]
  },
  {
   "cell_type": "markdown",
   "id": "ba4b2365",
   "metadata": {},
   "source": [
    "4. What are function annotations, and how are they used?"
   ]
  },
  {
   "cell_type": "raw",
   "id": "f792b2a7",
   "metadata": {},
   "source": [
    "Function annotations are used to provide additional information about the expected inputs and outputs of a function. This information can be used by tools and libraries to perform automatic type checking, documentation generation, and more."
   ]
  },
  {
   "cell_type": "code",
   "execution_count": 4,
   "id": "a7cc72d7",
   "metadata": {},
   "outputs": [],
   "source": [
    "def add_numbers(x: int, y: int) -> int:\n",
    "    return x + y"
   ]
  },
  {
   "cell_type": "raw",
   "id": "1a2bc4b0",
   "metadata": {},
   "source": [
    "In this example, x: int and y: int are the annotations for the arguments x and y, respectively. The annotation -> int is the annotation for the return value, which indicates that the function returns an integer.\n",
    "\n",
    "Function annotations can be accessed through the __annotations__ attribute of a function object. For example:"
   ]
  },
  {
   "cell_type": "code",
   "execution_count": 5,
   "id": "e1083b4e",
   "metadata": {},
   "outputs": [
    {
     "data": {
      "text/plain": [
       "{'x': int, 'y': int, 'return': int}"
      ]
     },
     "execution_count": 5,
     "metadata": {},
     "output_type": "execute_result"
    }
   ],
   "source": [
    "def add_numbers(x: int, y: int) -> int:\n",
    "    return x + y\n",
    "add_numbers.__annotations__"
   ]
  },
  {
   "cell_type": "markdown",
   "id": "f278550c",
   "metadata": {},
   "source": [
    "5. What are recursive functions, and how are they used?"
   ]
  },
  {
   "cell_type": "raw",
   "id": "03fa2d63",
   "metadata": {},
   "source": [
    "Recursive functions are functions that call themselves, either directly or indirectly. They are used to solve problems that can be broken down into smaller, simpler sub-problems that are similar to the original problem. A recursive function continues to call itself with smaller and smaller arguments until it reaches a base case, which is a problem that can be solved directly without further recursion. Once the base case is reached, the function can start returning values back up the call stack."
   ]
  },
  {
   "cell_type": "code",
   "execution_count": 6,
   "id": "d4f2bc04",
   "metadata": {},
   "outputs": [],
   "source": [
    "def factorial(n):\n",
    "    if n == 1:\n",
    "        return 1\n",
    "    else:\n",
    "        return n * factorial(n-1)\n"
   ]
  },
  {
   "cell_type": "code",
   "execution_count": 7,
   "id": "2cb6b051",
   "metadata": {},
   "outputs": [
    {
     "data": {
      "text/plain": [
       "24"
      ]
     },
     "execution_count": 7,
     "metadata": {},
     "output_type": "execute_result"
    }
   ],
   "source": [
    "factorial(4)"
   ]
  },
  {
   "cell_type": "raw",
   "id": "04a6eebd",
   "metadata": {},
   "source": [
    "This is a recursive function to calculate the factorial of a given number. The base case is when n is 1, in which case the function simply returns 1. For any other value of n, the function multiplies n by the factorial of n-1. The function calls itself with n-1 until it reaches the base case.\n",
    "\n",
    "For example, factorial(4) would return 4 * 3 * 2 * 1, which is 24."
   ]
  },
  {
   "cell_type": "markdown",
   "id": "c5dec022",
   "metadata": {},
   "source": [
    "6. What are some general design guidelines for coding functions?"
   ]
  },
  {
   "cell_type": "raw",
   "id": "2c7962bf",
   "metadata": {},
   "source": [
    "Function name should be descriptive and meaningful, so that it explains what the function does.\n",
    "\n",
    "A function should have a single, clear purpose. Avoid writing functions that do multiple unrelated things.\n",
    "\n",
    "A function should be as short as possible while still accomplishing its purpose. This makes it easier to read and understand.\n",
    "\n",
    "Avoid using global variables within a function, as it can lead to unexpected behavior. Instead, use parameters to pass values into the function, and return values to pass values out of the function.\n",
    "\n",
    "Use default argument values and variable-length argument lists to make your function more flexible and easier to use.\n",
    "\n",
    "Add a docstring to your function to describe what it does, what its arguments are, and what it returns.\n",
    "\n",
    "Use meaningful variable names for function parameters and local variables.\n",
    "\n",
    "Avoid side effects, which can make a function hard to reason about. A function should ideally only modify its own local variables and return a value.\n",
    "\n",
    "Handle errors gracefully, either by returning a default value or by raising an appropriate exception.\n",
    "\n",
    "Write unit tests for your functions to ensure they work as expected."
   ]
  },
  {
   "cell_type": "markdown",
   "id": "9a959249",
   "metadata": {},
   "source": [
    "7. Name three or more ways that functions can communicate results to a caller."
   ]
  },
  {
   "cell_type": "raw",
   "id": "358ce083",
   "metadata": {},
   "source": [
    "Return values: Functions can use the return statement to send back a value to the caller.\n",
    "\n",
    "Output parameters: Functions can use output parameters to return multiple values.\n",
    "\n",
    "Global variables: Functions can store results in global variables that can be accessed by the caller.\n",
    "\n",
    "Exceptions: Functions can raise exceptions to indicate errors or unexpected conditions.\n",
    "\n",
    "Standard output: Functions can print results to the standard output, which can be captured by the caller.\n",
    "\n",
    "Files: Functions can write results to files that can be read by the caller.\n",
    "\n",
    "Databases: Functions can write results to databases that can be queried by the caller."
   ]
  },
  {
   "cell_type": "code",
   "execution_count": null,
   "id": "a72e65db",
   "metadata": {},
   "outputs": [],
   "source": []
  }
 ],
 "metadata": {
  "kernelspec": {
   "display_name": "Python 3 (ipykernel)",
   "language": "python",
   "name": "python3"
  },
  "language_info": {
   "codemirror_mode": {
    "name": "ipython",
    "version": 3
   },
   "file_extension": ".py",
   "mimetype": "text/x-python",
   "name": "python",
   "nbconvert_exporter": "python",
   "pygments_lexer": "ipython3",
   "version": "3.9.7"
  }
 },
 "nbformat": 4,
 "nbformat_minor": 5
}
