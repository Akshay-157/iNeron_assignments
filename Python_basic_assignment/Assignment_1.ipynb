{
 "cells": [
  {
   "cell_type": "raw",
   "id": "5a86016a",
   "metadata": {},
   "source": [
    "1. In the below elements which of them are values or an expression? eg:- values can be integer or string and expressions will be mathematical operators.\n",
    "\n",
    "* \n",
    "'hello'\n",
    "-87.8\n",
    "- \n",
    "/ \n",
    "+\t\n",
    "6 \n"
   ]
  },
  {
   "cell_type": "raw",
   "id": "9844e015",
   "metadata": {},
   "source": [
    "Operators: *, -, /, +\n",
    "    \n",
    "values: 'hello', -87.8, 6"
   ]
  },
  {
   "cell_type": "raw",
   "id": "f4707075",
   "metadata": {},
   "source": [
    "2. What is the difference between string and variable?"
   ]
  },
  {
   "cell_type": "raw",
   "id": "75b790f9",
   "metadata": {},
   "source": [
    "string: It is a collection of alphabets, words or characters. It is an immutable sequence data type. The data is represented wrapped inside single or double or triple quotes.\n",
    "    example: \"This is a python string\"\n",
    "        \n",
    "variable: A Python variable is a symbolic name that is a reference or pointer to an object. Once an object is assigned to a variable, you can refer to the object by that name. \n",
    "    But the data itself is still contained within the object\n",
    "    example: name = \"This is my name.\"\n",
    "            here name is the variable. it is holding the value \"This is my name.\"."
   ]
  },
  {
   "cell_type": "raw",
   "id": "f4dee7a2",
   "metadata": {},
   "source": [
    "3. Describe three different data types."
   ]
  },
  {
   "cell_type": "raw",
   "id": "9dd9062f",
   "metadata": {},
   "source": [
    "Data types are the classification of data items. Data types represents a kind of value which determines what can be done to that data.\n",
    "There are Strings, Integers, Floats, Booleans, Lists, Tuples, Dictionaries\n",
    "\n",
    "a). Strings: Anything written between \" \"  becomes string. The strings are immutable.\n",
    "    example: \"Hello!\", \"23.34\"\n",
    "        \n",
    "b). Integers: They are Whole numbers. They are Immutable.\n",
    "    example: 32456\n",
    "\n",
    "c). Floats: They are Decimal numbers. They are immutable.\n",
    "    example: 3.1415"
   ]
  },
  {
   "cell_type": "raw",
   "id": "6110e614",
   "metadata": {},
   "source": [
    "4. What is an expression made up of? What do all expressions do?"
   ]
  },
  {
   "cell_type": "raw",
   "id": "574c323b",
   "metadata": {},
   "source": [
    "An expression is a made up of operators and operands. The expressions are interpreted to produce some other value. They are evaluated as per the precedence of its operators."
   ]
  },
  {
   "cell_type": "raw",
   "id": "4f1c89af",
   "metadata": {},
   "source": [
    "5. This assignment statements, like spam = 10. What is the difference between an expression and a statement?"
   ]
  },
  {
   "cell_type": "raw",
   "id": "8a1e7508",
   "metadata": {},
   "source": [
    "Expression:\n",
    "    1. An expression evaluates to a value\n",
    "    2. The evaluation of a statement does not changes state\n",
    "    3. Evaluation of an expression always Produces or returns a result value.\n",
    "    4. Every expression can’t be a statement.\n",
    "    example:\n",
    "        4+5 (evaluated to 9)\n",
    "    \n",
    "Statement::\n",
    "        1. A statement executes something\n",
    "        2. The execution of a statement changes state\n",
    "        3. Execution of a statement may or may not produces or displays a result value, it only does whatever the statement says.\n",
    "        4. Every statement can be an expression.\n",
    "        example: spam=10, x = 3"
   ]
  },
  {
   "cell_type": "raw",
   "id": "b21d950d",
   "metadata": {},
   "source": [
    "6. After running the following code, what does the variable bacon contain?\n",
    "bacon = 22\n",
    "bacon + 1"
   ]
  },
  {
   "cell_type": "code",
   "execution_count": 2,
   "id": "32f24f0b",
   "metadata": {},
   "outputs": [
    {
     "data": {
      "text/plain": [
       "23"
      ]
     },
     "execution_count": 2,
     "metadata": {},
     "output_type": "execute_result"
    }
   ],
   "source": [
    "bacon = 22\n",
    "bacon + 1"
   ]
  },
  {
   "cell_type": "code",
   "execution_count": 4,
   "id": "68d83fe7",
   "metadata": {},
   "outputs": [
    {
     "name": "stdout",
     "output_type": "stream",
     "text": [
      "22\n"
     ]
    }
   ],
   "source": [
    "print(bacon)"
   ]
  },
  {
   "cell_type": "raw",
   "id": "325e6d91",
   "metadata": {},
   "source": [
    "bacon variable will contain the value 22. Since after incrementing the bacon by 1 it is the value that is being incremented. but the bacon variable is still holding the value 22."
   ]
  },
  {
   "cell_type": "raw",
   "id": "2008e599",
   "metadata": {},
   "source": [
    "7. What should the values of the following two terms be?\n",
    "'spam' + 'spamspam'\n",
    "'spam' * 3"
   ]
  },
  {
   "cell_type": "code",
   "execution_count": 5,
   "id": "e1c5e788",
   "metadata": {},
   "outputs": [
    {
     "data": {
      "text/plain": [
       "'spamspamspam'"
      ]
     },
     "execution_count": 5,
     "metadata": {},
     "output_type": "execute_result"
    }
   ],
   "source": [
    "'spam' + 'spamspam'"
   ]
  },
  {
   "cell_type": "code",
   "execution_count": 6,
   "id": "854e1711",
   "metadata": {},
   "outputs": [
    {
     "data": {
      "text/plain": [
       "'spamspamspam'"
      ]
     },
     "execution_count": 6,
     "metadata": {},
     "output_type": "execute_result"
    }
   ],
   "source": [
    "'spam' * 3"
   ]
  },
  {
   "cell_type": "raw",
   "id": "a302f98a",
   "metadata": {},
   "source": [
    "8. Why is eggs a valid variable name while 100 is invalid?"
   ]
  },
  {
   "cell_type": "raw",
   "id": "9d6842ec",
   "metadata": {},
   "source": [
    "The variable in python have certain rules. \n",
    "\n",
    "Rules for Python variables:\n",
    "\n",
    "1. A variable name must start with a letter or the underscore character\n",
    "2. A variable name cannot start with a number\n",
    "3. A variable name can only contain alpha-numeric characters and underscores (A-z, 0-9, and _ )\n",
    "4. Variable names are case-sensitive (age, Age and AGE are three different variables)\n",
    "\n",
    "considering the above rules, \n",
    "eggs is a valid variable as it is abiding the rules.\n",
    "100 is an invalid variable because in rule 2 it states that, a variable cannot be a number."
   ]
  },
  {
   "cell_type": "raw",
   "id": "e4807315",
   "metadata": {},
   "source": [
    "9. What three functions can be used to get the integer, floating-point number, or string version of a value?"
   ]
  },
  {
   "cell_type": "raw",
   "id": "50e25ecd",
   "metadata": {},
   "source": [
    "To get integer the function used is int()\n",
    "To get floating-point number the function used is float()\n",
    "To get string version of a value, the function used is str()"
   ]
  },
  {
   "cell_type": "raw",
   "id": "b6a0f390",
   "metadata": {},
   "source": [
    "10. Why does this expression cause an error? How can you fix it?\n",
    "'I have eaten ' + 99 + ' burritos.'"
   ]
  },
  {
   "cell_type": "code",
   "execution_count": 10,
   "id": "8f7060a5",
   "metadata": {},
   "outputs": [
    {
     "ename": "TypeError",
     "evalue": "can only concatenate str (not \"int\") to str",
     "output_type": "error",
     "traceback": [
      "\u001b[0;31m---------------------------------------------------------------------------\u001b[0m",
      "\u001b[0;31mTypeError\u001b[0m                                 Traceback (most recent call last)",
      "\u001b[0;32m/var/folders/rq/2380dffn2dq8xqckp53jg5x80000gn/T/ipykernel_6916/1774935878.py\u001b[0m in \u001b[0;36m<module>\u001b[0;34m\u001b[0m\n\u001b[0;32m----> 1\u001b[0;31m \u001b[0;34m'I have eaten '\u001b[0m \u001b[0;34m+\u001b[0m \u001b[0;36m99\u001b[0m \u001b[0;34m+\u001b[0m \u001b[0;34m' burritos.'\u001b[0m\u001b[0;34m\u001b[0m\u001b[0;34m\u001b[0m\u001b[0m\n\u001b[0m",
      "\u001b[0;31mTypeError\u001b[0m: can only concatenate str (not \"int\") to str"
     ]
    }
   ],
   "source": [
    "'I have eaten ' + 99 + ' burritos.'"
   ]
  },
  {
   "cell_type": "raw",
   "id": "592e6b4e",
   "metadata": {},
   "source": [
    "The expression is causing an error because we cannot concatinate a string and an integer. Here 99 is considered to be an integer.\n",
    "The expression can be fixed by getting the string version of 99"
   ]
  },
  {
   "cell_type": "code",
   "execution_count": 11,
   "id": "e053050d",
   "metadata": {},
   "outputs": [
    {
     "data": {
      "text/plain": [
       "'I have eaten 99 burritos.'"
      ]
     },
     "execution_count": 11,
     "metadata": {},
     "output_type": "execute_result"
    }
   ],
   "source": [
    "'I have eaten ' + str(99) + ' burritos.'"
   ]
  },
  {
   "cell_type": "code",
   "execution_count": null,
   "id": "a4dd3123",
   "metadata": {},
   "outputs": [],
   "source": []
  }
 ],
 "metadata": {
  "kernelspec": {
   "display_name": "Python 3 (ipykernel)",
   "language": "python",
   "name": "python3"
  },
  "language_info": {
   "codemirror_mode": {
    "name": "ipython",
    "version": 3
   },
   "file_extension": ".py",
   "mimetype": "text/x-python",
   "name": "python",
   "nbconvert_exporter": "python",
   "pygments_lexer": "ipython3",
   "version": "3.9.7"
  }
 },
 "nbformat": 4,
 "nbformat_minor": 5
}
