{
 "cells": [
  {
   "cell_type": "markdown",
   "id": "7803b6d0",
   "metadata": {},
   "source": [
    "1. Add the current date to the text file today.txt as a string."
   ]
  },
  {
   "cell_type": "code",
   "execution_count": 1,
   "id": "c8e3776a",
   "metadata": {},
   "outputs": [],
   "source": [
    "import datetime\n",
    "\n",
    "current_date = datetime.datetime.now().strftime(\"%Y-%m-%d\")\n",
    "with open(\"today.txt\", \"w\") as file:\n",
    "    file.write(current_date)\n"
   ]
  },
  {
   "cell_type": "markdown",
   "id": "a66fdc8f",
   "metadata": {},
   "source": [
    "2. Read the text file today.txt into the string today_string"
   ]
  },
  {
   "cell_type": "code",
   "execution_count": 2,
   "id": "bf5ac09c",
   "metadata": {},
   "outputs": [],
   "source": [
    "with open(\"today.txt\", \"r\") as file:\n",
    "    today_string = file.read()\n"
   ]
  },
  {
   "cell_type": "markdown",
   "id": "b70d9963",
   "metadata": {},
   "source": [
    "3. Parse the date from today_string."
   ]
  },
  {
   "cell_type": "code",
   "execution_count": 3,
   "id": "198bd352",
   "metadata": {},
   "outputs": [
    {
     "name": "stdout",
     "output_type": "stream",
     "text": [
      "2023-02-14\n"
     ]
    }
   ],
   "source": [
    "# Parse the date from today_string\n",
    "date = datetime.datetime.strptime(today_string, \"%Y-%m-%d\").date()\n",
    "\n",
    "# Print the date\n",
    "print(date)"
   ]
  },
  {
   "cell_type": "markdown",
   "id": "1bee5685",
   "metadata": {},
   "source": [
    "4. List the files in your current directory"
   ]
  },
  {
   "cell_type": "code",
   "execution_count": 4,
   "id": "83f209a3",
   "metadata": {},
   "outputs": [
    {
     "name": "stdout",
     "output_type": "stream",
     "text": [
      "Assignment_2.ipynb\n",
      "Assignment_13.ipynb\n",
      "Assignment_5.docx\n",
      "Assignment_11.ipynb\n",
      "Assignment_9.docx\n",
      "Assignment_12.docx\n",
      "Assignment_4.ipynb\n",
      "Assignment_13.docx\n",
      "Assignment_8.docx\n",
      ".DS_Store\n",
      "Assignment_15.ipynb\n",
      "Assignment_17.ipynb\n",
      "Assignment_4.docx\n",
      "Assignment_6.ipynb\n",
      "Assignment_10.ipynb\n",
      "~$signment_21.docx\n",
      "today.txt\n",
      "Assignment_14.docx\n",
      "Assignment_1.ipynb\n",
      "Assignment_3.ipynb\n",
      "zoo.py\n",
      "Assignment_18.docx\n",
      "Assignment_3.docx\n",
      "Assignment_12.ipynb\n",
      "Assignment_16.ipynb\n",
      "Assignment_2.docx\n",
      "Assignment_19.docx\n",
      "Assignment_7.ipynb\n",
      "Assignment_23.docx\n",
      "__pycache__\n",
      "Assignment_15.docx\n",
      "Assignment_5.ipynb\n",
      "Assignment_14.ipynb\n",
      "Assignment_16.docx\n",
      "Assignment_18.ipynb\n",
      "Assignment_9.ipynb\n",
      "Assignment_1.docx\n",
      "books.csv\n",
      "Assignment_20.docx\n",
      "Assignment_21.docx\n",
      "Assignment_23.ipynb\n",
      "Assignment_21.ipynb\n",
      "Assignment_17.docx\n",
      "test.txt\n",
      ".ipynb_checkpoints\n",
      "Assignment_7.docx\n",
      "Assignment_19.ipynb\n",
      "Assignment_24.ipynb\n",
      "Assignment_10.docx\n",
      "Assignment_8.ipynb\n",
      "books.db\n",
      "Assignment_11.docx\n",
      "Assignment_20.ipynb\n",
      "document.docx\n",
      "Assignment_6.docx\n"
     ]
    }
   ],
   "source": [
    "import os\n",
    "\n",
    "# Get the list of all files in the current directory\n",
    "files = os.listdir()\n",
    "\n",
    "# Loop through the files and print their names\n",
    "for file in files:\n",
    "    print(file)\n"
   ]
  },
  {
   "cell_type": "markdown",
   "id": "7037b5ff",
   "metadata": {},
   "source": [
    "5. Create a list of all of the files in your parent directory (minimum five files should be available)."
   ]
  },
  {
   "cell_type": "code",
   "execution_count": 5,
   "id": "14b9e0c4",
   "metadata": {},
   "outputs": [
    {
     "name": "stdout",
     "output_type": "stream",
     "text": [
      "['Holiday_Assignment_1.ipynb', '.DS_Store', 'Basic_assignments', '.ipynb_checkpoints', 'basic_programming', 'SQL_assignments']\n"
     ]
    }
   ],
   "source": [
    "parent_dir = os.path.abspath(os.path.join(os.getcwd(), os.pardir))\n",
    "files = os.listdir(parent_dir)\n",
    "\n",
    "print(files)"
   ]
  },
  {
   "cell_type": "markdown",
   "id": "51b5f9fe",
   "metadata": {},
   "source": [
    "6. Use multiprocessing to create three separate processes. Make each one wait a random number of seconds between one and five, print the current time, and then exit."
   ]
  },
  {
   "cell_type": "code",
   "execution_count": 6,
   "id": "291c0aaa",
   "metadata": {},
   "outputs": [],
   "source": [
    "import time\n",
    "import random\n",
    "from multiprocessing import Process\n",
    "\n",
    "def worker():\n",
    "    delay = random.randint(1, 5)\n",
    "    time.sleep(delay)\n",
    "    print(f\"Worker ran for {delay} seconds at {time.ctime()}\")\n"
   ]
  },
  {
   "cell_type": "code",
   "execution_count": 7,
   "id": "8f81b48f",
   "metadata": {},
   "outputs": [
    {
     "name": "stdout",
     "output_type": "stream",
     "text": [
      "Worker ran for 5 seconds at Tue Feb 14 17:30:11 2023\n",
      "Worker ran for 1 seconds at Tue Feb 14 17:30:12 2023\n",
      "Worker ran for 1 seconds at Tue Feb 14 17:30:13 2023\n"
     ]
    }
   ],
   "source": [
    "processes = [Process(target=worker()) for i in range(3)]\n",
    "\n",
    "for process in processes:\n",
    "    process.start()\n",
    "\n",
    "for process in processes:\n",
    "    process.join()"
   ]
  },
  {
   "cell_type": "markdown",
   "id": "10825895",
   "metadata": {},
   "source": [
    "7. Create a date object of your day of birth."
   ]
  },
  {
   "cell_type": "code",
   "execution_count": 8,
   "id": "32a4ea4a",
   "metadata": {},
   "outputs": [],
   "source": [
    "from datetime import date\n",
    "\n",
    "birthday = date(1996, 7, 14)"
   ]
  },
  {
   "cell_type": "markdown",
   "id": "08befc40",
   "metadata": {},
   "source": [
    "8. What day of the week was your day of birth?"
   ]
  },
  {
   "cell_type": "code",
   "execution_count": 9,
   "id": "aa462650",
   "metadata": {},
   "outputs": [
    {
     "name": "stdout",
     "output_type": "stream",
     "text": [
      "You were born on a Sunday\n"
     ]
    }
   ],
   "source": [
    "weekday = birthday.strftime(\"%A\")\n",
    "\n",
    "print(\"You were born on a\", weekday)\n"
   ]
  },
  {
   "cell_type": "markdown",
   "id": "ccb7a8ef",
   "metadata": {},
   "source": [
    "9. When will you be (or when were you) 10,000 days old?"
   ]
  },
  {
   "cell_type": "code",
   "execution_count": 10,
   "id": "b45aa75a",
   "metadata": {},
   "outputs": [
    {
     "name": "stdout",
     "output_type": "stream",
     "text": [
      "You will be (or were) 10,000 days old on: 2023-11-30\n"
     ]
    }
   ],
   "source": [
    "from datetime import datetime, timedelta\n",
    "\n",
    "birthday = datetime.strptime(\"1996-07-14\", \"%Y-%m-%d\")\n",
    "ten_thousand_days = timedelta(days=10000)\n",
    "ten_thousand_days_old = birthday + ten_thousand_days\n",
    "\n",
    "print(\"You will be (or were) 10,000 days old on:\", ten_thousand_days_old.strftime(\"%Y-%m-%d\"))\n"
   ]
  },
  {
   "cell_type": "code",
   "execution_count": null,
   "id": "6a02eaa0",
   "metadata": {},
   "outputs": [],
   "source": []
  }
 ],
 "metadata": {
  "kernelspec": {
   "display_name": "py_class",
   "language": "python",
   "name": "py_class"
  },
  "language_info": {
   "codemirror_mode": {
    "name": "ipython",
    "version": 3
   },
   "file_extension": ".py",
   "mimetype": "text/x-python",
   "name": "python",
   "nbconvert_exporter": "python",
   "pygments_lexer": "ipython3",
   "version": "3.9.7"
  }
 },
 "nbformat": 4,
 "nbformat_minor": 5
}
