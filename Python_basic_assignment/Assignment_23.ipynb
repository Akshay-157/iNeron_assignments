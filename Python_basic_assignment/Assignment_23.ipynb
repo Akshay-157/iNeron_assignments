{
 "cells": [
  {
   "cell_type": "markdown",
   "id": "16d23403",
   "metadata": {},
   "source": [
    "1. What is the result of the code, and why?"
   ]
  },
  {
   "cell_type": "code",
   "execution_count": 1,
   "id": "8a92d286",
   "metadata": {},
   "outputs": [
    {
     "name": "stdout",
     "output_type": "stream",
     "text": [
      "1 2 8\n"
     ]
    }
   ],
   "source": [
    "def func(a, b=6, c=8):\n",
    "    print(a, b, c)\n",
    "\n",
    "func(1, 2)"
   ]
  },
  {
   "cell_type": "raw",
   "id": "0aa230d9",
   "metadata": {},
   "source": [
    "the function func takes 3 parameters, in which \"b\" and \"c\" are initialzed to default values. When the function is\n",
    "called, we need to pass a minimum of 1 argumment i.e \"a\" in this case, because \"a\" is set to any default.\n",
    "\n",
    "func(1, 2)\n",
    "a = 1,\n",
    "b = 2, # b takes value 2\\\n",
    "c = 8 #default value"
   ]
  },
  {
   "cell_type": "markdown",
   "id": "59cf0bf4",
   "metadata": {},
   "source": [
    "2. What is the result of this code, and why?"
   ]
  },
  {
   "cell_type": "code",
   "execution_count": 2,
   "id": "0e88e496",
   "metadata": {},
   "outputs": [
    {
     "name": "stdout",
     "output_type": "stream",
     "text": [
      "1 2 3\n"
     ]
    }
   ],
   "source": [
    "def func(a, b, c=5):\n",
    "    print(a, b, c)\n",
    "\n",
    "func(1, c=3, b=2)"
   ]
  },
  {
   "cell_type": "raw",
   "id": "526707cc",
   "metadata": {},
   "source": [
    "We are explicity assigning the parameters with values [c=3, b=2], hence the order of passing the arguments is overlooked and the print(a,b,c) will print values in order"
   ]
  },
  {
   "cell_type": "markdown",
   "id": "d969f5b5",
   "metadata": {},
   "source": [
    "3. How about this code: what is its result, and why?"
   ]
  },
  {
   "cell_type": "code",
   "execution_count": 1,
   "id": "a32772e0",
   "metadata": {},
   "outputs": [
    {
     "name": "stdout",
     "output_type": "stream",
     "text": [
      "1 (2, 3)\n"
     ]
    }
   ],
   "source": [
    "def func(a, *pargs):\n",
    "    print(a, pargs)\n",
    "func(1, 2, 3)"
   ]
  },
  {
   "cell_type": "raw",
   "id": "9c2d7fab",
   "metadata": {},
   "source": [
    "*pargs: - allows you to do is take in more arguments than the number of formal arguments that you previously defined. With *pargs, any number of extra arguments can be tacked on to your current formal parameters (including zero extra arguments). Using the *, the variable that we associate with the * becomes an iterable meaning you can do things like iterate over it\n",
    "\n",
    "In the above func - parameters 2,3 are become the iterable parameters."
   ]
  },
  {
   "cell_type": "markdown",
   "id": "9365b360",
   "metadata": {},
   "source": [
    "4. What does this code print, and why?"
   ]
  },
  {
   "cell_type": "code",
   "execution_count": 4,
   "id": "5f3d8ecb",
   "metadata": {},
   "outputs": [
    {
     "name": "stdout",
     "output_type": "stream",
     "text": [
      "1 {'c': 3, 'b': 2}\n"
     ]
    }
   ],
   "source": [
    "def func(a, **kargs):\n",
    "    print(a, kargs)\n",
    "func(a=1, c=3, b=2)"
   ]
  },
  {
   "cell_type": "raw",
   "id": "bdcc4c91",
   "metadata": {},
   "source": [
    "**kwargs in function definitions in python is used to pass a keyworded, variable-length argument list.\n",
    "\n",
    "parameters c, b are passed as key-value pairs. Hence in the output we see a dictionary with c,b.\n"
   ]
  },
  {
   "cell_type": "markdown",
   "id": "3ab479ce",
   "metadata": {},
   "source": [
    "5. What gets printed by this, and explain?"
   ]
  },
  {
   "cell_type": "code",
   "execution_count": 5,
   "id": "43a8d969",
   "metadata": {},
   "outputs": [
    {
     "name": "stdout",
     "output_type": "stream",
     "text": [
      "1 5 6 5\n"
     ]
    }
   ],
   "source": [
    "def func(a, b, c=8, d=5): print(a, b, c, d)\n",
    "func(1, *(5, 6))\n"
   ]
  },
  {
   "cell_type": "raw",
   "id": "641d9605",
   "metadata": {},
   "source": [
    "Using the *, the variable that we associate with the * becomes an iterable meaning you can do things like iterate over it.\n",
    "\n",
    "Iterating over *(5,6)- b will be assigned 5 and c will be assigned 6. The default value of d will be 5.\n",
    "\n",
    "Hence we get the output 1,5,6,5."
   ]
  },
  {
   "cell_type": "markdown",
   "id": "16c9c85a",
   "metadata": {},
   "source": [
    "6. what is the result of this, and explain?"
   ]
  },
  {
   "cell_type": "code",
   "execution_count": 7,
   "id": "a4a74aa0",
   "metadata": {},
   "outputs": [
    {
     "data": {
      "text/plain": [
       "(1, ['x'], {'a': 'y'})"
      ]
     },
     "execution_count": 7,
     "metadata": {},
     "output_type": "execute_result"
    }
   ],
   "source": [
    "def func(a, b, c): a = 2; b[0] = 'x'; c['a'] = 'y'\n",
    "\n",
    "l=1; m=[1]; n={'a':0}\n",
    "func(l, m, n)\n",
    "l, m, n\n"
   ]
  },
  {
   "cell_type": "raw",
   "id": "31a12910",
   "metadata": {},
   "source": [
    "l,m,n are global variables. These when passed to the func, the values of these variables are modified within this func.\n",
    "when the func is called, the parameters a, b, c are assigned with l, m, n.\n",
    "\n",
    "l = 1 #inital value\n",
    "m = [1] # inital value with one element in the list.\n",
    "n = {\"a\":0} #inital value as dictionary with one key-value pair.\n",
    "\n",
    "After func call\n",
    "l = 2 #because a = 2\n",
    "m = ['x'] # because m[0] = 1 is not replaced with b[0] = 'x'. hence m[0] is now 'x'.\n",
    "n = {'a':'y'} # because the value of the key a in the dictionary n is not replace with c['a'] = 'y'\n",
    "\n",
    "So we get the output.\n",
    "1, ['x'], {'a':'y'}"
   ]
  },
  {
   "cell_type": "code",
   "execution_count": null,
   "id": "d9ac3e6e",
   "metadata": {},
   "outputs": [],
   "source": []
  },
  {
   "cell_type": "code",
   "execution_count": null,
   "id": "cae984a0",
   "metadata": {},
   "outputs": [],
   "source": []
  },
  {
   "cell_type": "code",
   "execution_count": null,
   "id": "fd34bde3",
   "metadata": {},
   "outputs": [],
   "source": []
  },
  {
   "cell_type": "code",
   "execution_count": null,
   "id": "a3fb55cf",
   "metadata": {},
   "outputs": [],
   "source": []
  },
  {
   "cell_type": "code",
   "execution_count": null,
   "id": "cfbc1adb",
   "metadata": {},
   "outputs": [],
   "source": []
  },
  {
   "cell_type": "code",
   "execution_count": null,
   "id": "1c733b2f",
   "metadata": {},
   "outputs": [],
   "source": []
  },
  {
   "cell_type": "code",
   "execution_count": null,
   "id": "4bf31a02",
   "metadata": {},
   "outputs": [],
   "source": []
  },
  {
   "cell_type": "code",
   "execution_count": null,
   "id": "d58cdc2d",
   "metadata": {},
   "outputs": [],
   "source": []
  },
  {
   "cell_type": "code",
   "execution_count": null,
   "id": "e0a862d5",
   "metadata": {},
   "outputs": [],
   "source": []
  },
  {
   "cell_type": "code",
   "execution_count": null,
   "id": "341142f1",
   "metadata": {},
   "outputs": [],
   "source": []
  },
  {
   "cell_type": "code",
   "execution_count": null,
   "id": "6be8b6ed",
   "metadata": {},
   "outputs": [],
   "source": []
  },
  {
   "cell_type": "code",
   "execution_count": null,
   "id": "d751cb41",
   "metadata": {},
   "outputs": [],
   "source": []
  },
  {
   "cell_type": "code",
   "execution_count": null,
   "id": "3bd317ad",
   "metadata": {},
   "outputs": [],
   "source": []
  },
  {
   "cell_type": "code",
   "execution_count": null,
   "id": "d3809aa8",
   "metadata": {},
   "outputs": [],
   "source": []
  },
  {
   "cell_type": "code",
   "execution_count": null,
   "id": "f91629c4",
   "metadata": {},
   "outputs": [],
   "source": []
  },
  {
   "cell_type": "code",
   "execution_count": null,
   "id": "8b5011ba",
   "metadata": {},
   "outputs": [],
   "source": []
  }
 ],
 "metadata": {
  "kernelspec": {
   "display_name": "Python 3 (ipykernel)",
   "language": "python",
   "name": "python3"
  },
  "language_info": {
   "codemirror_mode": {
    "name": "ipython",
    "version": 3
   },
   "file_extension": ".py",
   "mimetype": "text/x-python",
   "name": "python",
   "nbconvert_exporter": "python",
   "pygments_lexer": "ipython3",
   "version": "3.9.7"
  }
 },
 "nbformat": 4,
 "nbformat_minor": 5
}
