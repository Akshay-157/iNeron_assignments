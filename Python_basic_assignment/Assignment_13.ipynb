{
 "cells": [
  {
   "cell_type": "markdown",
   "id": "5b28a006",
   "metadata": {},
   "source": [
    "1. What advantages do Excel spreadsheets have over CSV spreadsheets?"
   ]
  },
  {
   "cell_type": "raw",
   "id": "cadd8ae1",
   "metadata": {},
   "source": [
    "Excel spreadsheets and CSV (Comma Separated Value) spreadsheets both have their own advantages and disadvantages. Here are some of the advantages that Excel spreadsheets have over CSV spreadsheets:\n",
    "\n",
    "User-friendly interface: Excel provides a user-friendly graphical interface that makes it easier to manage and manipulate data, whereas CSV files are text-based and require a separate program to view and edit them.\n",
    "\n",
    "Data visualization: Excel provides a range of data visualization options such as charts, graphs, and pivot tables, which can help to better understand and communicate the insights from the data. CSV files don't provide these visualization options.\n",
    "\n",
    "Advanced calculations: Excel provides a range of advanced calculation options, including formula and functions, which can be used to automate data analysis tasks. CSV files are limited to simple calculations.\n",
    "\n",
    "Data validation: Excel provides data validation tools that can be used to enforce data integrity, such as ensuring that only numbers are entered in a certain column or limiting the values in a drop-down list. This is not possible with CSV files.\n",
    "\n",
    "Multiple sheets: Excel spreadsheets can contain multiple sheets, which can be used to store related data in different worksheets. This is not possible with CSV files, which can only store data in a single sheet.\n",
    "\n",
    "Overall, Excel spreadsheets are better suited for data analysis tasks that require a user-friendly interface, advanced calculations, and data visualization. On the other hand, CSV spreadsheets are better suited for data exchange between different platforms and for working with large datasets, as they are more lightweight and can be easily processed by most programming languages."
   ]
  },
  {
   "cell_type": "markdown",
   "id": "1432428d",
   "metadata": {},
   "source": [
    "2. What do you pass to csv.reader() and csv.writer() to create reader and writer objects?"
   ]
  },
  {
   "cell_type": "raw",
   "id": "7bbcebf4",
   "metadata": {},
   "source": [
    "You pass a file object to the csv.reader() and csv.writer() functions to create reader and writer objects in Python. For example, to create a reader object, you would do the following:"
   ]
  },
  {
   "cell_type": "code",
   "execution_count": null,
   "id": "3775ff37",
   "metadata": {},
   "outputs": [],
   "source": [
    "import csv\n",
    "\n",
    "#Reader object\n",
    "with open('example.csv', 'r') as f:\n",
    "    reader = csv.reader(f)\n",
    "\n",
    "#Writer object    \n",
    "with open('example.csv', 'w', newline='') as f:\n",
    "    writer = csv.writer(f)"
   ]
  },
  {
   "cell_type": "markdown",
   "id": "567588a5",
   "metadata": {},
   "source": [
    "3. What modes do File objects for reader and writer objects need to be opened in?"
   ]
  },
  {
   "cell_type": "raw",
   "id": "afa4e46a",
   "metadata": {},
   "source": [
    "For csv.reader objects, the file object needs to be opened in \"read\" mode, typically represented by the 'r' mode. For csv.writer objects, the file object needs to be opened in \"write\" mode, typically represented by the 'w' mode.\n",
    "\n",
    "Here's an example of opening a file in read mode for a csv.reader object:"
   ]
  },
  {
   "cell_type": "code",
   "execution_count": null,
   "id": "d33e08b9",
   "metadata": {},
   "outputs": [],
   "source": [
    "import csv\n",
    "\n",
    "#Reader object opened in read mode\n",
    "with open('example.csv', 'r') as f:\n",
    "    reader = csv.reader(f)\n",
    "\n",
    "#Writer object opened in write mode\n",
    "with open('example.csv', 'w', newline='') as f:\n",
    "    writer = csv.writer(f)"
   ]
  },
  {
   "cell_type": "markdown",
   "id": "2df8255f",
   "metadata": {},
   "source": [
    "4. What method takes a list argument and writes it to a CSV file?"
   ]
  },
  {
   "cell_type": "raw",
   "id": "669926ad",
   "metadata": {},
   "source": [
    "The writerow method of a csv.writer object is used to write a list of values to a row in a CSV file.\n",
    "\n",
    "Here's an example of how to use writerow to write a list of values to a CSV file:"
   ]
  },
  {
   "cell_type": "code",
   "execution_count": null,
   "id": "e30e81bf",
   "metadata": {},
   "outputs": [],
   "source": [
    "import csv\n",
    "\n",
    "with open('example.csv', 'w', newline='') as f:\n",
    "    writer = csv.writer(f)\n",
    "    row = ['value1', 'value2', 'value3']\n",
    "    writer.writerow(row)\n"
   ]
  },
  {
   "cell_type": "raw",
   "id": "7c1314a4",
   "metadata": {},
   "source": [
    "This code will write the list ['value1', 'value2', 'value3'] to a new row in the CSV file example.csv."
   ]
  },
  {
   "cell_type": "markdown",
   "id": "3ec9e7b8",
   "metadata": {},
   "source": [
    "5. What do the keyword arguments delimiter and line terminator do?"
   ]
  },
  {
   "cell_type": "raw",
   "id": "c07aac8d",
   "metadata": {},
   "source": [
    "The delimiter and line terminator are keyword arguments in the csv module in Python that specify the delimiter character used to separate values in a CSV file, and the line terminator used to separate rows in the CSV file, respectively.\n",
    "\n",
    "The delimiter argument is used to specify the character that will be used to separate values in a row of the CSV file. By default, the delimiter is a comma (,). You can specify a different delimiter by passing it as an argument to the csv.writer constructor, for example:"
   ]
  },
  {
   "cell_type": "code",
   "execution_count": null,
   "id": "19066650",
   "metadata": {},
   "outputs": [],
   "source": [
    "import csv\n",
    "\n",
    "with open('example.csv', 'w', newline='') as f:\n",
    "    writer = csv.writer(f, delimiter='\\t')\n",
    "    row = ['value1', 'value2', 'value3']\n",
    "    writer.writerow(row)\n"
   ]
  },
  {
   "cell_type": "raw",
   "id": "ff637f7d",
   "metadata": {},
   "source": [
    "The line terminator argument is used to specify the string that will be used to separate rows in the CSV file. By default, the line terminator is the newline character (\\n) on most platforms. You can specify a different line terminator by passing it as an argument to the csv.writer constructor, for example:"
   ]
  },
  {
   "cell_type": "code",
   "execution_count": null,
   "id": "739c0c29",
   "metadata": {},
   "outputs": [],
   "source": [
    "with open('example.csv', 'w', newline='') as f:\n",
    "    writer = csv.writer(f, lineterminator='\\r\\n')\n",
    "    row = ['value1', 'value2', 'value3']\n",
    "    writer.writerow(row)"
   ]
  },
  {
   "cell_type": "markdown",
   "id": "1143dc00",
   "metadata": {},
   "source": [
    "6. What function takes a string of JSON data and returns a Python data structure?"
   ]
  },
  {
   "cell_type": "raw",
   "id": "09fc8a8f",
   "metadata": {},
   "source": [
    "The json.loads() function takes a string of JSON data and returns a Python data structure such as a dictionary or a list. For example:"
   ]
  },
  {
   "cell_type": "code",
   "execution_count": 1,
   "id": "6e45595e",
   "metadata": {},
   "outputs": [
    {
     "name": "stdout",
     "output_type": "stream",
     "text": [
      "{'name': 'John', 'age': 30, 'city': 'New York'}\n"
     ]
    }
   ],
   "source": [
    "import json\n",
    "\n",
    "json_data = '{\"name\": \"John\", \"age\": 30, \"city\": \"New York\"}'\n",
    "python_data = json.loads(json_data)\n",
    "print(python_data)"
   ]
  },
  {
   "cell_type": "markdown",
   "id": "ff786771",
   "metadata": {},
   "source": [
    "7. What function takes a Python data structure and returns a string of JSON data?"
   ]
  },
  {
   "cell_type": "raw",
   "id": "60620fc5",
   "metadata": {},
   "source": [
    "The json.dumps() function takes a Python data structure (such as a dictionary or a list) and returns a string of JSON data. For example:"
   ]
  },
  {
   "cell_type": "code",
   "execution_count": 2,
   "id": "fec0b66a",
   "metadata": {},
   "outputs": [
    {
     "name": "stdout",
     "output_type": "stream",
     "text": [
      "{\"name\": \"John\", \"age\": 30, \"city\": \"New York\"}\n"
     ]
    }
   ],
   "source": [
    "import json\n",
    "\n",
    "python_data = {'name': 'John', 'age': 30, 'city': 'New York'}\n",
    "json_data = json.dumps(python_data)\n",
    "print(json_data)\n"
   ]
  },
  {
   "cell_type": "code",
   "execution_count": null,
   "id": "378ce26e",
   "metadata": {},
   "outputs": [],
   "source": []
  }
 ],
 "metadata": {
  "kernelspec": {
   "display_name": "py_class",
   "language": "python",
   "name": "py_class"
  },
  "language_info": {
   "codemirror_mode": {
    "name": "ipython",
    "version": 3
   },
   "file_extension": ".py",
   "mimetype": "text/x-python",
   "name": "python",
   "nbconvert_exporter": "python",
   "pygments_lexer": "ipython3",
   "version": "3.9.7"
  }
 },
 "nbformat": 4,
 "nbformat_minor": 5
}
