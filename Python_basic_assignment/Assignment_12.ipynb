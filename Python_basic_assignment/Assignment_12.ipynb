{
 "cells": [
  {
   "cell_type": "markdown",
   "id": "50a5dff2",
   "metadata": {},
   "source": [
    "1. In what modes should the PdfFileReader() and PdfFileWriter() File objects will be opened?"
   ]
  },
  {
   "cell_type": "raw",
   "id": "ca193a0b",
   "metadata": {},
   "source": [
    "The PdfFileReader and PdfFileWriter objects in Python should be opened in binary mode. This is because PDF files are binary files, which means that they contain binary data rather than text data.\n",
    "\n",
    "In Python, binary mode is specified by using the 'b' character in the mode argument when opening a file. For example, to open a PDF file for reading using the PdfFileReader class, you would use the following code:"
   ]
  },
  {
   "cell_type": "code",
   "execution_count": null,
   "id": "5cd804c5",
   "metadata": {},
   "outputs": [],
   "source": [
    "from PyPDF2 import PdfFileReader\n",
    "\n",
    "with open('example.pdf', 'rb') as file:\n",
    "    reader = PdfFileReader(file)"
   ]
  },
  {
   "cell_type": "raw",
   "id": "5f195f4d",
   "metadata": {},
   "source": [
    "Similarly, to open a PDF file for writing using the PdfFileWriter class, you would use the following code:"
   ]
  },
  {
   "cell_type": "code",
   "execution_count": null,
   "id": "81f4075a",
   "metadata": {},
   "outputs": [],
   "source": [
    "from PyPDF2 import PdfFileWriter\n",
    "\n",
    "with open('output.pdf', 'wb') as file:\n",
    "    writer = PdfFileWriter()\n",
    "    # Add pages to the writer object\n",
    "    # ...\n",
    "    writer.write(file)"
   ]
  },
  {
   "cell_type": "raw",
   "id": "cd7806e8",
   "metadata": {},
   "source": [
    "It is important to use binary mode when working with PDF files in Python, as using text mode may cause issues with the binary data stored in the file."
   ]
  },
  {
   "cell_type": "markdown",
   "id": "092d7f48",
   "metadata": {},
   "source": [
    "2. From a PdfFileReader object, how do you get a Page object for page 5?"
   ]
  },
  {
   "cell_type": "raw",
   "id": "60123603",
   "metadata": {},
   "source": [
    "You can get a Page object from a PdfFileReader object in Python using the getPage method. This method takes an index argument that specifies the page number you want to retrieve. The index starts from 0, so to get page 5, you would use the index 4.\n",
    "\n",
    "Here's an example:"
   ]
  },
  {
   "cell_type": "code",
   "execution_count": null,
   "id": "90c9d922",
   "metadata": {},
   "outputs": [],
   "source": [
    "from PyPDF2 import PdfFileReader\n",
    "\n",
    "with open('example.pdf', 'rb') as file:\n",
    "    reader = PdfFileReader(file)\n",
    "    page_5 = reader.getPage(4)"
   ]
  },
  {
   "cell_type": "markdown",
   "id": "613050ee",
   "metadata": {},
   "source": [
    "3. What PdfFileReader variable stores the number of pages in the PDF document?"
   ]
  },
  {
   "cell_type": "raw",
   "id": "5b99e502",
   "metadata": {},
   "source": [
    "The numPages attribute of the PdfFileReader object stores the number of pages in the PDF document. You can access this attribute after creating a PdfFileReader object from a PDF file.\n",
    "\n",
    "Here's an example:"
   ]
  },
  {
   "cell_type": "code",
   "execution_count": null,
   "id": "7b1c090b",
   "metadata": {},
   "outputs": [],
   "source": [
    "from PyPDF2 import PdfFileReader\n",
    "\n",
    "with open('example.pdf', 'rb') as file:\n",
    "    reader = PdfFileReader(file)\n",
    "    num_pages = reader.numPages\n",
    "    print(\"The PDF document contains\", num_pages, \"pages.\")"
   ]
  },
  {
   "cell_type": "markdown",
   "id": "eb060544",
   "metadata": {},
   "source": [
    "4. If a PdfFileReader object’s PDF is encrypted with the password swordfish, what must you do before you can obtain Page objects from it?"
   ]
  },
  {
   "cell_type": "raw",
   "id": "4162997d",
   "metadata": {},
   "source": [
    "If a PdfFileReader object's PDF is encrypted with a password, you must first provide the correct password to the PdfFileReader object before you can obtain Page objects from it. You can do this using the decrypt method of the PdfFileReader object.\n",
    "\n",
    "Here's an example:"
   ]
  },
  {
   "cell_type": "code",
   "execution_count": null,
   "id": "4ebfceba",
   "metadata": {},
   "outputs": [],
   "source": [
    "from PyPDF2 import PdfFileReader\n",
    "\n",
    "with open('example.pdf', 'rb') as file:\n",
    "    reader = PdfFileReader(file)\n",
    "    if reader.isEncrypted:\n",
    "        reader.decrypt(\"swordfish\")\n",
    "        page_5 = reader.getPage(4)\n",
    "    else:\n",
    "        page_5 = reader.getPage(4)"
   ]
  },
  {
   "cell_type": "raw",
   "id": "395572eb",
   "metadata": {},
   "source": [
    "In this example, we first check if the PDF document is encrypted using the isEncrypted attribute of the PdfFileReader object. If it is encrypted, we call the decrypt method with the password \"swordfish\" and then retrieve a Page object using the getPage method. If the PDF document is not encrypted, we can retrieve a Page object without first calling the decrypt method."
   ]
  },
  {
   "cell_type": "markdown",
   "id": "fe039cfa",
   "metadata": {},
   "source": [
    "5. What methods do you use to rotate a page?"
   ]
  },
  {
   "cell_type": "raw",
   "id": "77a4bf7a",
   "metadata": {},
   "source": [
    "In PyPDF2 library, the Page object has a rotateClockwise method to rotate the page clockwise and a rotateCounterClockwise method to rotate the page counterclockwise.\n",
    "\n",
    "Here's an example of how you can use these methods to rotate a page in a PDF document:"
   ]
  },
  {
   "cell_type": "code",
   "execution_count": null,
   "id": "1eed07a2",
   "metadata": {},
   "outputs": [],
   "source": [
    "from PyPDF2 import PdfFileReader\n",
    "\n",
    "with open('example.pdf', 'rb') as file:\n",
    "    reader = PdfFileReader(file)\n",
    "    page = reader.getPage(0)\n",
    "    page.rotateClockwise(90)\n",
    "    # Or you can use rotateCounterClockwise method to rotate counterclockwise\n",
    "    # page.rotateCounterClockwise(90)\n",
    "    # You can write the rotated page to a new PDF file\n",
    "    writer = PdfFileWriter()\n",
    "    writer.addPage(page)\n",
    "    with open('rotated_page.pdf', 'wb') as output_file:\n",
    "        writer.write(output_file)"
   ]
  },
  {
   "cell_type": "markdown",
   "id": "049769fe",
   "metadata": {},
   "source": [
    "6. What is the difference between a Run object and a Paragraph object?"
   ]
  },
  {
   "cell_type": "raw",
   "id": "be410cf8",
   "metadata": {},
   "source": [
    "Run and Paragraph objects are both part of the python-docx library, which is used to work with Microsoft Word documents.\n",
    "\n",
    "A Run object represents a run of continuous, uninterrupted text in a Word document. It can be used to apply font and other text-level formatting to a portion of text within a paragraph.\n",
    "\n",
    "A Paragraph object represents a paragraph in a Word document. A paragraph can contain one or more runs, and it also has its own paragraph-level formatting attributes such as line spacing and text alignment.\n",
    "\n",
    "So, the main difference between a Run object and a Paragraph object is that a Run object represents a portion of text within a paragraph, whereas a Paragraph object represents an entire paragraph in a Word document.\n",
    "\n",
    "Here's an example of how you can use Run and Paragraph objects in the python-docx library to create and format a Word document:"
   ]
  },
  {
   "cell_type": "code",
   "execution_count": null,
   "id": "8a2da27c",
   "metadata": {},
   "outputs": [],
   "source": [
    "from docx import Document\n",
    "from docx.shared import Pt\n",
    "\n",
    "document = Document()\n",
    "\n",
    "# create a new paragraph\n",
    "paragraph = document.add_paragraph()\n",
    "\n",
    "# add a run to the paragraph\n",
    "run = paragraph.add_run('This is a run of text.')\n",
    "\n",
    "# set font for the run\n",
    "run.font.name = 'Arial'\n",
    "run.font.size = Pt(14)\n",
    "run.font.bold = True\n",
    "\n",
    "# add another run to the paragraph\n",
    "run = paragraph.add_run(' This is another run of text.')\n",
    "\n",
    "# set font for the second run\n",
    "run.font.name = 'Times New Roman'\n",
    "run.font.size = Pt(12)\n",
    "run.font.italic = True\n",
    "\n",
    "# save the document\n",
    "document.save('document.docx')\n"
   ]
  },
  {
   "cell_type": "markdown",
   "id": "48fcf917",
   "metadata": {},
   "source": [
    "7. How do you obtain a list of Paragraph objects for a Document object that’s stored in a variable named doc?"
   ]
  },
  {
   "cell_type": "raw",
   "id": "30481831",
   "metadata": {},
   "source": [
    "To obtain a list of Paragraph objects for a Document object stored in a variable named doc, you can use the paragraphs property of the Document object:\n",
    "The paragraphs property returns a list of Paragraph objects, which can then be iterated over or modified as needed.\n",
    "\n",
    "Here's an example of how you can use this to extract the text content of each paragraph in a Document object:"
   ]
  },
  {
   "cell_type": "code",
   "execution_count": null,
   "id": "89901127",
   "metadata": {},
   "outputs": [],
   "source": [
    "# assuming the Document object is stored in the variable \"doc\"\n",
    "\n",
    "paragraphs = doc.paragraphs\n",
    "for paragraph in paragraphs:\n",
    "    print(paragraph.text)"
   ]
  },
  {
   "cell_type": "raw",
   "id": "75b643fb",
   "metadata": {},
   "source": [
    "In this example, we first obtain the list of Paragraph objects from the paragraphs property of the Document object. Then, we use a for loop to iterate over the list of paragraphs, and we use the text property of each Paragraph object to extract the text content of the paragraph."
   ]
  },
  {
   "cell_type": "markdown",
   "id": "68cc789a",
   "metadata": {},
   "source": [
    "8. What type of object has bold, underline, italic, strike, and outline variables?"
   ]
  },
  {
   "cell_type": "raw",
   "id": "32328b10",
   "metadata": {},
   "source": [
    "The type of object that has bold, underline, italic, strike, and outline variables is a Font object in the python-docx library. Font objects are used to represent the font characteristics of text in a Microsoft Word document. The bold, underline, italic, strike, and outline variables are Boolean values that indicate whether the text is bold, underlined, italicized, struck-through, or outlined, respectively.\n",
    "\n",
    "Here's an example of how you can use Font objects in python-docx:"
   ]
  },
  {
   "cell_type": "code",
   "execution_count": null,
   "id": "610a5beb",
   "metadata": {},
   "outputs": [],
   "source": [
    "from docx import Document\n",
    "\n",
    "# create a new document\n",
    "doc = Document()\n",
    "\n",
    "# add a new paragraph to the document\n",
    "paragraph = doc.add_paragraph()\n",
    "\n",
    "# get the run object for the new paragraph\n",
    "run = paragraph.add_run()\n",
    "\n",
    "# set the font for the run object\n",
    "font = run.font\n",
    "font.bold = True\n",
    "font.italic = True\n"
   ]
  },
  {
   "cell_type": "raw",
   "id": "667320e4",
   "metadata": {},
   "source": [
    "In this example, we create a new Document object and add a new Paragraph to it. We then get a Run object from the Paragraph and set the font for the Run object using a Font object. We set the bold and italic variables of the Font object to True to indicate that the text should be bold and italic."
   ]
  },
  {
   "cell_type": "markdown",
   "id": "6accaaf7",
   "metadata": {},
   "source": [
    "9. What is the difference between False, True, and None for the bold variable?"
   ]
  },
  {
   "cell_type": "raw",
   "id": "60857a9f",
   "metadata": {},
   "source": [
    "In the context of a Font object in python-docx, the bold variable is a Boolean value that indicates whether the text is bold or not. If the value of bold is True, then the text is bold. If the value of bold is False, then the text is not bold. If the value of bold is None, then the boldness of the text is not specified and the default behavior of Microsoft Word will apply.\n",
    "\n",
    "Here's an example of how you can use the bold variable in python-docx:"
   ]
  },
  {
   "cell_type": "code",
   "execution_count": null,
   "id": "9c9a2f56",
   "metadata": {},
   "outputs": [],
   "source": [
    "from docx import Document\n",
    "\n",
    "# create a new document\n",
    "doc = Document()\n",
    "\n",
    "# add a new paragraph to the document\n",
    "paragraph = doc.add_paragraph()\n",
    "\n",
    "# get the run object for the new paragraph\n",
    "run = paragraph.add_run()\n",
    "\n",
    "# set the font for the run object\n",
    "font = run.font\n",
    "font.bold = True\n"
   ]
  },
  {
   "cell_type": "raw",
   "id": "9a263cbf",
   "metadata": {},
   "source": [
    "In this example, we create a new Document object and add a new Paragraph to it. We then get a Run object from the Paragraph and set the font for the Run object using a Font object. We set the bold variable of the Font object to True to indicate that the text should be bold."
   ]
  },
  {
   "cell_type": "markdown",
   "id": "82bfaaa5",
   "metadata": {},
   "source": [
    "10. How do you create a Document object for a new Word document?"
   ]
  },
  {
   "cell_type": "raw",
   "id": "d130647d",
   "metadata": {},
   "source": [
    "To create a new Word document in python-docx, you can use the Document class from the docx module. The Document class is the starting point for working with Word documents in python-docx.\n",
    "\n",
    "Here's an example of how to create a new Word document in python-docx:"
   ]
  },
  {
   "cell_type": "code",
   "execution_count": null,
   "id": "511bd9c9",
   "metadata": {},
   "outputs": [],
   "source": [
    "from docx import Document\n",
    "\n",
    "# create a new document\n",
    "doc = Document()\n"
   ]
  },
  {
   "cell_type": "raw",
   "id": "39c7dbcf",
   "metadata": {},
   "source": [
    "After creating a new Document object, you can add content to it, such as paragraphs, tables, lists, images, etc. You can also set document-level formatting, such as margins, page orientation, and styles, as well as style elements, such as font, text color, and alignment."
   ]
  },
  {
   "cell_type": "markdown",
   "id": "101b3e6e",
   "metadata": {},
   "source": [
    "11. How do you add a paragraph with the text 'Hello, there!' to a Document object stored in a variable named doc?"
   ]
  },
  {
   "cell_type": "raw",
   "id": "6d0301d3",
   "metadata": {},
   "source": [
    "To add a paragraph with the text \"Hello, there!\" to a Document object stored in a variable named doc, you can use the add_paragraph method of the Document object.\n",
    "\n",
    "Here's an example:"
   ]
  },
  {
   "cell_type": "code",
   "execution_count": null,
   "id": "edad414c",
   "metadata": {},
   "outputs": [],
   "source": [
    "from docx import Document\n",
    "\n",
    "# create a new document\n",
    "doc = Document()\n",
    "\n",
    "# add a paragraph to the document\n",
    "para = doc.add_paragraph(\"Hello, there!\")\n"
   ]
  },
  {
   "cell_type": "markdown",
   "id": "f180d789",
   "metadata": {},
   "source": [
    "12. What integers represent the levels of headings available in Word documents?"
   ]
  },
  {
   "cell_type": "raw",
   "id": "4b2c4592",
   "metadata": {},
   "source": [
    "In Word documents, headings are typically represented by different levels of headings, which are indicated by integers ranging from 1 to 9. The different levels of headings indicate the hierarchical structure of the document, with level 1 headings being the highest-level headings and level 9 headings being the lowest-level headings.\n",
    "\n",
    "Here is a list of the integers that represent the levels of headings in Word documents:\n",
    "\n",
    "Heading 1\n",
    "Heading 2\n",
    "Heading 3\n",
    "Heading 4\n",
    "Heading 5\n",
    "Heading 6\n",
    "Heading 7\n",
    "Heading 8\n",
    "Heading 9\n",
    "You can add a heading to a Word document using python-docx by creating a Paragraph object with the desired heading style. The Paragraph class has a style property that can be set to one of the heading styles, such as \"Heading 1\", \"Heading 2\", etc.\n",
    "\n",
    "Here's an example of how to add a Heading 1 to a Document object stored in a variable named doc:"
   ]
  },
  {
   "cell_type": "code",
   "execution_count": null,
   "id": "1d485d93",
   "metadata": {},
   "outputs": [],
   "source": [
    "from docx import Document\n",
    "\n",
    "# create a new document\n",
    "doc = Document()\n",
    "\n",
    "# add a Heading 1\n",
    "para = doc.add_paragraph(\"Hello, there!\", style=\"Heading 1\")\n"
   ]
  },
  {
   "cell_type": "code",
   "execution_count": null,
   "id": "9aac0460",
   "metadata": {},
   "outputs": [],
   "source": []
  }
 ],
 "metadata": {
  "kernelspec": {
   "display_name": "py_class",
   "language": "python",
   "name": "py_class"
  },
  "language_info": {
   "codemirror_mode": {
    "name": "ipython",
    "version": 3
   },
   "file_extension": ".py",
   "mimetype": "text/x-python",
   "name": "python",
   "nbconvert_exporter": "python",
   "pygments_lexer": "ipython3",
   "version": "3.9.7"
  }
 },
 "nbformat": 4,
 "nbformat_minor": 5
}
