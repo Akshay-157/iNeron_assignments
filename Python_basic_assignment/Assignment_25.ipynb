{
 "cells": [
  {
   "cell_type": "markdown",
   "id": "2e54a839",
   "metadata": {},
   "source": [
    "1) . What is the difference between enclosing a list comprehension in square brackets and parentheses?"
   ]
  },
  {
   "cell_type": "raw",
   "id": "d1d86565",
   "metadata": {},
   "source": [
    "In Python, enclosing a list comprehension in square brackets produces a list object, whereas enclosing it in parentheses produces a generator object."
   ]
  },
  {
   "cell_type": "markdown",
   "id": "81e1ba7c",
   "metadata": {},
   "source": [
    "2) What is the relationship between generators and iterators?"
   ]
  },
  {
   "cell_type": "raw",
   "id": "d75116ca",
   "metadata": {},
   "source": [
    "In Python, a generator is a special type of iterator. Both generators and iterators are objects that allow iteration over a sequence of values, but there are some important differences.\n",
    "\n",
    "An iterator is an object that implements the iterator protocol, which consists of two methods: __iter__() and __next__(). The __iter__() method returns the iterator object itself, and the __next__() method returns the next value in the sequence. If there are no more values in the sequence, the __next__() method raises the StopIteration exception.\n",
    "\n",
    "A generator is a special type of iterator that is defined using a function with the yield keyword instead of using a class that implements the iterator protocol. A generator function returns a generator object, which is an iterator that can be used to iterate over a sequence of values. The yield keyword is used to produce a value from the generator, and the function is suspended until the next value is requested. When the next value is requested, the function resumes from where it left off and continues until the next yield statement or until the function returns.\n",
    "\n",
    "In summary, generators are a special type of iterator that are defined using functions with the yield keyword. They allow you to easily create iterators that produce a sequence of values on the fly, without having to write a full iterator class."
   ]
  },
  {
   "cell_type": "markdown",
   "id": "8fc2c015",
   "metadata": {},
   "source": [
    "3) What are the signs that a function is a generator function?"
   ]
  },
  {
   "cell_type": "raw",
   "id": "8f0a4290",
   "metadata": {},
   "source": [
    "Here are some signs that a function is a generator function:\n",
    "\n",
    "It contains the yield keyword.\n",
    "It uses the yield keyword to return a value, rather than return.\n",
    "It returns an iterator object, rather than a value.\n",
    "It does not terminate when it is called, but instead returns a generator object, which can be used to iterate over the function's output."
   ]
  },
  {
   "cell_type": "markdown",
   "id": "ea75e6bf",
   "metadata": {},
   "source": [
    "4) What is the purpose of a yield statement?"
   ]
  },
  {
   "cell_type": "raw",
   "id": "91b70f57",
   "metadata": {},
   "source": [
    "The yield statement is used to \"pause\" the execution of the generator function and return a value to the caller. When the generator is iterated over, execution of the function resumes from where it left off and continues until the next yield statement is reached. This allows the generator to produce a sequence of values without having to generate them all at once and store them in memory. Instead, each value is generated on the fly as it is needed."
   ]
  },
  {
   "cell_type": "markdown",
   "id": "5f014158",
   "metadata": {},
   "source": [
    "5) What is the relationship between map calls and list comprehensions? Make a comparison and contrast between the two."
   ]
  },
  {
   "cell_type": "raw",
   "id": "931cb302",
   "metadata": {},
   "source": [
    "Map calls and list comprehensions are both used in Python for creating new sequences by performing a transformation on each element of an existing sequence. However, there are some differences between the two:\n",
    "\n",
    "Syntax: List comprehensions use square brackets to surround the expression to create a new list, whereas the map function returns a generator object that needs to be converted to a list.\n",
    "\n",
    "Speed: The map function is faster than the list comprehension when iterating over very large sequences because map returns a generator object that computes the values on the fly, whereas a list comprehension creates a list in memory.\n",
    "\n",
    "Functionality: Map applies the same function to every element in the sequence, while list comprehensions are more versatile and can apply different expressions to each element in the sequence.\n",
    "\n",
    "Memory usage: List comprehensions can create a new list in memory, which can be a disadvantage when dealing with large sequences. In contrast, map returns a generator object that doesn't create a new list in memory, making it more memory-efficient.\n",
    "\n",
    "Readability: List comprehensions are generally more readable and easier to understand than map calls because they are concise and have a clear syntax."
   ]
  },
  {
   "cell_type": "code",
   "execution_count": 1,
   "id": "a3467f10",
   "metadata": {},
   "outputs": [
    {
     "name": "stdout",
     "output_type": "stream",
     "text": [
      "[0, 2, 4, 6, 8]\n",
      "[0, 2, 4, 6, 8]\n"
     ]
    }
   ],
   "source": [
    "# Using a list comprehension to create a new list of even numbers\n",
    "even_numbers = [x for x in range(10) if x % 2 == 0]\n",
    "print(even_numbers) \n",
    "\n",
    "# Using the map function to create a new list of even numbers\n",
    "even_numbers = list(map(lambda x: x if x % 2 == 0 else None, range(10)))\n",
    "even_numbers = [x for x in even_numbers if x is not None]\n",
    "print(even_numbers)"
   ]
  },
  {
   "cell_type": "code",
   "execution_count": null,
   "id": "b615fbe6",
   "metadata": {},
   "outputs": [],
   "source": []
  }
 ],
 "metadata": {
  "kernelspec": {
   "display_name": "py_class",
   "language": "python",
   "name": "py_class"
  },
  "language_info": {
   "codemirror_mode": {
    "name": "ipython",
    "version": 3
   },
   "file_extension": ".py",
   "mimetype": "text/x-python",
   "name": "python",
   "nbconvert_exporter": "python",
   "pygments_lexer": "ipython3",
   "version": "3.9.7"
  }
 },
 "nbformat": 4,
 "nbformat_minor": 5
}
