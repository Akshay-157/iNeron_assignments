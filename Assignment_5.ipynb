{
 "cells": [
  {
   "cell_type": "markdown",
   "id": "3e689e5d",
   "metadata": {},
   "source": [
    "1. What does an empty dictionary's code look like?"
   ]
  },
  {
   "cell_type": "code",
   "execution_count": 1,
   "id": "27bbe956",
   "metadata": {},
   "outputs": [
    {
     "data": {
      "text/plain": [
       "dict"
      ]
     },
     "execution_count": 1,
     "metadata": {},
     "output_type": "execute_result"
    }
   ],
   "source": [
    "dict_ = {}#empty dictionary\n",
    "type(dict_)"
   ]
  },
  {
   "cell_type": "markdown",
   "id": "32be0cad",
   "metadata": {},
   "source": [
    "2. What is the value of a dictionary value with the key 'foo' and the value 42?"
   ]
  },
  {
   "cell_type": "code",
   "execution_count": 2,
   "id": "3dac4488",
   "metadata": {},
   "outputs": [
    {
     "name": "stdout",
     "output_type": "stream",
     "text": [
      "{'foo': 43}\n"
     ]
    }
   ],
   "source": [
    "sample_dict = {\"foo\": 43}\n",
    "print(sample_dict)"
   ]
  },
  {
   "cell_type": "markdown",
   "id": "82e77eac",
   "metadata": {},
   "source": [
    "3. What is the most significant distinction between a dictionary and a list?"
   ]
  },
  {
   "cell_type": "raw",
   "id": "b2b4b7df",
   "metadata": {},
   "source": [
    "List:\n",
    "1. List is a collection of index values pairs.\n",
    "2. List is created by placing elements in [ ] separated by commas “, “\n",
    "3. The indices of list are integers starting from 0.\n",
    "4. The elements are accessed via indices.\n",
    "5. The order of the elements entered are maintained.\n",
    "\n",
    "Dictionary:\n",
    "1. Dictionary is a hashed structure of key and value pairs.\n",
    "2. Dictionary is created by placing elements in { } as “key”:”value”, each key value pair is separated by commas “, “.\n",
    "3. The keys of dictionary can be of any data type.\n",
    "4. The elements are accessed via key-values.\n",
    "5. There is no guarantee for maintaining order."
   ]
  },
  {
   "cell_type": "markdown",
   "id": "e17175d8",
   "metadata": {},
   "source": [
    "4. What happens if you try to access spam['foo'] if spam is {'bar': 100}?"
   ]
  },
  {
   "cell_type": "code",
   "execution_count": 3,
   "id": "92d20182",
   "metadata": {},
   "outputs": [
    {
     "ename": "KeyError",
     "evalue": "'foo'",
     "output_type": "error",
     "traceback": [
      "\u001b[0;31m---------------------------------------------------------------------------\u001b[0m",
      "\u001b[0;31mKeyError\u001b[0m                                  Traceback (most recent call last)",
      "\u001b[0;32m/var/folders/rq/2380dffn2dq8xqckp53jg5x80000gn/T/ipykernel_44610/4208001183.py\u001b[0m in \u001b[0;36m<module>\u001b[0;34m\u001b[0m\n\u001b[1;32m      1\u001b[0m \u001b[0mspam\u001b[0m \u001b[0;34m=\u001b[0m \u001b[0;34m{\u001b[0m\u001b[0;34m'bar'\u001b[0m\u001b[0;34m:\u001b[0m \u001b[0;36m100\u001b[0m\u001b[0;34m}\u001b[0m\u001b[0;34m\u001b[0m\u001b[0;34m\u001b[0m\u001b[0m\n\u001b[0;32m----> 2\u001b[0;31m \u001b[0mspam\u001b[0m\u001b[0;34m[\u001b[0m\u001b[0;34m\"foo\"\u001b[0m\u001b[0;34m]\u001b[0m\u001b[0;34m\u001b[0m\u001b[0;34m\u001b[0m\u001b[0m\n\u001b[0m\u001b[1;32m      3\u001b[0m \u001b[0;31m#we get key error, because \"foo\" is not a key in the spam dictionary\u001b[0m\u001b[0;34m\u001b[0m\u001b[0;34m\u001b[0m\u001b[0m\n",
      "\u001b[0;31mKeyError\u001b[0m: 'foo'"
     ]
    }
   ],
   "source": [
    "spam = {'bar': 100}\n",
    "spam[\"foo\"]\n",
    "#we get key error, because \"foo\" is not a key in the spam dictionary"
   ]
  },
  {
   "cell_type": "markdown",
   "id": "d1f03796",
   "metadata": {},
   "source": [
    "5. If a dictionary is stored in spam, what is the difference between the expressions 'cat' in spam and 'cat' in spam.keys()?"
   ]
  },
  {
   "cell_type": "raw",
   "id": "54246898",
   "metadata": {},
   "source": [
    "\"cat\" in spam returns true, if the \"cat\" is found as a key in the spam.\n",
    "'cat' in spam.keys() also return true. In this case, the spam.keys() creates a iterable view of the keys and then searches for the \"cat\" key in the view."
   ]
  },
  {
   "cell_type": "markdown",
   "id": "8d8788ff",
   "metadata": {},
   "source": [
    "6. If a dictionary is stored in spam, what is the difference between the expressions 'cat' in spam and 'cat' in spam.values()?"
   ]
  },
  {
   "cell_type": "raw",
   "id": "36316490",
   "metadata": {},
   "source": [
    "'cat' in spam returns true, if the \"cat\" is found as a key in the spam.\n",
    "'cat' in spam.values() returns true, if the \"cat\" is found as a value for a key in the spam."
   ]
  },
  {
   "cell_type": "markdown",
   "id": "a9b92296",
   "metadata": {},
   "source": [
    "7. What is a shortcut for the following code?\n",
    "if 'color' not in spam:\n",
    "spam['color'] = 'black'"
   ]
  },
  {
   "cell_type": "raw",
   "id": "d52af52a",
   "metadata": {},
   "source": [
    "#using update method we can add new key to a dictionary\n",
    "spam.update{\"color\": \"black\"}"
   ]
  },
  {
   "cell_type": "markdown",
   "id": "e893e5c2",
   "metadata": {},
   "source": [
    "8. How do you \"pretty print\" dictionary values using which module and function?"
   ]
  },
  {
   "cell_type": "raw",
   "id": "1ad27715",
   "metadata": {},
   "source": [
    "The pprint module provides a capability to “pretty-print” . Using pprint() function we can print the dictionary values."
   ]
  },
  {
   "cell_type": "code",
   "execution_count": 4,
   "id": "8bf4207c",
   "metadata": {},
   "outputs": [
    {
     "name": "stdout",
     "output_type": "stream",
     "text": [
      "{'brand': 'Ford', 'model': 'Mustang', 'year': 1964}\n"
     ]
    }
   ],
   "source": [
    "#example:\n",
    "thisdict = {\"brand\": \"Ford\",\"model\": \"Mustang\",\"year\": 1964}\n",
    "\n",
    "print(thisdict)"
   ]
  },
  {
   "cell_type": "code",
   "execution_count": 5,
   "id": "60b6683c",
   "metadata": {},
   "outputs": [
    {
     "name": "stdout",
     "output_type": "stream",
     "text": [
      "{'brand': 'Ford', 'model': 'Mustang', 'year': 1964}\n"
     ]
    }
   ],
   "source": [
    "from pprint  import pprint\n",
    "\n",
    "pprint(thisdict) #by default pprint keeps objects on a single line if it can, and breaks them onto multiple lines if they don’t fit within the allowed width."
   ]
  },
  {
   "cell_type": "code",
   "execution_count": 6,
   "id": "896d84ce",
   "metadata": {},
   "outputs": [
    {
     "name": "stdout",
     "output_type": "stream",
     "text": [
      "{'brand': 'Ford',\n",
      " 'model': 'Mustang',\n",
      " 'year': 1964}\n"
     ]
    }
   ],
   "source": [
    "pprint(thisdict, width=1) "
   ]
  },
  {
   "cell_type": "code",
   "execution_count": null,
   "id": "50539a8d",
   "metadata": {},
   "outputs": [],
   "source": []
  }
 ],
 "metadata": {
  "kernelspec": {
   "display_name": "Python 3 (ipykernel)",
   "language": "python",
   "name": "python3"
  },
  "language_info": {
   "codemirror_mode": {
    "name": "ipython",
    "version": 3
   },
   "file_extension": ".py",
   "mimetype": "text/x-python",
   "name": "python",
   "nbconvert_exporter": "python",
   "pygments_lexer": "ipython3",
   "version": "3.9.7"
  }
 },
 "nbformat": 4,
 "nbformat_minor": 5
}
