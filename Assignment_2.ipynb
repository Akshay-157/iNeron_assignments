{
 "cells": [
  {
   "cell_type": "markdown",
   "id": "2e9b559b",
   "metadata": {},
   "source": [
    "1. What are the two values of the Boolean data type? How do you write them?"
   ]
  },
  {
   "cell_type": "raw",
   "id": "ed4550a7",
   "metadata": {},
   "source": [
    "The two values of Boolean data types are True and False. Generally, it is used to represent the truth values of the expressions\n",
    "\n",
    "a = True\n",
    " \n",
    "b = False"
   ]
  },
  {
   "cell_type": "markdown",
   "id": "11c39105",
   "metadata": {},
   "source": [
    "2. What are the three different types of Boolean operators?"
   ]
  },
  {
   "cell_type": "raw",
   "id": "33e34beb",
   "metadata": {},
   "source": [
    "The three different types of Boolean operators are AND, OR, and NOT"
   ]
  },
  {
   "cell_type": "markdown",
   "id": "4726b791",
   "metadata": {},
   "source": [
    "3. Make a list of each Boolean operator's truth tables (i.e. every possible combination of Boolean values for the operator and what it evaluate )."
   ]
  },
  {
   "cell_type": "code",
   "execution_count": 1,
   "id": "d893c34e",
   "metadata": {},
   "outputs": [
    {
     "name": "stdout",
     "output_type": "stream",
     "text": [
      "Boolean OR Operator: [True, True, False, False]\n",
      "Boolean OR Operator: [True, False, True, False]\n",
      "Boolean NOT Operator: False\n"
     ]
    }
   ],
   "source": [
    "#Boolean OR Operator\n",
    "A = [True, True, False, False]\n",
    "B = [True, False, True, False]\n",
    "print(\"Boolean OR Operator:\", A or B)\n",
    "\n",
    "#Boolean And Operator\n",
    "A = [True, True, False, False]\n",
    "B = [True, False, True, False]\n",
    "print(\"Boolean OR Operator:\", A and B)\n",
    "\n",
    "#Boolean Not Operator\n",
    "A = True\n",
    "print(\"Boolean NOT Operator:\", not A)"
   ]
  },
  {
   "cell_type": "markdown",
   "id": "34fbc1b2",
   "metadata": {},
   "source": [
    "4. What are the values of the following expressions?\n",
    "(5 > 4) and (3 == 5)\n",
    "not (5 > 4)\n",
    "(5 > 4) or (3 == 5)\n",
    "not ((5 > 4) or (3 == 5))\n",
    "(True and True) and (True == False)\n",
    "(not False) or (not True)"
   ]
  },
  {
   "cell_type": "code",
   "execution_count": 2,
   "id": "e9063435",
   "metadata": {},
   "outputs": [
    {
     "data": {
      "text/plain": [
       "False"
      ]
     },
     "execution_count": 2,
     "metadata": {},
     "output_type": "execute_result"
    }
   ],
   "source": [
    "(5 > 4) and (3 == 5)"
   ]
  },
  {
   "cell_type": "code",
   "execution_count": 3,
   "id": "ab8f8e31",
   "metadata": {},
   "outputs": [
    {
     "data": {
      "text/plain": [
       "False"
      ]
     },
     "execution_count": 3,
     "metadata": {},
     "output_type": "execute_result"
    }
   ],
   "source": [
    "not (5 > 4)"
   ]
  },
  {
   "cell_type": "code",
   "execution_count": 4,
   "id": "636025d5",
   "metadata": {},
   "outputs": [
    {
     "data": {
      "text/plain": [
       "True"
      ]
     },
     "execution_count": 4,
     "metadata": {},
     "output_type": "execute_result"
    }
   ],
   "source": [
    "(5 > 4) or (3 == 5)"
   ]
  },
  {
   "cell_type": "code",
   "execution_count": 5,
   "id": "fad38fad",
   "metadata": {},
   "outputs": [
    {
     "data": {
      "text/plain": [
       "False"
      ]
     },
     "execution_count": 5,
     "metadata": {},
     "output_type": "execute_result"
    }
   ],
   "source": [
    "not ((5 > 4) or (3 == 5))"
   ]
  },
  {
   "cell_type": "code",
   "execution_count": 6,
   "id": "bc9aa3cd",
   "metadata": {},
   "outputs": [
    {
     "data": {
      "text/plain": [
       "False"
      ]
     },
     "execution_count": 6,
     "metadata": {},
     "output_type": "execute_result"
    }
   ],
   "source": [
    "(True and True) and (True == False)"
   ]
  },
  {
   "cell_type": "code",
   "execution_count": 7,
   "id": "6734f506",
   "metadata": {},
   "outputs": [
    {
     "data": {
      "text/plain": [
       "True"
      ]
     },
     "execution_count": 7,
     "metadata": {},
     "output_type": "execute_result"
    }
   ],
   "source": [
    "(not False) or (not True)"
   ]
  },
  {
   "cell_type": "markdown",
   "id": "6783aa74",
   "metadata": {},
   "source": [
    "5. What are the six comparison operators?"
   ]
  },
  {
   "cell_type": "raw",
   "id": "3a8f6899",
   "metadata": {},
   "source": [
    "1. Equal: ==\n",
    "2. not equal: !=\n",
    "3. Greater Than: >\n",
    "4. Less Than: <\n",
    "5. Greater than or equal to: >=\n",
    "6. Less than or equal to: <="
   ]
  },
  {
   "cell_type": "markdown",
   "id": "3d9509dc",
   "metadata": {},
   "source": [
    "6. How do you tell the difference between the equal to and assignment operators? Describe a condition and when you would use one."
   ]
  },
  {
   "cell_type": "raw",
   "id": "590a04e8",
   "metadata": {},
   "source": [
    "The “=” is an assignment operator is used to assign the value on the right to the variable on the left.\n",
    "Example:\n",
    "a = 10; #the variable a is assigned with value 10\n",
    "\n",
    "The ‘==’ operator checks whether the two given operands are equal or not. If so, it returns true. Otherwise it returns false.\n",
    "Example:\n",
    "10==10 #This will return true."
   ]
  },
  {
   "cell_type": "markdown",
   "id": "82d9124a",
   "metadata": {},
   "source": [
    "7. Identify the three blocks in this code:\n",
    "spam = 0\n",
    "if spam == 10:\n",
    "print('eggs')\n",
    "if spam > 5:\n",
    "print('bacon')\n",
    "else:\n",
    "print('ham')\n",
    "print('spam')\n",
    "print('spam')\n"
   ]
  },
  {
   "cell_type": "code",
   "execution_count": 8,
   "id": "8bca223d",
   "metadata": {},
   "outputs": [
    {
     "name": "stdout",
     "output_type": "stream",
     "text": [
      "ham\n",
      "spam\n",
      "spam\n"
     ]
    }
   ],
   "source": [
    "spam = 0\n",
    "if spam == 10:\n",
    "    print('eggs')\n",
    "if spam > 5:\n",
    "    print('bacon')\n",
    "else:\n",
    "    print('ham')\n",
    "    print('spam')\n",
    "    print('spam')"
   ]
  },
  {
   "cell_type": "markdown",
   "id": "bbeef9f0",
   "metadata": {},
   "source": [
    "8. Write code that prints Hello if 1 is stored in spam, prints Howdy if 2 is stored in spam, and prints Greetings! if anything else is stored in spam."
   ]
  },
  {
   "cell_type": "code",
   "execution_count": 9,
   "id": "07b22811",
   "metadata": {},
   "outputs": [
    {
     "name": "stdout",
     "output_type": "stream",
     "text": [
      "1\n"
     ]
    }
   ],
   "source": [
    "spam = input()"
   ]
  },
  {
   "cell_type": "code",
   "execution_count": 10,
   "id": "0b7c834a",
   "metadata": {},
   "outputs": [
    {
     "name": "stdout",
     "output_type": "stream",
     "text": [
      "Hello\n"
     ]
    }
   ],
   "source": [
    "if spam.isnumeric():\n",
    "    spam = int(spam)\n",
    "    if spam == 1:\n",
    "        print(\"Hello\")\n",
    "    elif spam == 2:\n",
    "        print(\"Howdy\")\n",
    "    else:\n",
    "        print(\"Greetings!\")\n",
    "else:\n",
    "    print(\"Greetings!\")"
   ]
  },
  {
   "cell_type": "markdown",
   "id": "050efdc4",
   "metadata": {},
   "source": [
    "9. If your programme is stuck in an endless loop, what keys you’ll press?"
   ]
  },
  {
   "cell_type": "raw",
   "id": "e1f0a42a",
   "metadata": {},
   "source": [
    "We have two options,\n",
    "1. We can press CTRL + C to stop the endless loop\n",
    "2. We can use the interrupt kernel button present in the toolbar at the top. This will also interrupt the execution of the programme"
   ]
  },
  {
   "cell_type": "markdown",
   "id": "7cad75d4",
   "metadata": {},
   "source": [
    "10. How can you tell the difference between break and continue?"
   ]
  },
  {
   "cell_type": "raw",
   "id": "e2e214cb",
   "metadata": {},
   "source": [
    "break: The break statement will terminate the execution of the loop in which the statement is present and the control will proceed with the next lines of code present outside the loop.\n",
    "continue: The contiinue statement works similar to the break statement. However, unlike the break statement which terminates the loop, the continue statement will proceed with the next iteration of the loop."
   ]
  },
  {
   "cell_type": "markdown",
   "id": "1a5a053f",
   "metadata": {},
   "source": [
    "11. In a for loop, what is the difference between range(10), range(0, 10), and range(0, 10, 1)?"
   ]
  },
  {
   "cell_type": "raw",
   "id": "1ddc3f8f",
   "metadata": {},
   "source": [
    "range(stop)\n",
    "range(10): we will get a series of numbers that starts at 0 and includes every whole number up to, but not including, 10."
   ]
  },
  {
   "cell_type": "code",
   "execution_count": 11,
   "id": "50858d32",
   "metadata": {},
   "outputs": [
    {
     "name": "stdout",
     "output_type": "stream",
     "text": [
      "0\n",
      "1\n",
      "2\n",
      "3\n",
      "4\n",
      "5\n",
      "6\n",
      "7\n",
      "8\n",
      "9\n"
     ]
    }
   ],
   "source": [
    "for i in range(10):\n",
    "    print(i)"
   ]
  },
  {
   "cell_type": "raw",
   "id": "7e0eb3a1",
   "metadata": {},
   "source": [
    "range(start, stop)\n",
    "range(0,10): we get to decide not only where the series of numbers stops but also where it starts, so we don’t have to start at 0 all the time. We can use range() to generate a series of numbers from X to Y using a range(X, Y)."
   ]
  },
  {
   "cell_type": "code",
   "execution_count": 12,
   "id": "63799ced",
   "metadata": {},
   "outputs": [
    {
     "name": "stdout",
     "output_type": "stream",
     "text": [
      "0\n",
      "1\n",
      "2\n",
      "3\n",
      "4\n",
      "5\n",
      "6\n",
      "7\n",
      "8\n",
      "9\n"
     ]
    }
   ],
   "source": [
    "for i in range(0,10):\n",
    "    print(i)"
   ]
  },
  {
   "cell_type": "raw",
   "id": "79079106",
   "metadata": {},
   "source": [
    "range(start, stop, step)\n",
    "range(0,10,1): We can choose not only where the series of numbers will start and stop but also how big the difference will be between one number and the next. If  we doesn’t provide a step, then range() will automatically behave as if the step is 1. "
   ]
  },
  {
   "cell_type": "code",
   "execution_count": 13,
   "id": "b88e31c7",
   "metadata": {},
   "outputs": [
    {
     "name": "stdout",
     "output_type": "stream",
     "text": [
      "0\n",
      "1\n",
      "2\n",
      "3\n",
      "4\n",
      "5\n",
      "6\n",
      "7\n",
      "8\n",
      "9\n"
     ]
    }
   ],
   "source": [
    "for i in range(0,10,1):\n",
    "    print(i)"
   ]
  },
  {
   "cell_type": "markdown",
   "id": "8170f2d9",
   "metadata": {},
   "source": [
    "12. Write a short program that prints the numbers 1 to 10 using a for loop. Then write an equivalent program that prints the numbers 1 to 10 using a while loop."
   ]
  },
  {
   "cell_type": "code",
   "execution_count": 14,
   "id": "f31e71f9",
   "metadata": {},
   "outputs": [
    {
     "name": "stdout",
     "output_type": "stream",
     "text": [
      "1\n",
      "2\n",
      "3\n",
      "4\n",
      "5\n",
      "6\n",
      "7\n",
      "8\n",
      "9\n",
      "10\n"
     ]
    }
   ],
   "source": [
    "for i in range(1, 11):\n",
    "    print(i)"
   ]
  },
  {
   "cell_type": "code",
   "execution_count": 15,
   "id": "3d0f2256",
   "metadata": {},
   "outputs": [
    {
     "name": "stdout",
     "output_type": "stream",
     "text": [
      "1\n",
      "2\n",
      "3\n",
      "4\n",
      "5\n",
      "6\n",
      "7\n",
      "8\n",
      "9\n",
      "10\n"
     ]
    }
   ],
   "source": [
    "i = 1\n",
    "while i < 11: #while i <=10:\n",
    "    print(i)\n",
    "    i = i + 1"
   ]
  },
  {
   "cell_type": "markdown",
   "id": "ede78d4e",
   "metadata": {},
   "source": [
    "13. If you had a function named bacon() inside a module named spam, how would you call it after importing spam?"
   ]
  },
  {
   "cell_type": "raw",
   "id": "241a3be1",
   "metadata": {},
   "source": [
    "import spam\n",
    "method_to_call = getattr(spam, 'bacon')\n",
    "result = method_to_call()\n",
    "\n",
    "or \n",
    "\n",
    "result = getattr(spam, 'bacon')()"
   ]
  }
 ],
 "metadata": {
  "kernelspec": {
   "display_name": "Python 3 (ipykernel)",
   "language": "python",
   "name": "python3"
  },
  "language_info": {
   "codemirror_mode": {
    "name": "ipython",
    "version": 3
   },
   "file_extension": ".py",
   "mimetype": "text/x-python",
   "name": "python",
   "nbconvert_exporter": "python",
   "pygments_lexer": "ipython3",
   "version": "3.9.7"
  }
 },
 "nbformat": 4,
 "nbformat_minor": 5
}
